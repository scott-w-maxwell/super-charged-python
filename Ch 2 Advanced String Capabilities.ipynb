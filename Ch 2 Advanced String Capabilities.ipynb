{
 "cells": [
  {
   "cell_type": "markdown",
   "id": "c5467bba-fdd2-49f5-bcde-98995ea5a4b4",
   "metadata": {},
   "source": [
    "# 2.1 Strings Are Immutable"
   ]
  },
  {
   "cell_type": "markdown",
   "id": "5106dba2-c5e9-4f85-be9f-fc677402a234",
   "metadata": {},
   "source": [
    "Strings are immutable...\n",
    "\n",
    "One advantage of immutable types:\n",
    "\n",
    "- Strings can be used as a key for a dictionary\n",
    "- Their usage is optimized internally. ex. Tuples are somewhat more efficient than using lists.\n",
    "\n",
    "A limitation is that data cannot be changed in place"
   ]
  },
  {
   "cell_type": "code",
   "execution_count": 2,
   "id": "f2993027-4699-4cb0-a689-ce03c2124cab",
   "metadata": {},
   "outputs": [
    {
     "ename": "TypeError",
     "evalue": "'str' object does not support item assignment",
     "output_type": "error",
     "traceback": [
      "\u001b[0;31m---------------------------------------------------------------------------\u001b[0m",
      "\u001b[0;31mTypeError\u001b[0m                                 Traceback (most recent call last)",
      "\u001b[0;32m/tmp/ipykernel_25643/3165380980.py\u001b[0m in \u001b[0;36m<module>\u001b[0;34m\u001b[0m\n\u001b[1;32m      1\u001b[0m \u001b[0mmy_str\u001b[0m \u001b[0;34m=\u001b[0m \u001b[0;34m'hello, Dave, this is Hal.'\u001b[0m\u001b[0;34m\u001b[0m\u001b[0;34m\u001b[0m\u001b[0m\n\u001b[0;32m----> 2\u001b[0;31m \u001b[0mmy_str\u001b[0m\u001b[0;34m[\u001b[0m\u001b[0;36m0\u001b[0m\u001b[0;34m]\u001b[0m \u001b[0;34m=\u001b[0m \u001b[0;34m'H'\u001b[0m  \u001b[0;31m#This causes an error since strings are immutable\u001b[0m\u001b[0;34m\u001b[0m\u001b[0;34m\u001b[0m\u001b[0m\n\u001b[0m",
      "\u001b[0;31mTypeError\u001b[0m: 'str' object does not support item assignment"
     ]
    }
   ],
   "source": [
    "my_str = 'hello, Dave, this is Hal.'\n",
    "my_str[0] = 'H'  #This causes an error since strings are immutable"
   ]
  },
  {
   "cell_type": "code",
   "execution_count": 4,
   "id": "c7fd0fa7-c2ff-48d9-94f5-690a9f142a94",
   "metadata": {},
   "outputs": [],
   "source": [
    "my_str = 'hello'\n",
    "my_str = 'Hello' # This is valid as an entire new string is created"
   ]
  },
  {
   "cell_type": "markdown",
   "id": "453a9cc0-cf10-41a4-a97c-3b1cecda954a",
   "metadata": {},
   "source": [
    "# 2.2 Numeric Conversions, Including Binary"
   ]
  },
  {
   "cell_type": "markdown",
   "id": "c70b4f4b-ca28-48c3-a294-3a507d549b41",
   "metadata": {},
   "source": [
    "Type names in Python implicitly invoke type conversions wherever such conversions are supported.\n",
    "\n",
    "```\n",
    "type(data_object)\n",
    "```\n"
   ]
  },
  {
   "cell_type": "markdown",
   "id": "8a1bac77-068f-409a-8715-16bc0ee93e0a",
   "metadata": {},
   "source": [
    "s = '45'\n",
    "n = int(s)\n",
    "x = float(s)\n",
    "\n",
    "print('n = ', n, type(n))\n",
    "print('x = ', x, type(x))\n"
   ]
  },
  {
   "cell_type": "markdown",
   "id": "fbe80152-3a9e-4863-a6b4-cff7452fc7f3",
   "metadata": {},
   "source": [
    "If the appropriate conversion does not exist, Python raises a `ValueError` exception"
   ]
  },
  {
   "cell_type": "markdown",
   "id": "d1011b50-6b46-4542-b49b-a4ab6ce6dd33",
   "metadata": {},
   "source": [
    "The **int** conversion, unlike most conversions, takes an optional second argument. This argument enables you to convert a string to anumber while interpreting it in a different radix, such as binary."
   ]
  },
  {
   "cell_type": "code",
   "execution_count": 12,
   "id": "1226ec39-ac93-42e2-863e-95659de3efd5",
   "metadata": {},
   "outputs": [
    {
     "name": "stdout",
     "output_type": "stream",
     "text": [
      "17\n"
     ]
    }
   ],
   "source": [
    "n = int('10001', 2) # 10001 = 17 in decimal\n",
    "print(n)"
   ]
  },
  {
   "cell_type": "markdown",
   "id": "b40dd946-2eb0-4a84-a35c-e9f5ac90253a",
   "metadata": {},
   "source": [
    "Converting a number to a string enables you to do operations such as counting the number of printable digits or counting the number of times a specific digit occurs. For example, the following statements print the length of the number 10007."
   ]
  },
  {
   "cell_type": "code",
   "execution_count": 13,
   "id": "b87292d7-677f-456f-a97a-bd3bf2de2999",
   "metadata": {},
   "outputs": [
    {
     "name": "stdout",
     "output_type": "stream",
     "text": [
      "The length of 1007 is 4 digits.\n"
     ]
    }
   ],
   "source": [
    "n = 1007\n",
    "s = str(n) # convert to '1007'\n",
    "print('The length of', n, 'is', len(s), 'digits.')"
   ]
  },
  {
   "cell_type": "markdown",
   "id": "4d74066c-1c42-42ae-8a43-3b8135a63610",
   "metadata": {},
   "source": [
    "# 2.3 - String Operators (+, =, *, >, etc.)"
   ]
  },
  {
   "cell_type": "markdown",
   "id": "3cd5f42c-bfb9-4ab0-a76f-4b4afd798171",
   "metadata": {},
   "source": [
    "dog1_str = 'Rover'\n",
    "dog2_str = dog1_str\n",
    "\n",
    "dog1_str == dog2_str #True\n",
    "dog1_str == 'Rover' #True"
   ]
  },
  {
   "cell_type": "markdown",
   "id": "f75166b9-3450-4e67-a8c1-1d57edd02d2b",
   "metadata": {},
   "source": [
    "You can use **lower()** and **upper()** methods to convert to lower or upper case.\n",
    "\n",
    "However, if you are working with strings that user wider Unicode character set, the safest way to do case-insensitive comparisons is to use the **casefold()** method..."
   ]
  },
  {
   "cell_type": "code",
   "execution_count": 9,
   "id": "b3483ad3-faf7-4a01-b2b5-a31f775d7877",
   "metadata": {},
   "outputs": [
    {
     "data": {
      "text/plain": [
       "'dog'"
      ]
     },
     "execution_count": 9,
     "metadata": {},
     "output_type": "execute_result"
    }
   ],
   "source": [
    "'DOG'.casefold()"
   ]
  },
  {
   "cell_type": "code",
   "execution_count": 12,
   "id": "ab2ba599-3ef5-4a99-b683-eea5063bb08d",
   "metadata": {},
   "outputs": [
    {
     "data": {
      "text/plain": [
       "True"
      ]
     },
     "execution_count": 12,
     "metadata": {},
     "output_type": "execute_result"
    }
   ],
   "source": [
    "'DOG'.lower() == 'DOG'.casefold()"
   ]
  },
  {
   "cell_type": "code",
   "execution_count": 13,
   "id": "3509824e-3e1c-482c-b6c7-99364f9bc8f3",
   "metadata": {},
   "outputs": [],
   "source": [
    "str1 = 'dog'\n",
    "str2 = 'elephant'"
   ]
  },
  {
   "cell_type": "code",
   "execution_count": 16,
   "id": "c9baf3e3-a17d-4745-8134-185f035109c8",
   "metadata": {},
   "outputs": [
    {
     "data": {
      "text/plain": [
       "False"
      ]
     },
     "execution_count": 16,
     "metadata": {},
     "output_type": "execute_result"
    }
   ],
   "source": [
    "str1 > str2 # returns false since str1 does not have more characters than str2"
   ]
  },
  {
   "cell_type": "code",
   "execution_count": 15,
   "id": "aff2170b-687f-4227-a648-16e4b74368a6",
   "metadata": {},
   "outputs": [
    {
     "data": {
      "text/plain": [
       "True"
      ]
     },
     "execution_count": 15,
     "metadata": {},
     "output_type": "execute_result"
    }
   ],
   "source": [
    "str1 < str2 # returns true since str1 has less characters than str2"
   ]
  },
  {
   "cell_type": "code",
   "execution_count": 19,
   "id": "47d47ce0-160c-4a0e-ac87-a4c0d2801bfb",
   "metadata": {},
   "outputs": [
    {
     "data": {
      "text/plain": [
       "'dogdogdogdogdog'"
      ]
     },
     "execution_count": 19,
     "metadata": {},
     "output_type": "execute_result"
    }
   ],
   "source": [
    "str1 * 5 # Multiplication..."
   ]
  },
  {
   "cell_type": "markdown",
   "id": "b6b90709-f47d-43eb-84d3-c4ef9e6996f9",
   "metadata": {},
   "source": [
    "Careful when using **is** and **is not** operators. These operators test for whether or not two values are *the same object in memory*."
   ]
  },
  {
   "cell_type": "code",
   "execution_count": 28,
   "id": "685e92a6-63d2-47ef-af45-bb9ce39e30a4",
   "metadata": {},
   "outputs": [
    {
     "name": "stdout",
     "output_type": "stream",
     "text": [
      "str1 is str2: True\n"
     ]
    }
   ],
   "source": [
    "str1 = 'dog'\n",
    "str2 = 'dog'\n",
    "\n",
    "print('str1 is str2:', str1 is str2) # this is only true due since python pointing both var names to the same object in memory"
   ]
  },
  {
   "cell_type": "markdown",
   "id": "be9efb0f-1865-4139-b573-dee17d4362fa",
   "metadata": {},
   "source": [
    "# 2.4 Indexing and Slicing"
   ]
  },
  {
   "cell_type": "markdown",
   "id": "4e242ec2-b3c6-427f-b2a8-bfa1fb5597d0",
   "metadata": {},
   "source": [
    "Indexing: Users a number to refer to an individual character, according to its place within the string\n",
    "\n",
    "Slicing: Is an ability more unique to Python. It enables you to refer to an entire substring of characters by using a compact syntax"
   ]
  },
  {
   "cell_type": "code",
   "execution_count": 63,
   "id": "f1d20f89-17fd-4143-a54c-a9324f2339bd",
   "metadata": {},
   "outputs": [
    {
     "data": {
      "text/plain": [
       "'K'"
      ]
     },
     "execution_count": 63,
     "metadata": {},
     "output_type": "execute_result"
    }
   ],
   "source": [
    "'King Me!'[0] # Indexing the first character"
   ]
  },
  {
   "cell_type": "code",
   "execution_count": 41,
   "id": "804a2df8-9f12-4455-9c92-661ac94121ed",
   "metadata": {},
   "outputs": [
    {
     "data": {
      "text/plain": [
       "'King'"
      ]
     },
     "execution_count": 41,
     "metadata": {},
     "output_type": "execute_result"
    }
   ],
   "source": [
    "'King Me!'[0:4] #Slicing 'King'"
   ]
  },
  {
   "cell_type": "code",
   "execution_count": 96,
   "id": "7d988128-35ee-474a-91bf-2d31eef0fa32",
   "metadata": {},
   "outputs": [
    {
     "data": {
      "text/plain": [
       "'Me!'"
      ]
     },
     "execution_count": 96,
     "metadata": {},
     "output_type": "execute_result"
    }
   ],
   "source": [
    "'King Me!'[5:8] #Slicing 'Me!' | Notice that there is not an 8th index but python permits this anyhow. This is because python does not raise an exception for out of range indexes for strings."
   ]
  },
  {
   "cell_type": "code",
   "execution_count": 60,
   "id": "369bb9a3-6244-4708-a844-c279e8844fdd",
   "metadata": {},
   "outputs": [
    {
     "data": {
      "text/plain": [
       "'King'"
      ]
     },
     "execution_count": 60,
     "metadata": {},
     "output_type": "execute_result"
    }
   ],
   "source": [
    "'King Me!'[:4] # Slicing everything before index 4"
   ]
  },
  {
   "cell_type": "code",
   "execution_count": 62,
   "id": "c48953d8-9223-42ec-ac31-b9830bad3fca",
   "metadata": {},
   "outputs": [
    {
     "data": {
      "text/plain": [
       "' Me!'"
      ]
     },
     "execution_count": 62,
     "metadata": {},
     "output_type": "execute_result"
    }
   ],
   "source": [
    "'King Me!'[4:] # Slicing everything after index 3"
   ]
  },
  {
   "cell_type": "markdown",
   "id": "4da99741-b3f4-4fd4-b321-c009574d40e7",
   "metadata": {},
   "source": [
    "The best way to think of it is this:\n",
    "[Everything after this index, including this index:Up to this index but bot included]"
   ]
  },
  {
   "cell_type": "code",
   "execution_count": 81,
   "id": "58f6035d-06cc-4bcb-aa75-0090cbd50471",
   "metadata": {},
   "outputs": [
    {
     "data": {
      "text/plain": [
       "'13579'"
      ]
     },
     "execution_count": 81,
     "metadata": {},
     "output_type": "execute_result"
    }
   ],
   "source": [
    "'0123456789'[1::2] # Get every other character"
   ]
  },
  {
   "cell_type": "code",
   "execution_count": 85,
   "id": "f84bed88-6a74-4091-bf6f-1641651596aa",
   "metadata": {},
   "outputs": [
    {
     "data": {
      "text/plain": [
       "'13579'"
      ]
     },
     "execution_count": 85,
     "metadata": {},
     "output_type": "execute_result"
    }
   ],
   "source": [
    "'0123456789'[1:10:2] # Get every other character"
   ]
  },
  {
   "cell_type": "code",
   "execution_count": 93,
   "id": "b59f1aec-7400-440d-856b-4377efe9c180",
   "metadata": {},
   "outputs": [
    {
     "data": {
      "text/plain": [
       "'0369'"
      ]
     },
     "execution_count": 93,
     "metadata": {},
     "output_type": "execute_result"
    }
   ],
   "source": [
    "'0123456789'[::3] # Get every third character"
   ]
  },
  {
   "cell_type": "code",
   "execution_count": 92,
   "id": "ebcd3210-5c33-4dbb-8092-452f87aaff0d",
   "metadata": {},
   "outputs": [
    {
     "data": {
      "text/plain": [
       "'!wow boB woW'"
      ]
     },
     "execution_count": 92,
     "metadata": {},
     "output_type": "execute_result"
    }
   ],
   "source": [
    " 'Wow Bob wow!'[::-1] #reverses string"
   ]
  },
  {
   "cell_type": "markdown",
   "id": "96115360-0864-4414-a4c4-d2a50b65a76b",
   "metadata": {},
   "source": [
    "# 2.5 Single-Character Functions (Character Codes)"
   ]
  },
  {
   "cell_type": "markdown",
   "id": "03ce1042-96ba-425f-86ca-820f530d3edb",
   "metadata": {},
   "source": [
    "**ord(str)** - Returns a numeric code\n",
    "\n",
    "**chr(n)** - Converts ASCII/Unicode rto a one-char str"
   ]
  },
  {
   "cell_type": "code",
   "execution_count": 8,
   "id": "0c97501c-dcc3-44d0-84a8-c1c07b7359b8",
   "metadata": {},
   "outputs": [
    {
     "data": {
      "text/plain": [
       "97"
      ]
     },
     "execution_count": 8,
     "metadata": {},
     "output_type": "execute_result"
    }
   ],
   "source": [
    "ord('a')"
   ]
  },
  {
   "cell_type": "code",
   "execution_count": 9,
   "id": "3e6f0502-787f-42f2-962b-988b2eacf318",
   "metadata": {},
   "outputs": [
    {
     "data": {
      "text/plain": [
       "'a'"
      ]
     },
     "execution_count": 9,
     "metadata": {},
     "output_type": "execute_result"
    }
   ],
   "source": [
    "chr(97)"
   ]
  },
  {
   "cell_type": "markdown",
   "id": "42ae41ad-76d3-43d9-babe-623dfe7d6a19",
   "metadata": {},
   "source": [
    "# 2.6 Building Strings Using \"join\""
   ]
  },
  {
   "cell_type": "markdown",
   "id": "1b6b0f5a-cc37-4c38-82d3-ff8b85ea734e",
   "metadata": {},
   "source": [
    "The folowing creates entirely new strings in memoryu, over and over again\n",
    "\n",
    "\n",
    "```\n",
    "a_str = 'Big'\n",
    "a_str += ' Bad'\n",
    "a_str += ' John'\n",
    "print(a_str) # prints 'Big Bad John'\n",
    "```"
   ]
  },
  {
   "cell_type": "markdown",
   "id": "acc9ae93-8388-4c4b-b629-a8d2f6b8debc",
   "metadata": {},
   "source": [
    "An alternative, which is slightly better, is to use the **join** method."
   ]
  },
  {
   "cell_type": "markdown",
   "id": "55f051f9-8fd8-43b5-acd8-7453f97e4294",
   "metadata": {},
   "source": [
    "```\n",
    "separator_string.join(list)\n",
    "```"
   ]
  },
  {
   "cell_type": "markdown",
   "id": "0d2c2ea1-79e0-4cf4-beb3-1c5115ea8bff",
   "metadata": {},
   "source": [
    "This method joins together all the strings in list to form one large string. If this list has more than one element, the text of separator_string is placed between  each consecutive pair of strings. An empty list is a valid separator string; in that case, all the string in the list are simply joined together.\n",
    "\n",
    "The use of **join** is usually more efficient at run time than concatenation, although you probably won't see the difference in execution time unless there are a great many elements."
   ]
  },
  {
   "cell_type": "code",
   "execution_count": 18,
   "id": "0b584656-46e5-4cc8-80dd-6f91010dde2c",
   "metadata": {},
   "outputs": [
    {
     "name": "stdout",
     "output_type": "stream",
     "text": [
      "a_lst before join:  ['A', 'B', 'C', 'D', 'E', 'F', 'G', 'H', 'I', 'J', 'K', 'L', 'M', 'N', 'O', 'P', 'Q', 'R', 'S', 'T', 'U', 'V', 'W', 'X', 'Y', 'Z']\n",
      "a_lst after join:  ABCDEFGHIJKLMNOPQRSTUVWXYZ\n"
     ]
    }
   ],
   "source": [
    "n = ord('A')\n",
    "a_lst = []\n",
    "for i in range(n, n + 26):\n",
    "    a_lst.append(chr(i))\n",
    "    \n",
    "\n",
    "print(\"a_lst before join: \", a_lst)\n",
    "\n",
    "s = ''.join(a_lst)\n",
    "print(\"a_lst after join: \", s)"
   ]
  },
  {
   "cell_type": "markdown",
   "id": "f80e9781-e441-4bd9-b9aa-8afee449b81e",
   "metadata": {},
   "source": [
    "Using .join can also mean less code depending on the task..."
   ]
  },
  {
   "cell_type": "code",
   "execution_count": 21,
   "id": "3c584fcb-4f7a-4928-bf63-3765b468a749",
   "metadata": {},
   "outputs": [
    {
     "name": "stdout",
     "output_type": "stream",
     "text": [
      "john, paul, george, ringo\n"
     ]
    }
   ],
   "source": [
    "def print_nice(a_lst):\n",
    "    s = ''\n",
    "    for item in a_lst:\n",
    "        s += item + ', '\n",
    "    if len(s) > 0:\n",
    "        s = s[:-2]\n",
    "    print(s)\n",
    "\n",
    "print_nice(['john', 'paul', 'george', 'ringo'])"
   ]
  },
  {
   "cell_type": "code",
   "execution_count": 22,
   "id": "18151f8c-3938-48dd-b809-5510307dccb8",
   "metadata": {},
   "outputs": [
    {
     "name": "stdout",
     "output_type": "stream",
     "text": [
      "john, paul, george, ringo\n"
     ]
    }
   ],
   "source": [
    "print(', '.join(['john', 'paul', 'george', 'ringo']))"
   ]
  },
  {
   "cell_type": "markdown",
   "id": "2cf368b6",
   "metadata": {},
   "source": [
    "# 2.7 Important String Functions"
   ]
  },
  {
   "cell_type": "markdown",
   "id": "49f1e4b4",
   "metadata": {},
   "source": [
    "Many of the functions described in this chapter are actually **methods**: members functions of the class that are called with the dot syntax.\n",
    "\n",
    "Python has some important built-in functions that are implemented for use with the fundemental types of the language. \n",
    "\n",
    "The ones listed here apply especially to strings.\n",
    "\n",
    "```\n",
    "input(prompt_str) # Prompt user for input string and return string from user\n",
    "len(str)          # Return num. of chars in str.\n",
    "max(str)          # Return char with highest code val\n",
    "min(str)          # Return char with lowest code val\n",
    "reversed(str)     # return iter with reversed str.\n",
    "sorted(str)       # return list with sorted str\n",
    "```"
   ]
  },
  {
   "cell_type": "code",
   "execution_count": 3,
   "id": "bcd79b2d",
   "metadata": {},
   "outputs": [],
   "source": [
    "str = 'This is a string'"
   ]
  },
  {
   "cell_type": "code",
   "execution_count": 4,
   "id": "a782d7a9",
   "metadata": {},
   "outputs": [
    {
     "name": "stdout",
     "output_type": "stream",
     "text": [
      "This is a stringtest\n"
     ]
    },
    {
     "data": {
      "text/plain": [
       "'test'"
      ]
     },
     "execution_count": 4,
     "metadata": {},
     "output_type": "execute_result"
    }
   ],
   "source": [
    "input(str)"
   ]
  },
  {
   "cell_type": "code",
   "execution_count": 5,
   "id": "e12588b5",
   "metadata": {},
   "outputs": [
    {
     "data": {
      "text/plain": [
       "16"
      ]
     },
     "execution_count": 5,
     "metadata": {},
     "output_type": "execute_result"
    }
   ],
   "source": [
    "len(str)"
   ]
  },
  {
   "cell_type": "code",
   "execution_count": 6,
   "id": "8ce0eba1",
   "metadata": {},
   "outputs": [
    {
     "data": {
      "text/plain": [
       "'t'"
      ]
     },
     "execution_count": 6,
     "metadata": {},
     "output_type": "execute_result"
    }
   ],
   "source": [
    "max(str)"
   ]
  },
  {
   "cell_type": "code",
   "execution_count": 7,
   "id": "6b8287d3",
   "metadata": {},
   "outputs": [
    {
     "data": {
      "text/plain": [
       "' '"
      ]
     },
     "execution_count": 7,
     "metadata": {},
     "output_type": "execute_result"
    }
   ],
   "source": [
    "min(str)"
   ]
  },
  {
   "cell_type": "code",
   "execution_count": 15,
   "id": "2f1d7cf9",
   "metadata": {},
   "outputs": [
    {
     "data": {
      "text/plain": [
       "'gnirts a si sihT'"
      ]
     },
     "execution_count": 15,
     "metadata": {},
     "output_type": "execute_result"
    }
   ],
   "source": [
    "''.join(reversed(str))"
   ]
  },
  {
   "cell_type": "code",
   "execution_count": 17,
   "id": "9430962f",
   "metadata": {},
   "outputs": [
    {
     "name": "stdout",
     "output_type": "stream",
     "text": [
      "[' ', ' ', ' ', 'T', 'a', 'g', 'h', 'i', 'i', 'i', 'n', 'r', 's', 's', 's', 't']\n"
     ]
    }
   ],
   "source": [
    "sorted_str = sorted(str)\n",
    "print(sorted_str)"
   ]
  },
  {
   "cell_type": "code",
   "execution_count": 19,
   "id": "f2ade8d0",
   "metadata": {},
   "outputs": [
    {
     "name": "stdout",
     "output_type": "stream",
     "text": [
      "32\n",
      "32\n",
      "32\n",
      "84\n",
      "97\n",
      "103\n",
      "104\n",
      "105\n",
      "105\n",
      "105\n",
      "110\n",
      "114\n",
      "115\n",
      "115\n",
      "115\n",
      "116\n"
     ]
    }
   ],
   "source": [
    "# In this case, the string  is sorted by the char value.\n",
    "\n",
    "for char in sorted_str:\n",
    "    print(ord(char))"
   ]
  },
  {
   "cell_type": "markdown",
   "id": "3c91e760",
   "metadata": {},
   "source": [
    "# 2.8 Binary, Hex, and Octal Conversion Functions"
   ]
  },
  {
   "cell_type": "code",
   "execution_count": 20,
   "id": "0bc773f8",
   "metadata": {},
   "outputs": [
    {
     "data": {
      "text/plain": [
       "'0b1111'"
      ]
     },
     "execution_count": 20,
     "metadata": {},
     "output_type": "execute_result"
    }
   ],
   "source": [
    "bin(15) # Decimal -> Binary"
   ]
  },
  {
   "cell_type": "code",
   "execution_count": 24,
   "id": "97ac1faf",
   "metadata": {},
   "outputs": [
    {
     "data": {
      "text/plain": [
       "'0xf'"
      ]
     },
     "execution_count": 24,
     "metadata": {},
     "output_type": "execute_result"
    }
   ],
   "source": [
    "hex(15) # Decimal -> Hexadecimal"
   ]
  },
  {
   "cell_type": "code",
   "execution_count": 25,
   "id": "055797c0",
   "metadata": {},
   "outputs": [
    {
     "data": {
      "text/plain": [
       "'0o17'"
      ]
     },
     "execution_count": 25,
     "metadata": {},
     "output_type": "execute_result"
    }
   ],
   "source": [
    "oct(15) # Decimal -> Octal"
   ]
  },
  {
   "cell_type": "markdown",
   "id": "df5adc61",
   "metadata": {},
   "source": [
    "These three functions automatically use the prefixes \"0b\", \"0o\", and \"0x\""
   ]
  },
  {
   "cell_type": "markdown",
   "id": "8bd2a8fa",
   "metadata": {},
   "source": [
    "# 2.9 Eimple Boolean (\"is\") Methods"
   ]
  },
  {
   "cell_type": "markdown",
   "id": "c9558076",
   "metadata": {},
   "source": [
    "All of these methods begin with the word \"is\" in their name. Return either True or False. They are often used with single-character strings.\n",
    "\n",
    "| Method Name/Syntax             | Returns True if |\n",
    "| :---               |    :----:   |\n",
    "| str.isalnum()      | All Characters are alphanumeric (a letter or digit) and there is at least one char|\n",
    "| str.isalpha()      | All characters are letters of the alphabet and there is at least one char     |\n",
    "| str.isdecimal()    |  All characters are decimal digits and there is at least one char |\n",
    "| str.isdigit()      | All characters are decimal digits and there is at least one character |\n",
    "| str.isidentifier()      | The string contains a valid python identifier (symbolic) name. The first character must be a letter or underscore |\n",
    "| str.islower()      | All the letters in the string are lowercase, and there is at least one letter|\n",
    "| str.isprintable()  | All characters in the string, if any, are printable characters. This excludes special characters such as \\n and \\t |\n",
    "| str.isspace()      | All characters in the string are whitespace characters, and there is at least one |\n",
    "| str.istitle()      | Everyword in the string is a valid title, and there is at least one character. (Each word must be capitilized)|\n",
    "| str.issuper()      | All letters in the string uppercase, and  there is at least one letter. |"
   ]
  },
  {
   "cell_type": "code",
   "execution_count": 27,
   "id": "512d0d46",
   "metadata": {},
   "outputs": [
    {
     "data": {
      "text/plain": [
       "True"
      ]
     },
     "execution_count": 27,
     "metadata": {},
     "output_type": "execute_result"
    }
   ],
   "source": [
    "'asdf'.isalpha()"
   ]
  },
  {
   "cell_type": "code",
   "execution_count": 29,
   "id": "4b3c6a8b",
   "metadata": {},
   "outputs": [
    {
     "data": {
      "text/plain": [
       "True"
      ]
     },
     "execution_count": 29,
     "metadata": {},
     "output_type": "execute_result"
    }
   ],
   "source": [
    "'2'.isdecimal()"
   ]
  },
  {
   "cell_type": "code",
   "execution_count": 31,
   "id": "3aa26dc4",
   "metadata": {},
   "outputs": [
    {
     "data": {
      "text/plain": [
       "True"
      ]
     },
     "execution_count": 31,
     "metadata": {},
     "output_type": "execute_result"
    }
   ],
   "source": [
    "'1'.isdigit()"
   ]
  },
  {
   "cell_type": "code",
   "execution_count": 32,
   "id": "3daefc5c",
   "metadata": {},
   "outputs": [
    {
     "data": {
      "text/plain": [
       "True"
      ]
     },
     "execution_count": 32,
     "metadata": {},
     "output_type": "execute_result"
    }
   ],
   "source": [
    "'asdf'.islower()"
   ]
  },
  {
   "cell_type": "code",
   "execution_count": 33,
   "id": "e83b9591",
   "metadata": {},
   "outputs": [
    {
     "data": {
      "text/plain": [
       "True"
      ]
     },
     "execution_count": 33,
     "metadata": {},
     "output_type": "execute_result"
    }
   ],
   "source": [
    "'This Is True'.istitle()"
   ]
  },
  {
   "cell_type": "markdown",
   "id": "b396836b",
   "metadata": {},
   "source": [
    "# 2.10 Case Conversion Methods"
   ]
  },
  {
   "cell_type": "code",
   "execution_count": null,
   "id": "1b798d70",
   "metadata": {},
   "outputs": [],
   "source": []
  }
 ],
 "metadata": {
  "kernelspec": {
   "display_name": "Python 3 (ipykernel)",
   "language": "python",
   "name": "python3"
  },
  "language_info": {
   "codemirror_mode": {
    "name": "ipython",
    "version": 3
   },
   "file_extension": ".py",
   "mimetype": "text/x-python",
   "name": "python",
   "nbconvert_exporter": "python",
   "pygments_lexer": "ipython3",
   "version": "3.9.7"
  }
 },
 "nbformat": 4,
 "nbformat_minor": 5
}
