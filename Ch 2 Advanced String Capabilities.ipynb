{
 "cells": [
  {
   "cell_type": "markdown",
   "id": "c5467bba-fdd2-49f5-bcde-98995ea5a4b4",
   "metadata": {},
   "source": [
    "# 2.1 Strings Are Immutable"
   ]
  },
  {
   "cell_type": "markdown",
   "id": "5106dba2-c5e9-4f85-be9f-fc677402a234",
   "metadata": {},
   "source": [
    "Strings are immutable...\n",
    "\n",
    "One advantage of immutable types:\n",
    "\n",
    "- Strings can be used as a key for a dictionary\n",
    "- Their usage is optimized internally. ex. Tuples are somewhat more efficient than using lists.\n",
    "\n",
    "A limitation is that data cannot be changed in place"
   ]
  },
  {
   "cell_type": "code",
   "execution_count": 2,
   "id": "f2993027-4699-4cb0-a689-ce03c2124cab",
   "metadata": {},
   "outputs": [
    {
     "ename": "TypeError",
     "evalue": "'str' object does not support item assignment",
     "output_type": "error",
     "traceback": [
      "\u001b[0;31m---------------------------------------------------------------------------\u001b[0m",
      "\u001b[0;31mTypeError\u001b[0m                                 Traceback (most recent call last)",
      "\u001b[0;32m/tmp/ipykernel_25643/3165380980.py\u001b[0m in \u001b[0;36m<module>\u001b[0;34m\u001b[0m\n\u001b[1;32m      1\u001b[0m \u001b[0mmy_str\u001b[0m \u001b[0;34m=\u001b[0m \u001b[0;34m'hello, Dave, this is Hal.'\u001b[0m\u001b[0;34m\u001b[0m\u001b[0;34m\u001b[0m\u001b[0m\n\u001b[0;32m----> 2\u001b[0;31m \u001b[0mmy_str\u001b[0m\u001b[0;34m[\u001b[0m\u001b[0;36m0\u001b[0m\u001b[0;34m]\u001b[0m \u001b[0;34m=\u001b[0m \u001b[0;34m'H'\u001b[0m  \u001b[0;31m#This causes an error since strings are immutable\u001b[0m\u001b[0;34m\u001b[0m\u001b[0;34m\u001b[0m\u001b[0m\n\u001b[0m",
      "\u001b[0;31mTypeError\u001b[0m: 'str' object does not support item assignment"
     ]
    }
   ],
   "source": [
    "my_str = 'hello, Dave, this is Hal.'\n",
    "my_str[0] = 'H'  #This causes an error since strings are immutable"
   ]
  },
  {
   "cell_type": "code",
   "execution_count": 4,
   "id": "c7fd0fa7-c2ff-48d9-94f5-690a9f142a94",
   "metadata": {},
   "outputs": [],
   "source": [
    "my_str = 'hello'\n",
    "my_str = 'Hello' # This is valid as an entire new string is created"
   ]
  },
  {
   "cell_type": "markdown",
   "id": "453a9cc0-cf10-41a4-a97c-3b1cecda954a",
   "metadata": {},
   "source": [
    "# 2.2 Numeric Conversions, Including Binary"
   ]
  },
  {
   "cell_type": "markdown",
   "id": "c70b4f4b-ca28-48c3-a294-3a507d549b41",
   "metadata": {},
   "source": [
    "Type names in Python implicitly invoke type conversions wherever such conversions are supported.\n",
    "\n",
    "```\n",
    "type(data_object)\n",
    "```\n"
   ]
  },
  {
   "cell_type": "code",
   "execution_count": 10,
   "id": "2e6abcca-b1af-4f0b-a5c2-ac56a8669f0d",
   "metadata": {},
   "outputs": [
    {
     "name": "stdout",
     "output_type": "stream",
     "text": [
      "n =  45 <class 'int'>\n",
      "x =  45.0 <class 'float'>\n"
     ]
    }
   ],
   "source": [
    "s = '45'\n",
    "n = int(s)\n",
    "x = float(s)\n",
    "\n",
    "print('n = ', n, type(n))\n",
    "print('x = ', x, type(x))\n"
   ]
  },
  {
   "cell_type": "markdown",
   "id": "fbe80152-3a9e-4863-a6b4-cff7452fc7f3",
   "metadata": {},
   "source": [
    "If the appropriate conversion does not exist, Python raises a `ValueError` exception"
   ]
  },
  {
   "cell_type": "markdown",
   "id": "d1011b50-6b46-4542-b49b-a4ab6ce6dd33",
   "metadata": {},
   "source": [
    "The **int** conversion, unlike most conversions, takes an optional second argument. This argument enables you to convert a string to anumber while interpreting it in a different radix, such as binary."
   ]
  },
  {
   "cell_type": "code",
   "execution_count": 12,
   "id": "1226ec39-ac93-42e2-863e-95659de3efd5",
   "metadata": {},
   "outputs": [
    {
     "name": "stdout",
     "output_type": "stream",
     "text": [
      "17\n"
     ]
    }
   ],
   "source": [
    "n = int('10001', 2) # 10001 = 17 in decimal\n",
    "print(n)"
   ]
  },
  {
   "cell_type": "markdown",
   "id": "b40dd946-2eb0-4a84-a35c-e9f5ac90253a",
   "metadata": {},
   "source": [
    "Converting a number to a string enables you to do operations such as counting the number of printable digits or counting the number of times a specific digit occurs. For example, the following statements print the length of the number 10007."
   ]
  },
  {
   "cell_type": "code",
   "execution_count": 13,
   "id": "b87292d7-677f-456f-a97a-bd3bf2de2999",
   "metadata": {},
   "outputs": [
    {
     "name": "stdout",
     "output_type": "stream",
     "text": [
      "The length of 1007 is 4 digits.\n"
     ]
    }
   ],
   "source": [
    "n = 1007\n",
    "s = str(n) # convert to '1007'\n",
    "print('The length of', n, 'is', len(s), 'digits.')"
   ]
  },
  {
   "cell_type": "code",
   "execution_count": null,
   "id": "51c8f2ab-7495-4c79-81f5-04a1890cac9c",
   "metadata": {},
   "outputs": [],
   "source": [
    "#2.3"
   ]
  }
 ],
 "metadata": {
  "kernelspec": {
   "display_name": "Python 3 (ipykernel)",
   "language": "python",
   "name": "python3"
  },
  "language_info": {
   "codemirror_mode": {
    "name": "ipython",
    "version": 3
   },
   "file_extension": ".py",
   "mimetype": "text/x-python",
   "name": "python",
   "nbconvert_exporter": "python",
   "pygments_lexer": "ipython3",
   "version": "3.9.7"
  }
 },
 "nbformat": 4,
 "nbformat_minor": 5
}
