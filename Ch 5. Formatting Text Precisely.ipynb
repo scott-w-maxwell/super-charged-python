{
 "cells": [
  {
   "cell_type": "markdown",
   "id": "36e334e3-48e3-4069-a5ab-246ee43b8c20",
   "metadata": {},
   "source": [
    "# Chapter 5: Formatting Text Precisely\n",
    "\n",
    "## 5.1 Formatting with the percent sign operator"
   ]
  },
  {
   "cell_type": "code",
   "execution_count": 2,
   "id": "a9f9841f-196f-41ee-a969-6190f98a1f09",
   "metadata": {},
   "outputs": [
    {
     "name": "stdout",
     "output_type": "stream",
     "text": [
      "1 plus 1 equals 2\n"
     ]
    }
   ],
   "source": [
    "a = 1\n",
    "b = 1\n",
    "c = 2\n",
    "\n",
    "print('%d plus %d equals %d' % (a, b, c))"
   ]
  },
  {
   "cell_type": "markdown",
   "id": "c4c1ee3a-106c-4ce8-ac1f-737b54baa9ac",
   "metadata": {},
   "source": [
    "## 5.2 Percent sign format specifiers\n",
    "\n",
    "- %d Decimal integer\n",
    "- %i Integer. Same meaning as %d\n",
    "- %s Standard string representation of the input. This field says, \"produce a string\" but it can be used to print the standard string representation of any data object. So this can actually be used with integers if you choose.\n",
    "- %r Standard %r representation of the input, which is foten the same %s but uses the canonical representation of the object as it appears in Python code.\n",
    "- %x Hexadecimal integer\n",
    "- %X Same as %x, but letter digits A-F are uppercase\n",
    "- %o Octal integer\n",
    "- %u Unsigned integer\n",
    "- %f floating-point number to be printed in fixed-point format\n",
    "- %F the same as %f\n",
    "- %e Floating-point number, printing explonent sign (e)\n",
    "- %g Floating point, using shortest canonical representation\n",
    "- %G Same as %g but uses uppercase E if printing exponent\n",
    "- %% A literal percent sign"
   ]
  },
  {
   "cell_type": "code",
   "execution_count": 3,
   "id": "c74829c1-441c-4f3e-ae04-3f6359418df2",
   "metadata": {},
   "outputs": [
    {
     "name": "stdout",
     "output_type": "stream",
     "text": [
      "The result is f9.\n"
     ]
    }
   ],
   "source": [
    "h1 = int('e9', 16)\n",
    "h2 = int('10', 16)\n",
    "print('The result is %x.' % (h1 + h2))"
   ]
  },
  {
   "cell_type": "code",
   "execution_count": 7,
   "id": "4e032de3-049f-4593-822d-c0cdcfb67fa4",
   "metadata": {},
   "outputs": [
    {
     "name": "stdout",
     "output_type": "stream",
     "text": [
      "My name is Scott Willard Maxwell.\n"
     ]
    }
   ],
   "source": [
    "s = 'My name is %s %s %s.' % ('Scott', 'Willard',\n",
    "'Maxwell')\n",
    "print(s)"
   ]
  },
  {
   "cell_type": "code",
   "execution_count": 8,
   "id": "2e804f7b-0ad1-4faf-8673-80af216e2961",
   "metadata": {},
   "outputs": [
    {
     "data": {
      "text/plain": [
       "'This is a number: 255   .'"
      ]
     },
     "execution_count": 8,
     "metadata": {},
     "output_type": "execute_result"
    }
   ],
   "source": [
    "'This is a number: %-6d.' % 255"
   ]
  },
  {
   "cell_type": "markdown",
   "id": "94def44e-dc64-4cca-9023-ce488a0f2c07",
   "metadata": {},
   "source": [
    "Example of the use of a 10-space print-field width:"
   ]
  },
  {
   "cell_type": "code",
   "execution_count": 9,
   "id": "b3617979-cc09-4f05-908b-7c8c6b707920",
   "metadata": {},
   "outputs": [
    {
     "name": "stdout",
     "output_type": "stream",
     "text": [
      "My name is       John.\n"
     ]
    }
   ],
   "source": [
    "print('My name is %10s.' % 'John')"
   ]
  },
  {
   "cell_type": "markdown",
   "id": "c646fa2e-bf79-4dba-b9c2-b73dd49d88c3",
   "metadata": {},
   "source": [
    "When printing integers, the precision specifies a smaller field, within which the number is right justified and padded with leading zeros:"
   ]
  },
  {
   "cell_type": "code",
   "execution_count": 10,
   "id": "d26a8929-0e3c-4677-a452-a7b4cb90b0a5",
   "metadata": {},
   "outputs": [
    {
     "name": "stdout",
     "output_type": "stream",
     "text": [
      "Amount is         25.\n",
      "Amount is 00025.\n",
      "Amount is      00025.\n"
     ]
    }
   ],
   "source": [
    "print('Amount is %10d.' % 25)\n",
    "print('Amount is %.5d.' % 25)\n",
    "print('Amount is %10.5d.' % 25)"
   ]
  },
  {
   "cell_type": "markdown",
   "id": "8c8007b8-9892-4d99-90da-91312556dbf9",
   "metadata": {},
   "source": [
    "The width and precision fields control print-field width and precision in a floating-point number. The precision is the number of digits to the right of the decimal point; this number contains the trailing zeros if necessary:"
   ]
  },
  {
   "cell_type": "code",
   "execution_count": 19,
   "id": "c64373df-6cab-451b-90cc-dbf852317e4c",
   "metadata": {},
   "outputs": [
    {
     "name": "stdout",
     "output_type": "stream",
     "text": [
      "result:        3.14\n",
      "result:     3.14000\n"
     ]
    }
   ],
   "source": [
    "print('result:%12.2f' % 3.14)\n",
    "print('result:%12.5f' % 3.14)"
   ]
  },
  {
   "cell_type": "code",
   "execution_count": null,
   "id": "aa752d3c-1c4e-46de-a02a-56d8b3fc933a",
   "metadata": {},
   "outputs": [],
   "source": []
  }
 ],
 "metadata": {
  "kernelspec": {
   "display_name": "Python 3 (ipykernel)",
   "language": "python",
   "name": "python3"
  },
  "language_info": {
   "codemirror_mode": {
    "name": "ipython",
    "version": 3
   },
   "file_extension": ".py",
   "mimetype": "text/x-python",
   "name": "python",
   "nbconvert_exporter": "python",
   "pygments_lexer": "ipython3",
   "version": "3.9.1"
  }
 },
 "nbformat": 4,
 "nbformat_minor": 5
}
