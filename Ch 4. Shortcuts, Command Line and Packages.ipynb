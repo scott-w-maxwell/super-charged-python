{
 "cells": [
  {
   "cell_type": "markdown",
   "id": "23253084-466b-41ae-af0d-29fe8609a9cd",
   "metadata": {},
   "source": [
    "# Chapter 4: Shortcuts, Command Line, and Packages\n",
    "\n",
    "# 4.1 Overview\n",
    "\n",
    "Python is unusually gifted with shortcuts nd time-saving programming techniques. This chapter begins with a discussion of twenty-two of these techniques.\n",
    "\n",
    "# 4.2 Twenty-Two\n",
    "\n",
    "This section lists the most common techniques for shortening and tightening your Python code:\n",
    "\n",
    "- Use Python line continuation as needed\n",
    "- Use for loops intelligently\n",
    "- Understand combined operator assignment\n",
    "- Use multiple assignment\n",
    "- Use tuple assignment\n",
    "- Use advanced tuple assignment\n",
    "- Use list and string \"multiplication\"\n",
    "- Return multiple values\n",
    "- Use loops and the **else** keyword\n",
    "- Take advantage of booleans and **not**\n",
    "- Treat strings as list of characters\n",
    "- Eliminate characters by using **replace**\n",
    "- Don't write unnecessary loops\n",
    "- Use chained comparisons\n",
    "- Simulate \"Switch\" with a table of functions\n",
    "- Use the **is** operator correctly\n",
    "- Use the one-line for loops\n",
    "- Squeeze multiple statements onto a line\n",
    "- Write one-line if/then/else statements\n",
    "- Create Enum values with range\n",
    "- Reduce the inefficiency of the print function\n",
    "- Place underscores inside large numbers"
   ]
  },
  {
   "cell_type": "markdown",
   "id": "dce1e2c9-2a94-46d6-b0b2-3c60a1cc046b",
   "metadata": {},
   "source": [
    "# 4.2.1 Use python line coninuation as needed\n",
    "\n",
    "In python, the normal statement terminator is just the end of a physical line. This makes programming easier, because you can naturally assume that statements are one per line. \n",
    "\n",
    "But what if you need to write a statement longer than one physical line? You might have. astirng ro print that you can't fit on one line. You could use literal quotations, but line wraps in that case, are translated as newlines-something you might not want. \n",
    "\n",
    "The solution, first of all, is to recognize that literal strings positioned next to other literal strings are automatically concatenated."
   ]
  },
  {
   "cell_type": "code",
   "execution_count": 2,
   "id": "639ff21a-b621-40e0-b39b-a9293fc55a21",
   "metadata": {},
   "outputs": [
    {
     "name": "stdout",
     "output_type": "stream",
     "text": [
      "I am Hen-er-y the Eigth, I am!\n"
     ]
    }
   ],
   "source": [
    "my_str = 'I am Hen-er-y the Eigth,' ' I am!'\n",
    "print(my_str)"
   ]
  },
  {
   "cell_type": "markdown",
   "id": "96f7e46c-55d8-4d3e-93c8-124850dd0f34",
   "metadata": {},
   "source": [
    "If these substrings are too long to put on a single physical line, you have a couple of choices. the first is to use the line-continuation char \\"
   ]
  },
  {
   "cell_type": "code",
   "execution_count": 10,
   "id": "b33865c7-0e9b-4844-b5c7-4f7b5eeaef0d",
   "metadata": {},
   "outputs": [
    {
     "name": "stdout",
     "output_type": "stream",
     "text": [
      "I am Hen-er-y the Eigth, I am!\n"
     ]
    }
   ],
   "source": [
    "my_str = 'I am Hen-er-y the Eigth,' \\\n",
    "' I am!'\n",
    "\n",
    "print(my_str)"
   ]
  },
  {
   "cell_type": "markdown",
   "id": "dd717f5d-5a99-484d-85eb-20dc130d292b",
   "metadata": {},
   "source": [
    "Another technique is to observe that any open-and so far unmatched-parenthesis, square bracket, or brace automatically causes continuation onto the next physical line. Consequently, you can enter as long a statement as you want and you can enter a string of any length you wnt without necessarily inserting newlines."
   ]
  },
  {
   "cell_type": "code",
   "execution_count": 11,
   "id": "570c52aa-8c6f-4164-8ac0-1c56a6cc1132",
   "metadata": {},
   "outputs": [],
   "source": [
    "my_str=('I am henry the eigth, ' \n",
    "        'I am! I am not jus tany henry VIII, ' \n",
    "        'I reall am!')"
   ]
  },
  {
   "cell_type": "markdown",
   "id": "da5d3729-37e6-45d5-a03a-377b7a145515",
   "metadata": {},
   "source": [
    "# 4.2.2 Use 'for' loops intelligently\n",
    "\n",
    "If yuo come from the C/C++ world, you may tend to overuse the range function to print members of a list.\n",
    "\n",
    "\n",
    "It's better to print the contents of a list or iterator directly.\n",
    "```\n",
    "for guy in beat_list:\n",
    "    print(guy)\n",
    "```\n",
    "\n",
    "Even if you need access to a loop variable, it's better to use the enumerate function to generate such numbers."
   ]
  },
  {
   "cell_type": "code",
   "execution_count": 22,
   "id": "72571fa2-86f6-4026-bb4e-410095a9fd41",
   "metadata": {},
   "outputs": [
    {
     "name": "stdout",
     "output_type": "stream",
     "text": [
      "1. John\n",
      "2. Paul\n",
      "3. George\n",
      "4. Ringo\n"
     ]
    }
   ],
   "source": [
    "beat_list = ['John', 'Paul', 'George', 'Ringo']\n",
    "\n",
    "for i, name in enumerate(beat_list, 1):\n",
    "    print(i, '. ', name, sep='')"
   ]
  },
  {
   "cell_type": "markdown",
   "id": "7507a977-ea42-4e81-b0b7-dd0a34d352fe",
   "metadata": {},
   "source": [
    "# 4.2.3 Understand Combined Operator Assignment (+= etc.)\n",
    "\n",
    "The combined operator-assignemnt operators are introduced in Chapter 1 and so are reviewed only briefly here.\n",
    "\n",
    "The assignment = can be combined with any of the following:\n",
    "+, -, /, //, %, **, &, ^, |, <<,>>.\n",
    "\n",
    "The operators &, |, and * are bitwise \"and\", \"or\", and \"exclusive or.\"\n",
    "\n",
    "The operators << and >> perform bit shifts to the left and to the right."
   ]
  },
  {
   "cell_type": "markdown",
   "id": "2dc8a4a3-40d9-4d25-8838-f53865c08325",
   "metadata": {},
   "source": [
    "# 4.2.4 Use Multiple Assignment\n",
    "\n",
    "Multiple assignment is one of the most commonly used coding shortcuts in Python. You can, for example, create five different variables at once, assigning them all the same value-in thise case, 0:\n",
    "\n",
    "```\n",
    "a = b = c = d = e = 0\n",
    "```\n",
    "\n",
    "Consequently, the following returns True:\n",
    "\n",
    "```\n",
    "a is b\n",
    "```"
   ]
  },
  {
   "cell_type": "markdown",
   "id": "02a6b7ef-ef92-4b0c-a1b2-ead590443361",
   "metadata": {},
   "source": [
    "# 4.2.5 Use tuple assignment\n",
    "\n",
    "Multiple assignment is useful when you want to assign a group of variblaes to the same initial value. But what if you want to assign different values to different variables? The obvious way to do that is to use the following statements. \n",
    "```\n",
    "a = 1\n",
    "b = 0\n",
    "```\n",
    "But through tuple assignment, you can combine these into a single statement\n",
    "\n",
    "```\n",
    "a, b = 1, 0\n",
    "```"
   ]
  },
  {
   "cell_type": "markdown",
   "id": "ce35ac79-3659-4e2d-bd71-764806c89255",
   "metadata": {},
   "source": [
    "# 4.2.6 Use Advanced Tuple Assignment\n",
    "\n",
    "Tuple assignment has some refined features. For example, you can unpack a tuple to assign to multiple variables, as in the following example.\n",
    "\n",
    "```\n",
    "tup = 10, 20, 30\n",
    "a, b, c = tup\n",
    "print(a, b, c) # Produces 10, 20, 30\n",
    "```\n",
    "\n",
    "It's important that the number of input variables on the left matches the size of the tuple on the right. The following statement would produce a runtime error.\n",
    "\n",
    "```\n",
    "tup = 10, 20, 30\n",
    "a, b = tup # Error: too many values to unpack\n",
    "```\n",
    "\n",
    "The use of an asterisk * provides additional flexibility with tuple assignment. You can use it to split off parts of a tuple and have one (and only one) variable that becomes the default target for the remaining elements which are then put into a list.\n",
    "\n",
    "```\n",
    "a, *b = 2, 3, 6, 7, 8\n",
    "print(a) # -> 2\n",
    "print(b) # -> [3, 6, 7, 8]\n",
    "```\n",
    "\n",
    "You can place the asterisk next to any variable on the left, but in no case more than one.\n",
    "The variable modified with the asterisk is assigned a list of whatever elements are left over.\n",
    "\n",
    "```\n",
    "a, *b, c = 10, 20, 30, 40, 50\n",
    "\n",
    "print(a) # -> 10\n",
    "print(b) # -> [20,30,40]\n",
    "print(c) # -> 50\n",
    "```\n",
    "\n"
   ]
  },
  {
   "cell_type": "markdown",
   "id": "6923d1bb-49c2-4a87-860c-d4a148422136",
   "metadata": {},
   "source": [
    "# 4.2.7 Use list and string \"multiplication\"\n",
    "\n",
    "Because there are no data declarations in Python, the only way to create a large list is to contruct it on the right side of an assignment. But constructing a super-long list by hand is impractical.\n",
    "\n",
    "Applying the multiplication operator provies a more practical solution:\n",
    "`my_list = [0] * 1000`\n",
    "\n",
    "*Note: The integer may be either the left or the right operand in such an expression*"
   ]
  },
  {
   "cell_type": "markdown",
   "id": "521a9e6b-7921-4f84-bfb1-ae9028144f98",
   "metadata": {},
   "source": [
    "# 4.2.8 Return Multiple Values\n",
    "\n",
    "You can't pass a simple variable to a Python function, change the value inside the function, and expect the original variable to reflect the change. \n",
    "\n",
    "In python, you can return as many values as you want.\n",
    "\n",
    "```\n",
    "def nice(a):\n",
    "    return a*2, a*3, a*4\n",
    "    \n",
    "a, b, c = nice(1)\n",
    "\n",
    "print(a) # -> 2\n",
    "print(b) # -> 3\n",
    "print(c) # -> 4\n",
    "```"
   ]
  },
  {
   "cell_type": "markdown",
   "id": "1b7ab45d-1a8b-4a6a-a730-0a7d4a76c6da",
   "metadata": {},
   "source": [
    "# 4.2.9 Use Loops and the \"else\" keyword\n",
    "\n",
    "The **else** keyword is most frequently used in combination with the if keyword. But in Python it can also be used with the **try-except** syntax with loops.\n",
    "\n",
    "# 4.2.10 Take advantage of boolean values and \"not\"\n",
    "\n",
    "Every object in Python evaluates to True or False. \n",
    "For example, every empty collection Python evaluates to False if tested as a Boolean value; so does the special value **None**. Here's one way of testing a string for being length zero:\n",
    "\n",
    "```\n",
    "if len(my_str) == 0:\n",
    "    break\n",
    "```\n",
    "\n",
    "However you can instead test for input string this way:\n",
    "````\n",
    "if not my_str:\n",
    "    break\n",
    "```\n",
    "\n",
    "# 4.2.11 Treat Strings as Lists of Characters\n",
    "\n",
    "When you're doing complicated operations on individual characters and building a string, it's sometimes more efficient to build a list of characters and use list comprehension plus **join** to put it all together. \n",
    "\n",
    "For example, to test whether a string is a plaindrome (reads the same forwards and backwards), it's useful to omit all punctuation and space characters and convert the rest of the string to either all-uppercase or all-lowercase. List comprehension does this efficiently."
   ]
  },
  {
   "cell_type": "code",
   "execution_count": 1,
   "id": "7cd5e611-47f3-4652-a330-8eceba82ba5c",
   "metadata": {},
   "outputs": [
    {
     "name": "stdin",
     "output_type": "stream",
     "text": [
      "Enter test string:  poop\n"
     ]
    },
    {
     "name": "stdout",
     "output_type": "stream",
     "text": [
      "True\n"
     ]
    }
   ],
   "source": [
    "test_str = input('Enter test string: ')\n",
    "a_list = [c.upper() for c in test_str if c.isalnum()]\n",
    "print(a_list == a_list[::-1])"
   ]
  },
  {
   "cell_type": "markdown",
   "id": "04e37ea2-ff0c-422b-9e55-70589f97f2fc",
   "metadata": {},
   "source": [
    "# 4.2.12 Eliminate Characters by using \"replace\"\n",
    "\n",
    "Personally, I most frequently use this for removing spaces, but it can come in handy in many other use cases. "
   ]
  },
  {
   "cell_type": "code",
   "execution_count": 3,
   "id": "34143446-adbc-40c9-ac7b-f33a1b389049",
   "metadata": {},
   "outputs": [
    {
     "name": "stdout",
     "output_type": "stream",
     "text": [
      "Unfortunately\n"
     ]
    }
   ],
   "source": [
    "str1 = 'Un fortunately'\n",
    "str1 = str1.replace(' ', '')\n",
    "print(str1)"
   ]
  },
  {
   "cell_type": "markdown",
   "id": "5dfc8c96-c417-4476-a8a6-46a69a9fb4fe",
   "metadata": {},
   "source": [
    "# 4.2.13 Don't write unnecessary loops\n",
    "\n",
    "Make sure you don't overlook all of Python's built-in abilities, especially when you're working with lists and strings. With most computer languages, you'd probably have to write a loop to get the sum of all the number in a list. But Python performs summation directly. For example, the following function calculates 1 + 2 + 3 .. + N:\n",
    "\n",
    "```\n",
    "def calc_triangle_num(n):\n",
    "    return sum(range(n+1))\n",
    "```\n",
    "\n",
    "Another way to use the **sum** function is to quickly get the average of any list of numbers\n",
    "\n",
    "```\n",
    "def get_avg(a_list):\n",
    "    return sum(a_list) / len(a_list)\n",
    "```\n",
    "\n",
    "# 4.2.14 Use chained comparisons (n < x < m)\n",
    "\n",
    "This is a slick little shortcut that can save you a bit of work now and then.\n",
    "\n",
    "It's common to write if conditions such as the following:\n",
    "\n",
    "```\n",
    "if 0 < x and x < 100:\n",
    "    print('x is in range.')\n",
    "```\n",
    "\n",
    "But in this case, you can save a few keystrokes:\n",
    "\n",
    "```\n",
    "if 0 < x < 100:\n",
    "print('x is in the range')\n",
    "```\n",
    "\n",
    "You can chain together any number of comparisons using this method."
   ]
  },
  {
   "cell_type": "markdown",
   "id": "5341741b-a698-441a-8fd6-17e200b7eb63",
   "metadata": {},
   "source": [
    "# 4.2.15 Simulate \"Switch\" with a Table of Functions\n",
    "\n",
    "Writing if/else statements to simulate switch \"switch\" statements (which don't exist in python) can cause code to be verbose.\n",
    "\n",
    "Python functions are objects, and they can be placed in a list. You can therefore get a reference to one of the functions and call it."
   ]
  },
  {
   "cell_type": "code",
   "execution_count": 18,
   "id": "cb1fb109-979d-4630-ab1f-7e8287bf397b",
   "metadata": {},
   "outputs": [
    {
     "name": "stdout",
     "output_type": "stream",
     "text": [
      "1\n"
     ]
    }
   ],
   "source": [
    "def do_this():\n",
    "    print(0)\n",
    "    \n",
    "def do_that():\n",
    "    print(1)\n",
    "\n",
    "def do_dis():\n",
    "    print(2)\n",
    "    \n",
    "fn = [do_this, do_that, do_dis][1] # The [1] calls the second function in the list\n",
    "\n",
    "fn()"
   ]
  },
  {
   "cell_type": "markdown",
   "id": "b225127c-31b7-454d-82e3-6cb4f1bda028",
   "metadata": {},
   "source": [
    "# 4.2.16 Use the \"is\" Operator Correctly\n",
    "\n",
    "Python supports both a test-for-equality operator **==** and **is** operator.\n",
    "\n",
    "They don't always produce the same value..."
   ]
  },
  {
   "cell_type": "code",
   "execution_count": 24,
   "id": "955a9232-2add-45fc-ad8d-8b9b95dbec87",
   "metadata": {},
   "outputs": [
    {
     "name": "stdout",
     "output_type": "stream",
     "text": [
      "True\n",
      "True\n"
     ]
    }
   ],
   "source": [
    "a = 'cat'\n",
    "b = 'c' + 'a' + 't'\n",
    "\n",
    "print(a == b) # This will always evaluate to True, as the actual value of the two variables are equivalent\n",
    "\n",
    "print(a is b) # This might not, as the is operator checks if it's the same object in memory... "
   ]
  },
  {
   "cell_type": "markdown",
   "id": "f9039e92-62fa-4257-8179-2ffd7115c4c8",
   "metadata": {},
   "source": [
    "# 4.2.17 Use One-Line \"for\" loops\n",
    "\n",
    "You can use this syntax to write one liner for loops:\n",
    "\n",
    "`for var in sequence: statement`"
   ]
  },
  {
   "cell_type": "code",
   "execution_count": 26,
   "id": "d5f22122-3ee4-40e0-8538-efeba89efe17",
   "metadata": {},
   "outputs": [
    {
     "name": "stdout",
     "output_type": "stream",
     "text": [
      "0\n",
      "1\n",
      "2\n",
      "3\n",
      "4\n",
      "5\n",
      "6\n",
      "7\n",
      "8\n",
      "9\n"
     ]
    }
   ],
   "source": [
    "for i in range(10): print(i)"
   ]
  },
  {
   "cell_type": "markdown",
   "id": "6b88b3f9-a00f-40fc-a5fb-8cbc369c2cf0",
   "metadata": {},
   "source": [
    "# 4.2.18 Squeeze Multiple statements into a line"
   ]
  },
  {
   "cell_type": "code",
   "execution_count": 27,
   "id": "b88c9d69-7128-4ea8-b4c7-8356ffb03700",
   "metadata": {},
   "outputs": [
    {
     "name": "stdout",
     "output_type": "stream",
     "text": [
      "5\n",
      "7\n",
      "9\n",
      "11\n",
      "13\n"
     ]
    }
   ],
   "source": [
    "for i in range(5): n=i*2; m = 5; print(n+m)"
   ]
  },
  {
   "cell_type": "markdown",
   "id": "90f13561-28d8-4ee3-ba0f-055dbf234ee5",
   "metadata": {},
   "source": [
    "# 4.2.19 Write One-Line if/then/else Statements"
   ]
  },
  {
   "cell_type": "code",
   "execution_count": 35,
   "id": "698c340a-7c51-4e9b-8833-204db3127aad",
   "metadata": {},
   "outputs": [
    {
     "name": "stdout",
     "output_type": "stream",
     "text": [
      "x\n"
     ]
    }
   ],
   "source": [
    "variable = 'x' if 1 == 1 else 0 # there must be an else statement\n",
    "\n",
    "print(variable)"
   ]
  },
  {
   "cell_type": "markdown",
   "id": "1b9c1690-2306-4e1f-b7ad-071cd2cf48bc",
   "metadata": {},
   "source": [
    "# 4.2.20 Create Enum Values with \"Range\"\n",
    "\n",
    "Many Programmers like to use enumerated (or \"enum\") types in place of so-called magic numbers."
   ]
  },
  {
   "cell_type": "code",
   "execution_count": 36,
   "id": "8d1c1d5c-696e-4339-8d4d-c49f5e849443",
   "metadata": {},
   "outputs": [
    {
     "name": "stdout",
     "output_type": "stream",
     "text": [
      "0 1 2 3 4\n"
     ]
    }
   ],
   "source": [
    "red, blue, green, black, white = range(5)\n",
    "\n",
    "print(red, blue, green, black, white)"
   ]
  },
  {
   "cell_type": "markdown",
   "id": "c6dd2703-de77-41d9-89b8-0bc62010d26b",
   "metadata": {},
   "source": [
    "# 4.2.21 Reduce the Inefficiency of the \"print\" Function with IDLE\n",
    "\n",
    "using the`print` function is exteremely slow... especially when using it in nested for loops.\n",
    "\n",
    "You can get much better performance by keeping `print()` out of for loops and saving values to print until the end of the for loop."
   ]
  },
  {
   "cell_type": "markdown",
   "id": "1eb02034-e07d-49bb-adc0-572bd6e45bb3",
   "metadata": {},
   "source": [
    "# 4.2.22 Place Underscores inside large numbers\n",
    "\n",
    "You might like to use commas as separtors, but commas are rserved for other purposes, such as creating lists. \n",
    "\n",
    "Fortunately, Python provides another technique: You can use underscores `_` inside a numberic literal"
   ]
  },
  {
   "cell_type": "code",
   "execution_count": 40,
   "id": "853b8e20-0ccd-439e-8a10-222a15ad505e",
   "metadata": {},
   "outputs": [
    {
     "name": "stdout",
     "output_type": "stream",
     "text": [
      "1500000\n"
     ]
    }
   ],
   "source": [
    "salary = 1_500_000\n",
    "\n",
    "# THIS ONLY CHANGES HOW IT APPEARS IN THE CODE.\n",
    "\n",
    "print(salary) # => 1500000"
   ]
  },
  {
   "cell_type": "markdown",
   "id": "4a8808c4-5fa2-4cc3-989a-b57022656ed0",
   "metadata": {},
   "source": [
    "# skipped 4.3 since it's basic stuff..."
   ]
  },
  {
   "cell_type": "markdown",
   "id": "facd3811-ec65-4fce-bb82-31958a3e7df2",
   "metadata": {},
   "source": [
    "# 4.4 Writing and Using Doc Strings\n",
    "\n",
    "Python doc strings enable you to leverage the work you do writing comments to get free online help. That help is then available to you while running IDLE, as well as from the command line, when you use the pydoc utility.\n",
    "\n",
    "You can write doc strings for both functions and classes. Although this book has not yet introduced how to write classes, the principles are the same. Here's an example with a function showcasing a doc string.\n",
    "\n",
    "```\n",
    "def quad(a, b, c):\n",
    "    '''Quadratic Formula function.\n",
    "    This function applies the Quadratic Formula\n",
    "    to determine the roots of x in a quadratic\n",
    "    equation of the form ax^2 + bx + c = 0.\n",
    "    '''\n",
    "    determin = (b * b - 4 * a * c) ** .5\n",
    "    x1 = (-b + determin) / (2 * a)\n",
    "    x2 = (-b - determin) / (2 * a)\n",
    "    return x1, x2\n",
    "```"
   ]
  },
  {
   "cell_type": "markdown",
   "id": "5990e663-52c0-4953-ae57-cf034861ac33",
   "metadata": {},
   "source": [
    "Then `>>> help(quad)` will produce:\n",
    "\n",
    "```\n",
    "Help on function quad in module _ _main_ _:\n",
    "quad(a, b, c)\n",
    "    Quadratic Formula function.\n",
    "    This function applies the Quadratic Formula\n",
    "    to determine the roots of x in a quadratic\n",
    "    equation of the form ax^2 + bx + c = 0.\n",
    "```\n"
   ]
  },
  {
   "cell_type": "markdown",
   "id": "b25ef421-25f2-4f92-9a60-02b6d8543c93",
   "metadata": {},
   "source": [
    "The mechanics of writing a doc string follow a number of rules:\n",
    "    \n",
    "- The doc string must immediately follow the heading of the function\n",
    "- It must be a literal string utilizing the tripple-quote feature.\n",
    "- The doc string must also be aligned with the \"level-1\" indentation under the function heading.\n",
    "- Subsequent line of the doc string may be indented as you choose."
   ]
  },
  {
   "cell_type": "markdown",
   "id": "238d6f83-30fc-47ba-89e4-fae77af1d273",
   "metadata": {},
   "source": [
    "For stylistic reasons, programmers are encouraged to write the doc string this way, in which the subsequent lines in the quote line up with the beginning of the quoted string instead of starting flush left in column 1:\n",
    "\n",
    "```\n",
    "def quad(a, b, c):\n",
    "    '''Quadratic Formula function.\n",
    "    This function applies the Quadratic Formula\n",
    "    to determine the roots of x in a quadratic\n",
    "    equation of the form ax^2 + bx + c = 0.\n",
    "'''\n",
    "```"
   ]
  },
  {
   "cell_type": "markdown",
   "id": "c1a86ad7-ed3b-47f2-b78c-230c474d5d2f",
   "metadata": {},
   "source": [
    "## Skipped 4.5 - 4.6:Already know this stuff quite well"
   ]
  },
  {
   "cell_type": "markdown",
   "id": "b441bf86-225e-49c9-a92e-a3bbf9ca5616",
   "metadata": {},
   "source": [
    "# 4.7 Functions as first-class objects."
   ]
  },
  {
   "cell_type": "markdown",
   "id": "c1dcb737-bf9d-42d4-bc41-ed47e6e95882",
   "metadata": {},
   "source": [
    "Treating Python functions as first-class objects can useful when debugging or profiling.\n",
    "\n",
    "Treating Python functions as first-class objects menas taking advantage of how you get information about a function at run time. For example, you've defined a function called avg.\n",
    "\n",
    "\n",
    "You can assign a function to a new name `old_avg`. This is useful in a scenario in which you would like to save off the old function and create a new function under the same name `avg`. "
   ]
  },
  {
   "cell_type": "code",
   "execution_count": 10,
   "id": "a4924f04-7546-418b-8cb2-69e8bac3e311",
   "metadata": {},
   "outputs": [
    {
     "name": "stdout",
     "output_type": "stream",
     "text": [
      "The average is  6.75\n"
     ]
    },
    {
     "data": {
      "text/plain": [
       "6.75"
      ]
     },
     "execution_count": 10,
     "metadata": {},
     "output_type": "execute_result"
    }
   ],
   "source": [
    "def avg(a_list):\n",
    "    return (sum(a_list) / len(a_list))\n",
    "\n",
    "def new_function(a_list):\n",
    "    average = (sum(a_list) / len(a_list))\n",
    "    print(\"The average is \", average)\n",
    "    return average\n",
    "\n",
    "# Create new names for functions\n",
    "old_avg = avg\n",
    "avg = new_function\n",
    "\n",
    "avg([1,3,4,19]) # refers to new_function"
   ]
  },
  {
   "cell_type": "markdown",
   "id": "fa4abee7-f234-4e81-9888-4b3cab009780",
   "metadata": {},
   "source": [
    "# 4.8 Variable-Length Argument Lists\n",
    "\n",
    "One of the most versatile features of Python is the ability to access variable-length argument lists.\n",
    "\n",
    "With this capability, your functions, can, if you choose, handle any number of arguments much as the built-in print function does.\n",
    "\n",
    "The variable-length argument ability extends to the use of named arguments, also called \"keyword arguments\"\n",
    "\n",
    "## 4.8.1 The *args List\n",
    "\n",
    "The *args syntax can be used to access argument lists of any length.\n",
    "\n",
    "*args becomes a list\n",
    "\n",
    "```\n",
    "def func_name([ordinary_args,] *args): \n",
    "    statements\n",
    "\n",
    "```"
   ]
  },
  {
   "cell_type": "code",
   "execution_count": 11,
   "id": "258e6607-d48e-4cbf-bf21-9395b81c43c1",
   "metadata": {},
   "outputs": [
    {
     "name": "stdout",
     "output_type": "stream",
     "text": [
      "14.0 inches\n"
     ]
    }
   ],
   "source": [
    "def avg(units ,*args):\n",
    "    print(sum(args)/len(args), units)\n",
    "    \n",
    "    \n",
    "avg('inches', 12, 13, 14, 15, 16)"
   ]
  },
  {
   "cell_type": "markdown",
   "id": "51ef6fbb-2fa1-4e87-9519-dcb6393c519c",
   "metadata": {},
   "source": [
    "*args can be any name...\n",
    "\n",
    "*args can also be *Randomname"
   ]
  },
  {
   "cell_type": "markdown",
   "id": "81a33c97-b2bb-4fe3-88ad-c7eca7fcd12b",
   "metadata": {},
   "source": [
    "## 4.8.2 The \"**kwargs\" List"
   ]
  },
  {
   "cell_type": "markdown",
   "id": "9fcd7562-ecc2-46ca-95ca-ce54d0056ccb",
   "metadata": {},
   "source": [
    "**Kwargs can be any name...\n",
    "\n",
    "**Kwargs can also be **Randomname"
   ]
  },
  {
   "cell_type": "markdown",
   "id": "10067f74-8b5a-4351-af31-fe89f5c6bb30",
   "metadata": {},
   "source": [
    "**Kwargs becomes a dictionary\n",
    "\n",
    "Because of this, arguments passed in through **kwargs must have names when the function is called:"
   ]
  },
  {
   "cell_type": "code",
   "execution_count": 14,
   "id": "fe6cc92f-60ad-41d7-ae43-33135110110e",
   "metadata": {},
   "outputs": [
    {
     "name": "stdout",
     "output_type": "stream",
     "text": [
      "a : 10\n",
      "b : 20\n",
      "c : 30\n"
     ]
    }
   ],
   "source": [
    "def pr_named_vals(**kwargs):\n",
    "    for k in kwargs:\n",
    "        print(k, ':', kwargs[k])\n",
    "        \n",
    "pr_named_vals(a=10, b=20, c=30)"
   ]
  },
  {
   "cell_type": "markdown",
   "id": "6a7ae031-079b-4a4a-a064-a70f4e6948d6",
   "metadata": {},
   "source": [
    "You can also define a function that allows any number of named arguemnts or arguments that are not named."
   ]
  },
  {
   "cell_type": "code",
   "execution_count": 18,
   "id": "4ad7bf6b-d3d3-4f7f-88bf-9ee700c8e155",
   "metadata": {},
   "outputs": [
    {
     "name": "stdout",
     "output_type": "stream",
     "text": [
      "args:\n",
      "1\n",
      "2\n",
      "3\n",
      "-4\n",
      "\n",
      "kwargs:\n",
      "a : 100\n",
      "b : 200\n"
     ]
    }
   ],
   "source": [
    "def new_function(*args, **kwargs):\n",
    "    print('args:')\n",
    "    for i in args:\n",
    "        print(i)\n",
    "    \n",
    "    print('\\nkwargs:')\n",
    "    for k in kwargs:\n",
    "        print(k, ':', kwargs[k])\n",
    "\n",
    "new_function(1, 2, 3, -4, a=100, b=200)"
   ]
  },
  {
   "cell_type": "markdown",
   "id": "f110e1e6-7d8c-4e43-b7c2-9b40579cd6fe",
   "metadata": {
    "tags": []
   },
   "source": [
    "# 4.9 Decorators and Function Profilers\n",
    "\n",
    "When you start refining your python programs, one of the most useful things to do is to time how fast individual functions run.\n",
    "\n",
    "Decorated functions can profile the speed of your code as well as provide other information, because functinos are first-class objects. Central to the concept of decoration is a wrapper function, which does everything the original function does but also adds other statements to be executed.\n",
    "\n"
   ]
  },
  {
   "cell_type": "code",
   "execution_count": 4,
   "id": "6b5e922d-7f28-48c5-9fdd-9999645f0645",
   "metadata": {},
   "outputs": [
    {
     "name": "stdout",
     "output_type": "stream",
     "text": [
      "Time elapsed was 0.00043892860412597656\n"
     ]
    }
   ],
   "source": [
    "import time\n",
    "\n",
    "def decorator(func):\n",
    "        def wrapper(*args, **kwargs):\n",
    "            t1 = time.time()\n",
    "            ret_val = func(*args, **kwargs)\n",
    "            t2 = time.time()\n",
    "            print('Time elapsed was', t2 - t1)\n",
    "            \n",
    "            return ret_val\n",
    "        \n",
    "        return wrapper\n",
    "\n",
    "\n",
    "def count_nums(n):\n",
    "    for i in range(n):\n",
    "        for j in range(1000):\n",
    "            pass\n",
    "        \n",
    "count_nums = decorator(count_nums)\n",
    "\n",
    "count_nums(10)"
   ]
  },
  {
   "cell_type": "markdown",
   "id": "076be67e-b33d-4930-9746-989efe6adbaa",
   "metadata": {},
   "source": [
    "Python provides a small but convenient bit of syntax to automate the reassignment of the function name.\n",
    "\n",
    "See below"
   ]
  },
  {
   "cell_type": "code",
   "execution_count": 13,
   "id": "fb113b62-79e2-46e1-9625-95ced36fc10d",
   "metadata": {},
   "outputs": [
    {
     "name": "stdout",
     "output_type": "stream",
     "text": [
      "Time elapsed was 0.0004379749298095703\n"
     ]
    }
   ],
   "source": [
    "import time\n",
    "\n",
    "def decorator(func):\n",
    "        def wrapper(*args, **kwargs):\n",
    "            t1 = time.time()\n",
    "            ret_val = func(*args, **kwargs)\n",
    "            t2 = time.time()\n",
    "            print('Time elapsed was', t2 - t1)\n",
    "            \n",
    "            return ret_val\n",
    "        \n",
    "        return wrapper\n",
    "\n",
    "\n",
    "@decorator\n",
    "def count_nums(n):\n",
    "    for i in range(n):\n",
    "        for j in range(1000):\n",
    "            pass\n",
    "  \n",
    "# We do not need the below statement now because of @decorator (whatever the function name is of the decorator @decorator_function_name\n",
    "# count_nums = decorator(count_nums)\n",
    "\n",
    "count_nums(10)"
   ]
  },
  {
   "cell_type": "markdown",
   "id": "9c3e2f7c-7923-4538-814a-364d40e2b1c8",
   "metadata": {},
   "source": [
    "## 4.10 Generators\n",
    "\n",
    "Enables you to deal with one member at a time. This creates a \"virtual sequence.\""
   ]
  },
  {
   "cell_type": "markdown",
   "id": "35524427-bfcf-4ed8-b6d9-513ce17402ae",
   "metadata": {},
   "source": [
    "### 4.10.1 What's an iterator?\n",
    "\n",
    "An iterator is an object that produces a stream of values, one at a time.\n",
    "\n",
    "All lists can be iterated, but not all iterators are lists.\n",
    "There are many functions, such as reversed, that produce iterators that are not lists. These cannot be indexed or printed in a useful way, at least not directly. \n",
    "\n",
    "Here's an example:\n",
    "\n",
    "```\n",
    ">>> iter1 = reversed([1, 2, 3, 4])\n",
    ">>> print(iter1)\n",
    "<list_reverseiterator object at 0x1111d7f28>\n",
    "\n",
    "```\n",
    "\n",
    "However, you can convert an iterator to a list and then print it, index it, or slice it:\n",
    "\n",
    "```\n",
    ">>> print(list(iter1)) [4, 3, 2, 1]\n",
    "```"
   ]
  },
  {
   "cell_type": "markdown",
   "id": "554e2384-d655-48b5-bc40-0c01b657857a",
   "metadata": {},
   "source": [
    "### 4.10.2 Introducing Generators\n",
    "\n",
    "A generator is a way to produce an iterator, but the generator function is not itself an iterator.\n",
    "\n",
    "- Write a generator function. You can do this by using a yield statement anywhere in the definition\n",
    "- Call the function you completed in step 1 to get an iterator object\n",
    "- The iterator created in step 2 is what yields values in response to the **next** function. This object contains the info and can be reset as needed"
   ]
  },
  {
   "cell_type": "code",
   "execution_count": 27,
   "id": "e39d2a9f-c23d-4178-9671-77d7d54c3aef",
   "metadata": {},
   "outputs": [
    {
     "name": "stdout",
     "output_type": "stream",
     "text": [
      "2\n",
      "4\n",
      "6\n",
      "8\n",
      "10\n"
     ]
    }
   ],
   "source": [
    "def print_events():\n",
    "    for n in range(2, 11, 2):\n",
    "        print(n)\n",
    "        \n",
    "def make_evens_gen():\n",
    "    for n in range(2, 11, 2):\n",
    "        yield n\n",
    "        \n",
    "# Save iterator object to variable\n",
    "evens = make_evens_gen()\n",
    "\n",
    "# use next() function to move iterator\n",
    "print(next(evens))\n",
    "print(next(evens))\n",
    "print(next(evens))\n",
    "print(next(evens))\n",
    "print(next(evens))"
   ]
  },
  {
   "cell_type": "markdown",
   "id": "49831aa4-5dd4-42a6-a87f-fd0e634f2cc7",
   "metadata": {},
   "source": [
    "# 4.11 Accessing comand-line arguments\n",
    "\n",
    "Running a program from the command lets you provide the program an extra degree of flexibility. \n",
    "\n",
    "You can let the user specify command-line arguments; these are optional arguments that give information directly to the program on start-up\n",
    "\n",
    "Say we ran the following in the command line:\n",
    "\n",
    "`$ python3 silly.py arg1 arg2 arg3`\n",
    "\n",
    "This is the contents of silly.py:\n",
    "```\n",
    "import sys.argv\n",
    "\n",
    "for thing in sys:\n",
    "    print(thing)\n",
    "\n",
    "```\n",
    "\n",
    "The output would be:\n",
    "\n",
    "```\n",
    "arg1\n",
    "arg2\n",
    "arg3\n",
    "```"
   ]
  },
  {
   "cell_type": "markdown",
   "id": "3a66bbfe-731f-4c47-a49e-db8df92f8064",
   "metadata": {},
   "source": [
    "# Chapter 4 summary \n",
    "\n",
    "A large part of this chapter presented ways to improve your efficiency through writing better and more efficient Python code. \n",
    "Beyond that, you can make your programs run faster if you call the print function as rarely as possible within IDLE or else run programs from the command line only.\n",
    "\n",
    "A technique helpful in making your code more efficient is to profile it by using the time and datetime packages to compute the relative speed of the code, given different alogorithms.\n",
    "Writing decorators is helpful in this respect, because you can use them to profile function performance.\n",
    "\n",
    "One of the best ways of supercharging your applications is to use one of the many free packages available for use within Python.\n",
    "Some are built in; others, like the numpy package, you'll need to download.\n"
   ]
  },
  {
   "cell_type": "markdown",
   "id": "75d6d728-679d-4290-adcb-da668e4a1549",
   "metadata": {},
   "source": [
    "# Chapter 4 review questions for review\n",
    "\n",
    "1. Is an assignment operator such as += only a convenience?\n",
    "\n",
    "Answer: Yes, there is no perfomance benefit.\n",
    "\n",
    "2. what is the minimum number of statements you'd neeed to write instead of the python statement `a,b = a + b, a`\n",
    "\n",
    "```\n",
    "save = a\n",
    "a = a + b\n",
    "b = save\n",
    "```\n",
    "\n",
    "Answer: `3`\n",
    "\n",
    "3. What's the most efficient way to initiliza a list of 100 integers to 0 in python?\n",
    "\n",
    "Answer: `[0] * 100`\n",
    "\n",
    "4. What's the most efficient way of initializing a list of 99 integers with the pattern 1, 2, 3 repeated?\n",
    "\n",
    "Answer: `[1, 2, 3]* 99`\n",
    "\n",
    "5. If you're running a Python program from within IDLE, describe how to most efficiently print a multidimensional list\n",
    "\n",
    "Answer: The best way is to avoid using the print function within a for loop, and instead use it outside of it.\n",
    "\n",
    "6. Can you use list comprehension on a string? If so, how?\n",
    "\n",
    "Answer: Yes, since a string has indexes that can be referenced.\n",
    "\n",
    "```\n",
    "a = 'string'\n",
    "[i for i in a]\n",
    "```\n",
    "7. How can you get help on a user-written Python program from the command line?\n",
    "\n",
    "`python -m pydoc yourpythonfile`\n",
    "\n",
    "From idle?\n",
    "\n",
    "`>>help(function_name)`\n",
    "\n",
    "8. Functions are said to be \"first-class objects\" in Python but ot in most other languages, such as C++ or Java. What is something you can do with a Python function that you cannot do in C or C++?\n",
    "\n",
    "Answer: rename a function\n",
    "\n",
    "```\n",
    "def hello():\n",
    "    print('hello')\n",
    "    \n",
    "a = hello\n",
    "\n",
    "a()\n",
    "```\n",
    "\n",
    "9. What's the difference between a wrapper, a wrapped function, and a decorator?\n",
    "\n",
    "Answer:\n",
    "\n",
    "\n",
    "- A wrapper is the function that refactors the function\n",
    "- A decorator is what does the work of creating a wrapper function\n",
    "- A wrapped function is a function that is a new version of the original function that replaces the original\n",
    "\n",
    "10. When a function is a generator function, what does it return if anything?\n",
    "\n",
    "Answer: it returns an iterator object\n",
    "\n",
    "11. From the standpoint of the Python language, what is the one change that needs to be made to a function to turn it into a generator function?\n",
    "\n",
    "Answer: It needs to contain `yield`\n",
    "\n",
    "12. Name at least one advantage of generators.\n",
    "\n",
    "Answer: They allow you to deal with an infinite sequence one member at a time, without storing the entire sequence into memory at once.\n"
   ]
  },
  {
   "cell_type": "markdown",
   "id": "f7f950c9-fd83-4d3b-b45a-5c23fdaff320",
   "metadata": {},
   "source": [
    "# Chapter 4 Suggested Problems\n",
    "\n",
    "1. Print a matrix of 20x20 stars or asterisks(*) from within IDLE. Show the slowest possible means of doing this task and the fastest possible means. Compare and contrast. Use the decorator to profile the speeds of the two ways of printing the asterisks."
   ]
  },
  {
   "cell_type": "code",
   "execution_count": 73,
   "id": "49f241a2-611c-44cd-95fb-99fc70e4e06a",
   "metadata": {},
   "outputs": [
    {
     "name": "stdout",
     "output_type": "stream",
     "text": [
      "print_matrix_1:\n",
      "* * * * * * * * * * * * * * * * * * * * \n",
      "\n",
      "* * * * * * * * * * * * * * * * * * * * \n",
      "\n",
      "* * * * * * * * * * * * * * * * * * * * \n",
      "\n",
      "* * * * * * * * * * * * * * * * * * * * \n",
      "\n",
      "* * * * * * * * * * * * * * * * * * * * \n",
      "\n",
      "* * * * * * * * * * * * * * * * * * * * \n",
      "\n",
      "* * * * * * * * * * * * * * * * * * * * \n",
      "\n",
      "* * * * * * * * * * * * * * * * * * * * \n",
      "\n",
      "* * * * * * * * * * * * * * * * * * * * \n",
      "\n",
      "* * * * * * * * * * * * * * * * * * * * \n",
      "\n",
      "* * * * * * * * * * * * * * * * * * * * \n",
      "\n",
      "* * * * * * * * * * * * * * * * * * * * \n",
      "\n",
      "* * * * * * * * * * * * * * * * * * * * \n",
      "\n",
      "* * * * * * * * * * * * * * * * * * * * \n",
      "\n",
      "* * * * * * * * * * * * * * * * * * * * \n",
      "\n",
      "* * * * * * * * * * * * * * * * * * * * \n",
      "\n",
      "* * * * * * * * * * * * * * * * * * * * \n",
      "\n",
      "* * * * * * * * * * * * * * * * * * * * \n",
      "\n",
      "* * * * * * * * * * * * * * * * * * * * \n",
      "\n",
      "* * * * * * * * * * * * * * * * * * * * \n",
      "\n",
      "Time elapsed was: 0.0015130043029785156\n",
      "print_matrix_2:\n",
      "['*', '*', '*', '*', '*', '*', '*', '*', '*', '*', '*', '*', '*', '*', '*', '*', '*', '*', '*', '*']\n",
      "['*', '*', '*', '*', '*', '*', '*', '*', '*', '*', '*', '*', '*', '*', '*', '*', '*', '*', '*', '*']\n",
      "['*', '*', '*', '*', '*', '*', '*', '*', '*', '*', '*', '*', '*', '*', '*', '*', '*', '*', '*', '*']\n",
      "['*', '*', '*', '*', '*', '*', '*', '*', '*', '*', '*', '*', '*', '*', '*', '*', '*', '*', '*', '*']\n",
      "['*', '*', '*', '*', '*', '*', '*', '*', '*', '*', '*', '*', '*', '*', '*', '*', '*', '*', '*', '*']\n",
      "['*', '*', '*', '*', '*', '*', '*', '*', '*', '*', '*', '*', '*', '*', '*', '*', '*', '*', '*', '*']\n",
      "['*', '*', '*', '*', '*', '*', '*', '*', '*', '*', '*', '*', '*', '*', '*', '*', '*', '*', '*', '*']\n",
      "['*', '*', '*', '*', '*', '*', '*', '*', '*', '*', '*', '*', '*', '*', '*', '*', '*', '*', '*', '*']\n",
      "['*', '*', '*', '*', '*', '*', '*', '*', '*', '*', '*', '*', '*', '*', '*', '*', '*', '*', '*', '*']\n",
      "['*', '*', '*', '*', '*', '*', '*', '*', '*', '*', '*', '*', '*', '*', '*', '*', '*', '*', '*', '*']\n",
      "['*', '*', '*', '*', '*', '*', '*', '*', '*', '*', '*', '*', '*', '*', '*', '*', '*', '*', '*', '*']\n",
      "['*', '*', '*', '*', '*', '*', '*', '*', '*', '*', '*', '*', '*', '*', '*', '*', '*', '*', '*', '*']\n",
      "['*', '*', '*', '*', '*', '*', '*', '*', '*', '*', '*', '*', '*', '*', '*', '*', '*', '*', '*', '*']\n",
      "['*', '*', '*', '*', '*', '*', '*', '*', '*', '*', '*', '*', '*', '*', '*', '*', '*', '*', '*', '*']\n",
      "['*', '*', '*', '*', '*', '*', '*', '*', '*', '*', '*', '*', '*', '*', '*', '*', '*', '*', '*', '*']\n",
      "['*', '*', '*', '*', '*', '*', '*', '*', '*', '*', '*', '*', '*', '*', '*', '*', '*', '*', '*', '*']\n",
      "['*', '*', '*', '*', '*', '*', '*', '*', '*', '*', '*', '*', '*', '*', '*', '*', '*', '*', '*', '*']\n",
      "['*', '*', '*', '*', '*', '*', '*', '*', '*', '*', '*', '*', '*', '*', '*', '*', '*', '*', '*', '*']\n",
      "['*', '*', '*', '*', '*', '*', '*', '*', '*', '*', '*', '*', '*', '*', '*', '*', '*', '*', '*', '*']\n",
      "['*', '*', '*', '*', '*', '*', '*', '*', '*', '*', '*', '*', '*', '*', '*', '*', '*', '*', '*', '*']\n",
      "Time elapsed was: 7.867813110351562e-05\n",
      "print_matrix_3:\n",
      "[['*', '*', '*', '*', '*', '*', '*', '*', '*', '*', '*', '*', '*', '*', '*', '*', '*', '*', '*', '*'], ['*', '*', '*', '*', '*', '*', '*', '*', '*', '*', '*', '*', '*', '*', '*', '*', '*', '*', '*', '*'], ['*', '*', '*', '*', '*', '*', '*', '*', '*', '*', '*', '*', '*', '*', '*', '*', '*', '*', '*', '*'], ['*', '*', '*', '*', '*', '*', '*', '*', '*', '*', '*', '*', '*', '*', '*', '*', '*', '*', '*', '*'], ['*', '*', '*', '*', '*', '*', '*', '*', '*', '*', '*', '*', '*', '*', '*', '*', '*', '*', '*', '*'], ['*', '*', '*', '*', '*', '*', '*', '*', '*', '*', '*', '*', '*', '*', '*', '*', '*', '*', '*', '*'], ['*', '*', '*', '*', '*', '*', '*', '*', '*', '*', '*', '*', '*', '*', '*', '*', '*', '*', '*', '*'], ['*', '*', '*', '*', '*', '*', '*', '*', '*', '*', '*', '*', '*', '*', '*', '*', '*', '*', '*', '*'], ['*', '*', '*', '*', '*', '*', '*', '*', '*', '*', '*', '*', '*', '*', '*', '*', '*', '*', '*', '*'], ['*', '*', '*', '*', '*', '*', '*', '*', '*', '*', '*', '*', '*', '*', '*', '*', '*', '*', '*', '*'], ['*', '*', '*', '*', '*', '*', '*', '*', '*', '*', '*', '*', '*', '*', '*', '*', '*', '*', '*', '*'], ['*', '*', '*', '*', '*', '*', '*', '*', '*', '*', '*', '*', '*', '*', '*', '*', '*', '*', '*', '*'], ['*', '*', '*', '*', '*', '*', '*', '*', '*', '*', '*', '*', '*', '*', '*', '*', '*', '*', '*', '*'], ['*', '*', '*', '*', '*', '*', '*', '*', '*', '*', '*', '*', '*', '*', '*', '*', '*', '*', '*', '*'], ['*', '*', '*', '*', '*', '*', '*', '*', '*', '*', '*', '*', '*', '*', '*', '*', '*', '*', '*', '*'], ['*', '*', '*', '*', '*', '*', '*', '*', '*', '*', '*', '*', '*', '*', '*', '*', '*', '*', '*', '*'], ['*', '*', '*', '*', '*', '*', '*', '*', '*', '*', '*', '*', '*', '*', '*', '*', '*', '*', '*', '*'], ['*', '*', '*', '*', '*', '*', '*', '*', '*', '*', '*', '*', '*', '*', '*', '*', '*', '*', '*', '*'], ['*', '*', '*', '*', '*', '*', '*', '*', '*', '*', '*', '*', '*', '*', '*', '*', '*', '*', '*', '*'], ['*', '*', '*', '*', '*', '*', '*', '*', '*', '*', '*', '*', '*', '*', '*', '*', '*', '*', '*', '*']]\n",
      "Time elapsed was: 4.1961669921875e-05\n",
      "print_matrix_4:\n",
      "* * * * * * * * * * * * * * * * * * * *\n",
      "* * * * * * * * * * * * * * * * * * * *\n",
      "* * * * * * * * * * * * * * * * * * * *\n",
      "* * * * * * * * * * * * * * * * * * * *\n",
      "* * * * * * * * * * * * * * * * * * * *\n",
      "* * * * * * * * * * * * * * * * * * * *\n",
      "* * * * * * * * * * * * * * * * * * * *\n",
      "* * * * * * * * * * * * * * * * * * * *\n",
      "* * * * * * * * * * * * * * * * * * * *\n",
      "* * * * * * * * * * * * * * * * * * * *\n",
      "* * * * * * * * * * * * * * * * * * * *\n",
      "* * * * * * * * * * * * * * * * * * * *\n",
      "* * * * * * * * * * * * * * * * * * * *\n",
      "* * * * * * * * * * * * * * * * * * * *\n",
      "* * * * * * * * * * * * * * * * * * * *\n",
      "* * * * * * * * * * * * * * * * * * * *\n",
      "* * * * * * * * * * * * * * * * * * * *\n",
      "* * * * * * * * * * * * * * * * * * * *\n",
      "* * * * * * * * * * * * * * * * * * * *\n",
      "* * * * * * * * * * * * * * * * * * * *\n",
      "Time elapsed was: 5.221366882324219e-05\n"
     ]
    }
   ],
   "source": [
    "#1. Print a matrix of 20x20 stars and compare the slowest and fastest ways of performing this task\n",
    "\n",
    "import time\n",
    "\n",
    "def decorator(func):\n",
    "    def wrapper(*args, **kwargs):\n",
    "        start = time.time()\n",
    "        func(*args, **kwargs) \n",
    "        stop = time.time()\n",
    "        print(\"Time elapsed was:\", stop - start)\n",
    "    \n",
    "    return wrapper\n",
    "\n",
    "\n",
    "matrix = [['*'] * 20] * 20\n",
    "\n",
    "@decorator\n",
    "def print_matrix_1(mat):\n",
    "    for m in mat:\n",
    "        for j in m:\n",
    "            print(j, end=\" \")\n",
    "        print(\"\\n\")\n",
    "        \n",
    "@decorator\n",
    "def print_matrix_2(mat):\n",
    "    [print(m) for m in mat]\n",
    "    \n",
    "@decorator\n",
    "def print_matrix_3(mat):\n",
    "    print(mat)\n",
    "\n",
    "\n",
    "@decorator\n",
    "def print_matrix_4(mat):\n",
    "    print('\\n'.join(' '.join(map(str, sub)) for sub in mat))\n",
    " \n",
    "print(\"print_matrix_1:\")\n",
    "print_matrix_1(matrix)\n",
    "\n",
    "print(\"print_matrix_2:\")\n",
    "print_matrix_2(matrix)\n",
    "\n",
    "print(\"print_matrix_3:\")\n",
    "print_matrix_3(matrix)\n",
    "\n",
    "print(\"print_matrix_4:\")\n",
    "print_matrix_4(matrix)"
   ]
  },
  {
   "cell_type": "markdown",
   "id": "5c63025a-82a2-40a1-8a51-7bad9c6e4647",
   "metadata": {},
   "source": [
    "2. Write a generator to print all the perfect squares of integers, up to a specified limit. Then write a function to determine wheter an integer argument is a perfect square if it falls into this sequence that is, if n is an integer argument, the phrase n in squre_iter(n) should yield True or False"
   ]
  },
  {
   "cell_type": "code",
   "execution_count": null,
   "id": "9f748f37-6fb4-47c8-9719-ea88a21f7aea",
   "metadata": {},
   "outputs": [],
   "source": []
  },
  {
   "cell_type": "code",
   "execution_count": 77,
   "id": "e655cc4b-242a-4cce-b798-a42111224d05",
   "metadata": {},
   "outputs": [
    {
     "name": "stdout",
     "output_type": "stream",
     "text": [
      "Time elapsed was: 2.1457672119140625e-06\n",
      "Time elapsed was: 1.9073486328125e-06\n"
     ]
    }
   ],
   "source": [
    "# ( This was a test for question 1 in the review questions)\n",
    "\n",
    "import time\n",
    "\n",
    "def decorator(func):\n",
    "    def wrapper(*args, **kwargs):\n",
    "        start = time.time()\n",
    "        func(*args, **kwargs) \n",
    "        stop = time.time()\n",
    "        print(\"Time elapsed was:\", stop - start)\n",
    "    \n",
    "    return wrapper\n",
    "\n",
    "\n",
    "@decorator\n",
    "def add_val_1(a,b):\n",
    "    a += b\n",
    "    return a\n",
    "\n",
    "@decorator\n",
    "def add_val_2(a,b):\n",
    "    a = a + b\n",
    "    return a\n",
    "\n",
    "add_val_1(3, 3)\n",
    "\n",
    "add_val_2(3, 3)"
   ]
  },
  {
   "cell_type": "code",
   "execution_count": null,
   "id": "2e436a24-0855-422a-a0c3-38b8899963c8",
   "metadata": {},
   "outputs": [],
   "source": []
  }
 ],
 "metadata": {
  "kernelspec": {
   "display_name": "Python 3 (ipykernel)",
   "language": "python",
   "name": "python3"
  },
  "language_info": {
   "codemirror_mode": {
    "name": "ipython",
    "version": 3
   },
   "file_extension": ".py",
   "mimetype": "text/x-python",
   "name": "python",
   "nbconvert_exporter": "python",
   "pygments_lexer": "ipython3",
   "version": "3.9.1"
  }
 },
 "nbformat": 4,
 "nbformat_minor": 5
}
