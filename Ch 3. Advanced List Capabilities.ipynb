{
 "cells": [
  {
   "cell_type": "markdown",
   "id": "44598e42",
   "metadata": {},
   "source": [
    "# 3.1 Creating and Using Python Lists"
   ]
  },
  {
   "cell_type": "code",
   "execution_count": 2,
   "id": "ea49b907",
   "metadata": {},
   "outputs": [
    {
     "ename": "TypeError",
     "evalue": "'<' not supported between instances of 'int' and 'str'",
     "output_type": "error",
     "traceback": [
      "\u001b[0;31m---------------------------------------------------------------------------\u001b[0m",
      "\u001b[0;31mTypeError\u001b[0m                                 Traceback (most recent call last)",
      "Input \u001b[0;32mIn [2]\u001b[0m, in \u001b[0;36m<cell line: 5>\u001b[0;34m()\u001b[0m\n\u001b[1;32m      2\u001b[0m any_list \u001b[38;5;241m=\u001b[39m [\u001b[38;5;124m'\u001b[39m\u001b[38;5;124madf\u001b[39m\u001b[38;5;124m'\u001b[39m, \u001b[38;5;124m'\u001b[39m\u001b[38;5;124ma\u001b[39m\u001b[38;5;124m'\u001b[39m, \u001b[38;5;241m1\u001b[39m]\n\u001b[1;32m      4\u001b[0m \u001b[38;5;66;03m# But it should probably be avoided as you can't sort a list with mixed types\u001b[39;00m\n\u001b[0;32m----> 5\u001b[0m \u001b[43many_list\u001b[49m\u001b[38;5;241;43m.\u001b[39;49m\u001b[43msort\u001b[49m\u001b[43m(\u001b[49m\u001b[43m)\u001b[49m\n",
      "\u001b[0;31mTypeError\u001b[0m: '<' not supported between instances of 'int' and 'str'"
     ]
    }
   ],
   "source": [
    "#You can mix data types\n",
    "any_list = ['adf', 'a', 1]\n",
    "\n",
    "# But it should probably be avoided as you can't sort a list with mixed types\n",
    "any_list.sort()"
   ]
  },
  {
   "cell_type": "code",
   "execution_count": 3,
   "id": "c32436d0",
   "metadata": {},
   "outputs": [
    {
     "name": "stdout",
     "output_type": "stream",
     "text": [
      "[2, 3]\n"
     ]
    }
   ],
   "source": [
    "num_list=[1,2,3]\n",
    "\n",
    "# You can remove items from the list by specifying the value:\n",
    "num_list.remove(1)\n",
    "\n",
    "print(num_list)"
   ]
  },
  {
   "cell_type": "markdown",
   "id": "dddc7a44",
   "metadata": {},
   "source": [
    "# 3.2 Copying Lists Versus Copying Variables"
   ]
  },
  {
   "cell_type": "markdown",
   "id": "210f943e",
   "metadata": {},
   "source": [
    "In Python, Variables are more like references in C++ than they are like \"value\" variables. In practical terms, this means that copying from on e collection to another requires a little extra work.\n",
    "\n",
    "What do you think the following does?\n",
    "\n",
    "```\n",
    "a_list = [2,5,10]\n",
    "b_list = a_list\n",
    "```\n",
    "\n",
    "The first statement creates a list, but the second statement creates no data. It just does the following:\n",
    "\n",
    "```\n",
    "Make \"b_list\" an alias for whatever \"a_list\" refers to.\n",
    "```\n",
    "\n",
    "If changes are made to either variable, both reflect that change."
   ]
  },
  {
   "cell_type": "code",
   "execution_count": 5,
   "id": "dc9b7131",
   "metadata": {},
   "outputs": [
    {
     "name": "stdout",
     "output_type": "stream",
     "text": [
      "[2, 5, 10, 20]\n"
     ]
    }
   ],
   "source": [
    "a_list = [2,5,10]\n",
    "b_list = a_list\n",
    "\n",
    "# Make a change to a_list\n",
    "a_list.append(20)\n",
    "\n",
    "# Change is also made to b_list\n",
    "print(b_list)"
   ]
  },
  {
   "cell_type": "markdown",
   "id": "ccec52fc",
   "metadata": {},
   "source": [
    "If you want to avoid this behavior, you will need to create a separate copy of all the elements in the list.\n",
    "\n",
    "Easiest way to do this is by slicing:\n",
    "\n",
    "```\n",
    "b_list = a_list[:]\n",
    "```\n"
   ]
  },
  {
   "cell_type": "markdown",
   "id": "fe00222a",
   "metadata": {},
   "source": [
    "# 3.3 Indexing"
   ]
  },
  {
   "cell_type": "markdown",
   "id": "b5ef9b70",
   "metadata": {},
   "source": [
    "Python supports both nonnegative and negative indexes.\n",
    "\n",
    "The nonnegative indexes are zero-based, so in the following example, list_name[0] refers to the first element.\n",
    "\n",
    "```\n",
    "my_list = [100, 500, 1000]\n",
    "print(my_list[0]) # Print 100.\n",
    "```\n",
    "\n",
    "Because lists are mutable, they can be changed \"in place\" without creating an entirely new list."
   ]
  },
  {
   "cell_type": "code",
   "execution_count": 12,
   "id": "440c5322",
   "metadata": {},
   "outputs": [
    {
     "name": "stdout",
     "output_type": "stream",
     "text": [
      "my_list: [100, 500, 1000]\n",
      "my_list: [20, 500, 1000]\n"
     ]
    }
   ],
   "source": [
    "my_list = [100, 500, 1000]\n",
    "\n",
    "print(\"my_list:\", my_list)\n",
    "\n",
    "my_list[0] = 20\n",
    "\n",
    "print(\"my_list:\", my_list)"
   ]
  },
  {
   "cell_type": "markdown",
   "id": "8f22e477",
   "metadata": {},
   "source": [
    "# 3.3.1 Positive Indexes"
   ]
  },
  {
   "cell_type": "code",
   "execution_count": null,
   "id": "eb61a1b2",
   "metadata": {},
   "outputs": [],
   "source": []
  }
 ],
 "metadata": {
  "kernelspec": {
   "display_name": "Python 3 (ipykernel)",
   "language": "python",
   "name": "python3"
  },
  "language_info": {
   "codemirror_mode": {
    "name": "ipython",
    "version": 3
   },
   "file_extension": ".py",
   "mimetype": "text/x-python",
   "name": "python",
   "nbconvert_exporter": "python",
   "pygments_lexer": "ipython3",
   "version": "3.9.7"
  }
 },
 "nbformat": 4,
 "nbformat_minor": 5
}
