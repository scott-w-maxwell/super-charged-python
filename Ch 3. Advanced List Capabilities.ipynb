{
 "cells": [
  {
   "cell_type": "markdown",
   "id": "44598e42",
   "metadata": {},
   "source": [
    "# 3.1 Creating and Using Python Lists"
   ]
  },
  {
   "cell_type": "code",
   "execution_count": 2,
   "id": "ea49b907",
   "metadata": {},
   "outputs": [
    {
     "ename": "TypeError",
     "evalue": "'<' not supported between instances of 'int' and 'str'",
     "output_type": "error",
     "traceback": [
      "\u001b[0;31m---------------------------------------------------------------------------\u001b[0m",
      "\u001b[0;31mTypeError\u001b[0m                                 Traceback (most recent call last)",
      "Input \u001b[0;32mIn [2]\u001b[0m, in \u001b[0;36m<cell line: 5>\u001b[0;34m()\u001b[0m\n\u001b[1;32m      2\u001b[0m any_list \u001b[38;5;241m=\u001b[39m [\u001b[38;5;124m'\u001b[39m\u001b[38;5;124madf\u001b[39m\u001b[38;5;124m'\u001b[39m, \u001b[38;5;124m'\u001b[39m\u001b[38;5;124ma\u001b[39m\u001b[38;5;124m'\u001b[39m, \u001b[38;5;241m1\u001b[39m]\n\u001b[1;32m      4\u001b[0m \u001b[38;5;66;03m# But it should probably be avoided as you can't sort a list with mixed types\u001b[39;00m\n\u001b[0;32m----> 5\u001b[0m \u001b[43many_list\u001b[49m\u001b[38;5;241;43m.\u001b[39;49m\u001b[43msort\u001b[49m\u001b[43m(\u001b[49m\u001b[43m)\u001b[49m\n",
      "\u001b[0;31mTypeError\u001b[0m: '<' not supported between instances of 'int' and 'str'"
     ]
    }
   ],
   "source": [
    "#You can mix data types\n",
    "any_list = ['adf', 'a', 1]\n",
    "\n",
    "# But it should probably be avoided as you can't sort a list with mixed types\n",
    "any_list.sort()"
   ]
  },
  {
   "cell_type": "code",
   "execution_count": 3,
   "id": "c32436d0",
   "metadata": {},
   "outputs": [
    {
     "name": "stdout",
     "output_type": "stream",
     "text": [
      "[2, 3]\n"
     ]
    }
   ],
   "source": [
    "num_list=[1,2,3]\n",
    "\n",
    "# You can remove items from the list by specifying the value:\n",
    "num_list.remove(1)\n",
    "\n",
    "print(num_list)"
   ]
  },
  {
   "cell_type": "markdown",
   "id": "dddc7a44",
   "metadata": {},
   "source": [
    "# 3.2 Copying Lists Versus Copying Variables"
   ]
  },
  {
   "cell_type": "markdown",
   "id": "210f943e",
   "metadata": {},
   "source": [
    "In Python, Variables are more like references in C++ than they are like \"value\" variables. In practical terms, this means that copying from on e collection to another requires a little extra work.\n",
    "\n",
    "What do you think the following does?\n",
    "\n",
    "```\n",
    "a_list = [2,5,10]\n",
    "b_list = a_list\n",
    "```\n",
    "\n",
    "The first statement creates a list, but the second statement creates no data. It just does the following:\n",
    "\n",
    "```\n",
    "Make \"b_list\" an alias for whatever \"a_list\" refers to.\n",
    "```\n",
    "\n",
    "If changes are made to either variable, both reflect that change."
   ]
  },
  {
   "cell_type": "code",
   "execution_count": 5,
   "id": "dc9b7131",
   "metadata": {},
   "outputs": [
    {
     "name": "stdout",
     "output_type": "stream",
     "text": [
      "[2, 5, 10, 20]\n"
     ]
    }
   ],
   "source": [
    "a_list = [2,5,10]\n",
    "b_list = a_list\n",
    "\n",
    "# Make a change to a_list\n",
    "a_list.append(20)\n",
    "\n",
    "# Change is also made to b_list\n",
    "print(b_list)"
   ]
  },
  {
   "cell_type": "markdown",
   "id": "ccec52fc",
   "metadata": {},
   "source": [
    "If you want to avoid this behavior, you will need to create a separate copy of all the elements in the list.\n",
    "\n",
    "Easiest way to do this is by slicing:\n",
    "\n",
    "```\n",
    "b_list = a_list[:]\n",
    "```\n"
   ]
  },
  {
   "cell_type": "markdown",
   "id": "fe00222a",
   "metadata": {},
   "source": [
    "# 3.3 Indexing"
   ]
  },
  {
   "cell_type": "markdown",
   "id": "b5ef9b70",
   "metadata": {},
   "source": [
    "Python supports both nonnegative and negative indexes.\n",
    "\n",
    "The nonnegative indexes are zero-based, so in the following example, list_name[0] refers to the first element.\n",
    "\n",
    "```\n",
    "my_list = [100, 500, 1000]\n",
    "print(my_list[0]) # Print 100.\n",
    "```\n",
    "\n",
    "Because lists are mutable, they can be changed \"in place\" without creating an entirely new list."
   ]
  },
  {
   "cell_type": "code",
   "execution_count": 12,
   "id": "440c5322",
   "metadata": {},
   "outputs": [
    {
     "name": "stdout",
     "output_type": "stream",
     "text": [
      "my_list: [100, 500, 1000]\n",
      "my_list: [20, 500, 1000]\n"
     ]
    }
   ],
   "source": [
    "my_list = [100, 500, 1000]\n",
    "\n",
    "print(\"my_list:\", my_list)\n",
    "\n",
    "my_list[0] = 20\n",
    "\n",
    "print(\"my_list:\", my_list)"
   ]
  },
  {
   "cell_type": "markdown",
   "id": "8f22e477",
   "metadata": {},
   "source": [
    "# 3.3.1 Positive Indexes"
   ]
  },
  {
   "cell_type": "markdown",
   "id": "54cc1df4-3e4a-49df-ad3a-1290a13248e0",
   "metadata": {},
   "source": [
    "Although lists can grow without limit, an index number must be in range at the time it's used. Otherwise Python raises an IndexError exception\n",
    "\n",
    "```\n",
    "my_list=[100,500,1000]\n",
    "```\n",
    "\n",
    "| Index | 0   | 1   | 2    |\n",
    "|-------|-----|-----|------|\n",
    "| Value | 100 | 500 | 1000 |"
   ]
  },
  {
   "cell_type": "code",
   "execution_count": 1,
   "id": "0e6acf21-7cf3-499d-95a5-c88da8d84a92",
   "metadata": {},
   "outputs": [
    {
     "ename": "IndexError",
     "evalue": "list index out of range",
     "output_type": "error",
     "traceback": [
      "\u001b[0;31m---------------------------------------------------------------------------\u001b[0m",
      "\u001b[0;31mIndexError\u001b[0m                                Traceback (most recent call last)",
      "Input \u001b[0;32mIn [1]\u001b[0m, in \u001b[0;36m<cell line: 3>\u001b[0;34m()\u001b[0m\n\u001b[1;32m      1\u001b[0m my_list\u001b[38;5;241m=\u001b[39m[\u001b[38;5;241m100\u001b[39m,\u001b[38;5;241m500\u001b[39m,\u001b[38;5;241m1000\u001b[39m]\n\u001b[0;32m----> 3\u001b[0m \u001b[38;5;28mprint\u001b[39m(\u001b[43mmy_list\u001b[49m\u001b[43m[\u001b[49m\u001b[38;5;241;43m3\u001b[39;49m\u001b[43m]\u001b[49m)\n",
      "\u001b[0;31mIndexError\u001b[0m: list index out of range"
     ]
    }
   ],
   "source": [
    "my_list=[100,500,1000]\n",
    "\n",
    "print(my_list[3])"
   ]
  },
  {
   "cell_type": "markdown",
   "id": "5c1d4a3d-0bc8-4229-bf12-e23e001e58d5",
   "metadata": {},
   "source": [
    "# 3.3.2 Negative Indexes\n",
    "\n",
    "You can also refer to items in a list by using negative indexes, which refer to an element by its distance from the end of the list.\n",
    "\n",
    "An index value of -1 denotes the last element in a list, and -2 denotes the next-to-last element and so on."
   ]
  },
  {
   "cell_type": "code",
   "execution_count": 2,
   "id": "ac729627-5ffc-4d76-b431-afb1b31e9f67",
   "metadata": {},
   "outputs": [
    {
     "name": "stdout",
     "output_type": "stream",
     "text": [
      "1000\n"
     ]
    }
   ],
   "source": [
    "print(my_list[-1])"
   ]
  },
  {
   "cell_type": "markdown",
   "id": "b2476bac-436c-4d81-bcc1-55ed8bcebc42",
   "metadata": {},
   "source": [
    "# 3.3.3 Generating Index numbers using enumerate\n",
    "\n",
    "The \"Pythonic\" way is to vaoid the range function except where it's needed. Here's the correct way to write a loop that prints elements of a list:"
   ]
  },
  {
   "cell_type": "code",
   "execution_count": 4,
   "id": "770d6da1-1263-492b-8236-c188a6af8cf9",
   "metadata": {},
   "outputs": [
    {
     "name": "stdout",
     "output_type": "stream",
     "text": [
      "Tom\n",
      "Dick\n",
      "Jane\n"
     ]
    }
   ],
   "source": [
    "a_list = ['Tom', 'Dick', 'Jane']\n",
    "\n",
    "for name in a_list:\n",
    "    print(name)"
   ]
  },
  {
   "cell_type": "markdown",
   "id": "48415160-91de-4fd0-a4da-5f72f3d828e4",
   "metadata": {},
   "source": [
    "This approach is more natural and efficient than relying on indexing, which would be inefficient and slower.\n",
    "\n",
    "What if you want to list the items next to numbers? You can do that by using index numbers, but a better technique is to use the enumerate function."
   ]
  },
  {
   "cell_type": "code",
   "execution_count": 6,
   "id": "de81360a-9f27-44ac-bcb7-499071e61143",
   "metadata": {},
   "outputs": [
    {
     "data": {
      "text/plain": [
       "[(1, 'Tom'), (2, 'Dick'), (3, 'Jane')]"
      ]
     },
     "execution_count": 6,
     "metadata": {},
     "output_type": "execute_result"
    }
   ],
   "source": [
    "list(enumerate(a_list, 1))"
   ]
  },
  {
   "cell_type": "code",
   "execution_count": 7,
   "id": "46d0c68a-78ad-49e2-8aa6-4ead7643abd2",
   "metadata": {},
   "outputs": [
    {
     "name": "stdout",
     "output_type": "stream",
     "text": [
      "1. Tom\n",
      "2. Dick\n",
      "3. Jane\n"
     ]
    }
   ],
   "source": [
    "for item_num, name_str in enumerate(a_list, 1):\n",
    "    print(item_num, '. ', name_str, sep=\"\")"
   ]
  },
  {
   "cell_type": "markdown",
   "id": "a0d4cd9a-05a9-4c75-9ed1-4335f0a7ac4b",
   "metadata": {},
   "source": [
    "# 3.4 Getting Data from Slices\n",
    "\n",
    "| Syntax             | Produces this new list                                                                                                                                                                                                                              |\n",
    "|--------------------|-----------------------------------------------------------------------------------------------------------------------------------------------------------------------------------------------------------------------------------------------------|\n",
    "| list[beg:end]      | All list elements starting with beg, up to but not including end.                                                                                                                                                                                   |\n",
    "| list[:end]         | All elements from the beginning of the list, up to but not including end.                                                                                                                                                                           |\n",
    "| list[beg:]         | All elements from beg forward to the end of the list                                                                                                                                                                                                |\n",
    "| list[:]            | All elements in the list; this operation copies the entire list, element by element.                                                                                                                                                                |\n",
    "| list[beg:end:step] | All elements starting with beg, up to but not including end; but movement through the list is step items at a atime. With this syntax any or all three values may be omitted. Each has a reasonable default  value; the default value of step is 1. |"
   ]
  },
  {
   "cell_type": "code",
   "execution_count": 11,
   "id": "a7c8b28f-468a-4277-a3d4-e48d50adeff1",
   "metadata": {},
   "outputs": [],
   "source": [
    "my_list = ['1','2','3','4','5','6','7']"
   ]
  },
  {
   "cell_type": "code",
   "execution_count": 13,
   "id": "f1d4ecbd-37ab-4489-b1fa-8db8c0f84804",
   "metadata": {},
   "outputs": [
    {
     "data": {
      "text/plain": [
       "['2', '3', '4', '5', '6']"
      ]
     },
     "execution_count": 13,
     "metadata": {},
     "output_type": "execute_result"
    }
   ],
   "source": [
    "my_list[1:6] # All list elements starting with beg, up to but not including end.\n",
    "\n",
    "# ['2', '3', '4', '5', '6']"
   ]
  },
  {
   "cell_type": "code",
   "execution_count": 15,
   "id": "f03f7a47-d649-415e-ab81-96d10f098154",
   "metadata": {},
   "outputs": [
    {
     "data": {
      "text/plain": [
       "['1', '2', '3', '4', '5', '6']"
      ]
     },
     "execution_count": 15,
     "metadata": {},
     "output_type": "execute_result"
    }
   ],
   "source": [
    "my_list[:6] #All elements from the beginning of the list, up to but not including end.\n",
    "\n",
    "# ['1', '2', '3', '4', '5', '6']"
   ]
  },
  {
   "cell_type": "code",
   "execution_count": 18,
   "id": "39b4e0fe-e895-40fe-8048-0258afc21abf",
   "metadata": {},
   "outputs": [
    {
     "data": {
      "text/plain": [
       "['3', '4', '5', '6', '7']"
      ]
     },
     "execution_count": 18,
     "metadata": {},
     "output_type": "execute_result"
    }
   ],
   "source": [
    "my_list[2:] # All elements from beg forward to the end of the list"
   ]
  },
  {
   "cell_type": "code",
   "execution_count": 20,
   "id": "5d40aa4b-6612-46d0-9798-bdf2d8260fcc",
   "metadata": {},
   "outputs": [
    {
     "data": {
      "text/plain": [
       "['1', '2', '3', '4', '5', '6', '7']"
      ]
     },
     "execution_count": 20,
     "metadata": {},
     "output_type": "execute_result"
    }
   ],
   "source": [
    "my_list[:] # All elements in the list; this operation copies the entire list, element by element.\n",
    "\n",
    "# ['1', '2', '3', '4', '5', '6', '7']"
   ]
  },
  {
   "cell_type": "code",
   "execution_count": 24,
   "id": "083cab44-30cb-46f9-96d1-771efec2697b",
   "metadata": {},
   "outputs": [
    {
     "data": {
      "text/plain": [
       "['1', '3', '5']"
      ]
     },
     "execution_count": 24,
     "metadata": {},
     "output_type": "execute_result"
    }
   ],
   "source": [
    "my_list[0:6:2] # All elements starting with beg, up to but not including end;but movement through the list is step items at a time.\n",
    "\n",
    "# ['1', '3', '5']"
   ]
  },
  {
   "cell_type": "markdown",
   "id": "083cd3eb-b676-470e-9ba3-c7fb38deae65",
   "metadata": {},
   "source": [
    "# 3.5 Assigning into slices\n",
    "\n",
    "Because lists are mutable, you can assign elements in place, and this extends to slicing"
   ]
  },
  {
   "cell_type": "code",
   "execution_count": 30,
   "id": "faa0b2a4-f99e-4531-b6be-d48c7fcbbbdf",
   "metadata": {},
   "outputs": [
    {
     "name": "stdout",
     "output_type": "stream",
     "text": [
      "['1', 10, 20, '3', '4', '5', '6', '7']\n"
     ]
    }
   ],
   "source": [
    "my_list = ['1','2','3','4','5','6','7']\n",
    "\n",
    "my_list[1:2] = [10,20]\n",
    "\n",
    "print(my_list)\n",
    "#  ['1', 10, 20, 20, '3', '4', '5', '6', '7']"
   ]
  },
  {
   "cell_type": "code",
   "execution_count": null,
   "id": "bbefef0d-fecd-4580-bc67-c71878ca1e01",
   "metadata": {},
   "outputs": [],
   "source": [
    "Some restrictions:\n",
    "    \n",
    "- When you assign to a slice of a list, the source of the assignment must be another list or collection, even if it has zero or one elem"
   ]
  }
 ],
 "metadata": {
  "kernelspec": {
   "display_name": "Python 3 (ipykernel)",
   "language": "python",
   "name": "python3"
  },
  "language_info": {
   "codemirror_mode": {
    "name": "ipython",
    "version": 3
   },
   "file_extension": ".py",
   "mimetype": "text/x-python",
   "name": "python",
   "nbconvert_exporter": "python",
   "pygments_lexer": "ipython3",
   "version": "3.9.7"
  }
 },
 "nbformat": 4,
 "nbformat_minor": 5
}
