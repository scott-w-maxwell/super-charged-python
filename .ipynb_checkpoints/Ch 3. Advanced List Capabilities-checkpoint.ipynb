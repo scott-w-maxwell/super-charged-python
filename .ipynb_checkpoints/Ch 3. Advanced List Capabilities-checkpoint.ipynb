{
 "cells": [
  {
   "cell_type": "markdown",
   "id": "44598e42",
   "metadata": {},
   "source": [
    "# 3.1 Creating and Using Python Lists"
   ]
  },
  {
   "cell_type": "code",
   "execution_count": 2,
   "id": "ea49b907",
   "metadata": {},
   "outputs": [
    {
     "ename": "TypeError",
     "evalue": "'<' not supported between instances of 'int' and 'str'",
     "output_type": "error",
     "traceback": [
      "\u001b[0;31m---------------------------------------------------------------------------\u001b[0m",
      "\u001b[0;31mTypeError\u001b[0m                                 Traceback (most recent call last)",
      "Input \u001b[0;32mIn [2]\u001b[0m, in \u001b[0;36m<cell line: 5>\u001b[0;34m()\u001b[0m\n\u001b[1;32m      2\u001b[0m any_list \u001b[38;5;241m=\u001b[39m [\u001b[38;5;124m'\u001b[39m\u001b[38;5;124madf\u001b[39m\u001b[38;5;124m'\u001b[39m, \u001b[38;5;124m'\u001b[39m\u001b[38;5;124ma\u001b[39m\u001b[38;5;124m'\u001b[39m, \u001b[38;5;241m1\u001b[39m]\n\u001b[1;32m      4\u001b[0m \u001b[38;5;66;03m# But it should probably be avoided as you can't sort a list with mixed types\u001b[39;00m\n\u001b[0;32m----> 5\u001b[0m \u001b[43many_list\u001b[49m\u001b[38;5;241;43m.\u001b[39;49m\u001b[43msort\u001b[49m\u001b[43m(\u001b[49m\u001b[43m)\u001b[49m\n",
      "\u001b[0;31mTypeError\u001b[0m: '<' not supported between instances of 'int' and 'str'"
     ]
    }
   ],
   "source": [
    "#You can mix data types\n",
    "any_list = ['adf', 'a', 1]\n",
    "\n",
    "# But it should probably be avoided as you can't sort a list with mixed types\n",
    "any_list.sort()"
   ]
  },
  {
   "cell_type": "code",
   "execution_count": 3,
   "id": "c32436d0",
   "metadata": {},
   "outputs": [
    {
     "name": "stdout",
     "output_type": "stream",
     "text": [
      "[2, 3]\n"
     ]
    }
   ],
   "source": [
    "num_list=[1,2,3]\n",
    "\n",
    "# You can remove items from the list by specifying the value:\n",
    "num_list.remove(1)\n",
    "\n",
    "print(num_list)"
   ]
  },
  {
   "cell_type": "markdown",
   "id": "dddc7a44",
   "metadata": {},
   "source": [
    "# 3.2 Copying Lists Versus Copying Variables"
   ]
  },
  {
   "cell_type": "markdown",
   "id": "210f943e",
   "metadata": {},
   "source": [
    "In Python, Variables are more like references in C++ than they are like \"value\" variables. In practical terms, this means that copying from on e collection to another requires a little extra work.\n",
    "\n",
    "What do you think the following does?\n",
    "\n",
    "```\n",
    "a_list = [2,5,10]\n",
    "b_list = a_list\n",
    "```\n",
    "\n",
    "The first statement creates a list, but the second statement creates no data. It just does the following:\n",
    "\n",
    "```\n",
    "Make \"b_list\" an alias for whatever \"a_list\" refers to.\n",
    "```\n",
    "\n",
    "If changes are made to either variable, both reflect that change."
   ]
  },
  {
   "cell_type": "code",
   "execution_count": 5,
   "id": "dc9b7131",
   "metadata": {},
   "outputs": [
    {
     "name": "stdout",
     "output_type": "stream",
     "text": [
      "[2, 5, 10, 20]\n"
     ]
    }
   ],
   "source": [
    "a_list = [2,5,10]\n",
    "b_list = a_list\n",
    "\n",
    "# Make a change to a_list\n",
    "a_list.append(20)\n",
    "\n",
    "# Change is also made to b_list\n",
    "print(b_list)"
   ]
  },
  {
   "cell_type": "markdown",
   "id": "ccec52fc",
   "metadata": {},
   "source": [
    "If you want to avoid this behavior, you will need to create a separate copy of all the elements in the list.\n",
    "\n",
    "Easiest way to do this is by slicing:\n",
    "\n",
    "```\n",
    "b_list = a_list[:]\n",
    "```\n"
   ]
  },
  {
   "cell_type": "markdown",
   "id": "fe00222a",
   "metadata": {},
   "source": [
    "# 3.3 Indexing"
   ]
  },
  {
   "cell_type": "markdown",
   "id": "b5ef9b70",
   "metadata": {},
   "source": [
    "Python supports both nonnegative and negative indexes.\n",
    "\n",
    "The nonnegative indexes are zero-based, so in the following example, list_name[0] refers to the first element.\n",
    "\n",
    "```\n",
    "my_list = [100, 500, 1000]\n",
    "print(my_list[0]) # Print 100.\n",
    "```\n",
    "\n",
    "Because lists are mutable, they can be changed \"in place\" without creating an entirely new list."
   ]
  },
  {
   "cell_type": "code",
   "execution_count": 12,
   "id": "440c5322",
   "metadata": {},
   "outputs": [
    {
     "name": "stdout",
     "output_type": "stream",
     "text": [
      "my_list: [100, 500, 1000]\n",
      "my_list: [20, 500, 1000]\n"
     ]
    }
   ],
   "source": [
    "my_list = [100, 500, 1000]\n",
    "\n",
    "print(\"my_list:\", my_list)\n",
    "\n",
    "my_list[0] = 20\n",
    "\n",
    "print(\"my_list:\", my_list)"
   ]
  },
  {
   "cell_type": "markdown",
   "id": "8f22e477",
   "metadata": {},
   "source": [
    "# 3.3.1 Positive Indexes"
   ]
  },
  {
   "cell_type": "markdown",
   "id": "54cc1df4-3e4a-49df-ad3a-1290a13248e0",
   "metadata": {},
   "source": [
    "Although lists can grow without limit, an index number must be in range at the time it's used. Otherwise Python raises an IndexError exception\n",
    "\n",
    "```\n",
    "my_list=[100,500,1000]\n",
    "```\n",
    "\n",
    "| Index | 0   | 1   | 2    |\n",
    "|-------|-----|-----|------|\n",
    "| Value | 100 | 500 | 1000 |"
   ]
  },
  {
   "cell_type": "code",
   "execution_count": 1,
   "id": "0e6acf21-7cf3-499d-95a5-c88da8d84a92",
   "metadata": {},
   "outputs": [
    {
     "ename": "IndexError",
     "evalue": "list index out of range",
     "output_type": "error",
     "traceback": [
      "\u001b[0;31m---------------------------------------------------------------------------\u001b[0m",
      "\u001b[0;31mIndexError\u001b[0m                                Traceback (most recent call last)",
      "Input \u001b[0;32mIn [1]\u001b[0m, in \u001b[0;36m<cell line: 3>\u001b[0;34m()\u001b[0m\n\u001b[1;32m      1\u001b[0m my_list\u001b[38;5;241m=\u001b[39m[\u001b[38;5;241m100\u001b[39m,\u001b[38;5;241m500\u001b[39m,\u001b[38;5;241m1000\u001b[39m]\n\u001b[0;32m----> 3\u001b[0m \u001b[38;5;28mprint\u001b[39m(\u001b[43mmy_list\u001b[49m\u001b[43m[\u001b[49m\u001b[38;5;241;43m3\u001b[39;49m\u001b[43m]\u001b[49m)\n",
      "\u001b[0;31mIndexError\u001b[0m: list index out of range"
     ]
    }
   ],
   "source": [
    "my_list=[100,500,1000]\n",
    "\n",
    "print(my_list[3])"
   ]
  },
  {
   "cell_type": "markdown",
   "id": "5c1d4a3d-0bc8-4229-bf12-e23e001e58d5",
   "metadata": {},
   "source": [
    "# 3.3.2 Negative Indexes\n",
    "\n",
    "You can also refer to items in a list by using negative indexes, which refer to an element by its distance from the end of the list.\n",
    "\n",
    "An index value of -1 denotes the last element in a list, and -2 denotes the next-to-last element and so on."
   ]
  },
  {
   "cell_type": "code",
   "execution_count": 2,
   "id": "ac729627-5ffc-4d76-b431-afb1b31e9f67",
   "metadata": {},
   "outputs": [
    {
     "name": "stdout",
     "output_type": "stream",
     "text": [
      "1000\n"
     ]
    }
   ],
   "source": [
    "print(my_list[-1])"
   ]
  },
  {
   "cell_type": "markdown",
   "id": "b2476bac-436c-4d81-bcc1-55ed8bcebc42",
   "metadata": {},
   "source": [
    "# 3.3.3 Generating Index numbers using enumerate\n",
    "\n",
    "The \"Pythonic\" way is to vaoid the range function except where it's needed. Here's the correct way to write a loop that prints elements of a list:"
   ]
  },
  {
   "cell_type": "code",
   "execution_count": 4,
   "id": "770d6da1-1263-492b-8236-c188a6af8cf9",
   "metadata": {},
   "outputs": [
    {
     "name": "stdout",
     "output_type": "stream",
     "text": [
      "Tom\n",
      "Dick\n",
      "Jane\n"
     ]
    }
   ],
   "source": [
    "a_list = ['Tom', 'Dick', 'Jane']\n",
    "\n",
    "for name in a_list:\n",
    "    print(name)"
   ]
  },
  {
   "cell_type": "markdown",
   "id": "48415160-91de-4fd0-a4da-5f72f3d828e4",
   "metadata": {},
   "source": [
    "This approach is more natural and efficient than relying on indexing, which would be inefficient and slower.\n",
    "\n",
    "What if you want to list the items next to numbers? You can do that by using index numbers, but a better technique is to use the enumerate function."
   ]
  },
  {
   "cell_type": "code",
   "execution_count": 6,
   "id": "de81360a-9f27-44ac-bcb7-499071e61143",
   "metadata": {},
   "outputs": [
    {
     "data": {
      "text/plain": [
       "[(1, 'Tom'), (2, 'Dick'), (3, 'Jane')]"
      ]
     },
     "execution_count": 6,
     "metadata": {},
     "output_type": "execute_result"
    }
   ],
   "source": [
    "list(enumerate(a_list, 1))"
   ]
  },
  {
   "cell_type": "code",
   "execution_count": 7,
   "id": "46d0c68a-78ad-49e2-8aa6-4ead7643abd2",
   "metadata": {},
   "outputs": [
    {
     "name": "stdout",
     "output_type": "stream",
     "text": [
      "1. Tom\n",
      "2. Dick\n",
      "3. Jane\n"
     ]
    }
   ],
   "source": [
    "for item_num, name_str in enumerate(a_list, 1):\n",
    "    print(item_num, '. ', name_str, sep=\"\")"
   ]
  },
  {
   "cell_type": "markdown",
   "id": "a0d4cd9a-05a9-4c75-9ed1-4335f0a7ac4b",
   "metadata": {},
   "source": [
    "# 3.4 Getting Data from Slices\n",
    "\n",
    "| Syntax             | Produces this new list                                                                                                                                                                                                                              |\n",
    "|--------------------|-----------------------------------------------------------------------------------------------------------------------------------------------------------------------------------------------------------------------------------------------------|\n",
    "| list[beg:end]      | All list elements starting with beg, up to but not including end.                                                                                                                                                                                   |\n",
    "| list[:end]         | All elements from the beginning of the list, up to but not including end.                                                                                                                                                                           |\n",
    "| list[beg:]         | All elements from beg forward to the end of the list                                                                                                                                                                                                |\n",
    "| list[:]            | All elements in the list; this operation copies the entire list, element by element.                                                                                                                                                                |\n",
    "| list[beg:end:step] | All elements starting with beg, up to but not including end; but movement through the list is step items at a atime. With this syntax any or all three values may be omitted. Each has a reasonable default  value; the default value of step is 1. |"
   ]
  },
  {
   "cell_type": "code",
   "execution_count": 11,
   "id": "a7c8b28f-468a-4277-a3d4-e48d50adeff1",
   "metadata": {},
   "outputs": [],
   "source": [
    "my_list = ['1','2','3','4','5','6','7']"
   ]
  },
  {
   "cell_type": "code",
   "execution_count": 13,
   "id": "f1d4ecbd-37ab-4489-b1fa-8db8c0f84804",
   "metadata": {},
   "outputs": [
    {
     "data": {
      "text/plain": [
       "['2', '3', '4', '5', '6']"
      ]
     },
     "execution_count": 13,
     "metadata": {},
     "output_type": "execute_result"
    }
   ],
   "source": [
    "my_list[1:6] # All list elements starting with beg, up to but not including end.\n",
    "\n",
    "# ['2', '3', '4', '5', '6']"
   ]
  },
  {
   "cell_type": "code",
   "execution_count": 15,
   "id": "f03f7a47-d649-415e-ab81-96d10f098154",
   "metadata": {},
   "outputs": [
    {
     "data": {
      "text/plain": [
       "['1', '2', '3', '4', '5', '6']"
      ]
     },
     "execution_count": 15,
     "metadata": {},
     "output_type": "execute_result"
    }
   ],
   "source": [
    "my_list[:6] #All elements from the beginning of the list, up to but not including end.\n",
    "\n",
    "# ['1', '2', '3', '4', '5', '6']"
   ]
  },
  {
   "cell_type": "code",
   "execution_count": 18,
   "id": "39b4e0fe-e895-40fe-8048-0258afc21abf",
   "metadata": {},
   "outputs": [
    {
     "data": {
      "text/plain": [
       "['3', '4', '5', '6', '7']"
      ]
     },
     "execution_count": 18,
     "metadata": {},
     "output_type": "execute_result"
    }
   ],
   "source": [
    "my_list[2:] # All elements from beg forward to the end of the list"
   ]
  },
  {
   "cell_type": "code",
   "execution_count": 20,
   "id": "5d40aa4b-6612-46d0-9798-bdf2d8260fcc",
   "metadata": {},
   "outputs": [
    {
     "data": {
      "text/plain": [
       "['1', '2', '3', '4', '5', '6', '7']"
      ]
     },
     "execution_count": 20,
     "metadata": {},
     "output_type": "execute_result"
    }
   ],
   "source": [
    "my_list[:] # All elements in the list; this operation copies the entire list, element by element.\n",
    "\n",
    "# ['1', '2', '3', '4', '5', '6', '7']"
   ]
  },
  {
   "cell_type": "code",
   "execution_count": 24,
   "id": "083cab44-30cb-46f9-96d1-771efec2697b",
   "metadata": {},
   "outputs": [
    {
     "data": {
      "text/plain": [
       "['1', '3', '5']"
      ]
     },
     "execution_count": 24,
     "metadata": {},
     "output_type": "execute_result"
    }
   ],
   "source": [
    "my_list[0:6:2] # All elements starting with beg, up to but not including end;but movement through the list is step items at a time.\n",
    "\n",
    "# ['1', '3', '5']"
   ]
  },
  {
   "cell_type": "markdown",
   "id": "083cd3eb-b676-470e-9ba3-c7fb38deae65",
   "metadata": {},
   "source": [
    "# 3.5 Assigning into slices\n",
    "\n",
    "Because lists are mutable, you can assign elements in place, and this extends to slicing"
   ]
  },
  {
   "cell_type": "code",
   "execution_count": 30,
   "id": "faa0b2a4-f99e-4531-b6be-d48c7fcbbbdf",
   "metadata": {},
   "outputs": [
    {
     "name": "stdout",
     "output_type": "stream",
     "text": [
      "['1', 10, 20, '3', '4', '5', '6', '7']\n"
     ]
    }
   ],
   "source": [
    "my_list = ['1','2','3','4','5','6','7']\n",
    "\n",
    "my_list[1:2] = [10,20]\n",
    "\n",
    "print(my_list)\n",
    "#  ['1', 10, 20, 20, '3', '4', '5', '6', '7']"
   ]
  },
  {
   "cell_type": "markdown",
   "id": "1a6320e1-c80a-4a4d-b0d0-1d44167d6916",
   "metadata": {},
   "source": [
    "Some restrictions:\n",
    "    \n",
    "- When you assign to a slice of a list, the source of the assignment must be another list or collection, even if it has zero or one element\n",
    "\n",
    "- If you include a step argument in the slice to be assigned to, the sized of the two collections-the slice assigned to and the sequence providing the data- must match in size. If step is not specified, the sizes do not need to match."
   ]
  },
  {
   "cell_type": "markdown",
   "id": "926e88f5-b705-467e-8ae1-4876876dbe96",
   "metadata": {},
   "source": [
    "# 3.6 List Operators"
   ]
  },
  {
   "cell_type": "markdown",
   "id": "49b157ad-deea-4c7a-960d-3edace63e682",
   "metadata": {},
   "source": [
    "\n",
    "`list1 + list2` - Produces a new list containing the contents of both list1 and list2 by performing concatenation.\n",
    "\n",
    "\n",
    "`list1 * n, orn * list2` - Produces a list containing the contents of list1, repeated n times. For example, [0] * 3 produces [0, 0, 0].\n",
    "\n",
    "\n",
    "`list[n]` - Indexing.\n",
    "\n",
    "`list[beg:end:step]` - Slicing\n",
    "\n",
    "\n"
   ]
  },
  {
   "cell_type": "code",
   "execution_count": 23,
   "id": "653ef284-d4cb-4d34-a9a4-85a8dac6dfba",
   "metadata": {},
   "outputs": [
    {
     "data": {
      "text/plain": [
       "True"
      ]
     },
     "execution_count": 23,
     "metadata": {},
     "output_type": "execute_result"
    }
   ],
   "source": [
    "list1=[1234, 'asdf']\n",
    "list2=[1234]\n",
    "\n",
    "list1 > list2"
   ]
  },
  {
   "cell_type": "code",
   "execution_count": 25,
   "id": "21c68ff6-2744-4c7a-bec6-362eb4b80827",
   "metadata": {},
   "outputs": [
    {
     "data": {
      "text/plain": [
       "[4, 5, 6, 1, 2, 3]"
      ]
     },
     "execution_count": 25,
     "metadata": {},
     "output_type": "execute_result"
    }
   ],
   "source": [
    "a = [1,2,3]\n",
    "b = [4,5,6]\n",
    "\n",
    "b += a\n",
    "\n",
    "a = [1]\n",
    "\n",
    "b"
   ]
  },
  {
   "cell_type": "markdown",
   "id": "c123ea53-0847-4950-9284-b5fc3f47fdb4",
   "metadata": {},
   "source": [
    "# 3.7 Shallow Versus Deep Copying\n",
    "\n",
    "The difference between shallow and deep copying is an important topic in python.\n",
    "\n",
    "```\n",
    "a_list = [1, 2, [5, 10]]\n",
    "b_list = a_list[:] # Memeber by member copy\n",
    "```\n",
    "\n",
    "Le'ts modify b_list through indexing, setting each element to 0:\n",
    "\n",
    "```\n",
    "b_list[0] = 0\n",
    "b_list[1] = 0\n",
    "b_list[2][0] = 0\n",
    "b_list[2][1] = 0\n",
    "```\n",
    "\n",
    "You would probably expect none of these assignments to affect a_list, because that's a separate collection from b_list. But if you print a_list, here's what you get:\n",
    "\n",
    "```\n",
    ">>>print(a_list)\n",
    "[1, 2, [0,. 0]]\n",
    "```\n",
    "\n",
    "The member-by-member copy, carried out earlier, copied the values 1 and 2, followed by a reference to the list within a list. Consequently, changes made to b_list can affect a_list if they involv ehte second level.\n",
    "\n",
    "\n",
    "How can we avoid this? The answers is to do a deep copy to get the expected behavior. This function can be found within the python library `copy`.\n",
    "\n",
    "```\n",
    "import copy\n",
    "\n",
    "a_list = [1, 2, [5, 10]]\n",
    "b_list = copy.deepcopoy(a_list) # Create a DEEP COPY.\n",
    "```\n",
    "\n",
    "If changes are now made to b_list after being copied to a_list, they will nhave no furhter effect on a_list."
   ]
  },
  {
   "cell_type": "markdown",
   "id": "2e9f8137-bc34-499e-8523-1dac4e059dbe",
   "metadata": {},
   "source": [
    "# 3.8 List Functions\n",
    "```\n",
    "len(collection)      # Returns length of the collection\n",
    "max(collection)      # Returns the elem with maximum value\n",
    "min(collection)      # Returns the elem with the minimum value\n",
    "reversed(collection) # Produces iter in reversed order\n",
    "sorted(collection)   # Produces list in sorted order\n",
    "sum(collection)      # Adds up all the elements which must be numeric\n",
    "```"
   ]
  },
  {
   "cell_type": "markdown",
   "id": "2c895eda-ccb4-4b95-8a9a-c5c6905b038b",
   "metadata": {},
   "source": [
    "# 3.9 List Methods: Modifying a List\n",
    "\n",
    "```\n",
    "list.append(value)        # Append a value\n",
    "list.clear()              # Remove all contents\n",
    "list.extend(iterable)     # Append a series of values\n",
    "list.insert(index, value) # At index, insert value\n",
    "list.remove(value)        # Remove first instance of value\n",
    "```\n",
    "\n"
   ]
  },
  {
   "cell_type": "markdown",
   "id": "5ac5d810-ff62-4646-982f-eeec3b71494e",
   "metadata": {},
   "source": [
    "The append and extend methods have a similar purpose, but the extend method adds a series of elements from a collection or iterable."
   ]
  },
  {
   "cell_type": "code",
   "execution_count": 4,
   "id": "f1477667-8aec-4b4c-8f06-c63e967f220c",
   "metadata": {},
   "outputs": [
    {
     "name": "stdout",
     "output_type": "stream",
     "text": [
      "[1, 2, 3, 4]\n",
      "[1, 2, 3, 4, 5]\n",
      "[1, 2, 3, 4, 5, 6, 7, 8]\n"
     ]
    }
   ],
   "source": [
    "a_list = [1, 2, 3]\n",
    "\n",
    "a_list.append(4)\n",
    "print(a_list)\n",
    "a_list.extend([5])\n",
    "print(a_list)\n",
    "\n",
    "a_list.extend([6,7,8])\n",
    "print(a_list)"
   ]
  },
  {
   "cell_type": "code",
   "execution_count": 5,
   "id": "f1db9141-8ccc-4eec-9239-7645935d6008",
   "metadata": {},
   "outputs": [
    {
     "name": "stdout",
     "output_type": "stream",
     "text": [
      "[1, 2, 3, 5, 6, 7, 8]\n"
     ]
    }
   ],
   "source": [
    "a_list.remove(4)\n",
    "print(a_list)"
   ]
  },
  {
   "cell_type": "markdown",
   "id": "bc360a0c-d8ab-4f32-b950-5078d12cbb6b",
   "metadata": {},
   "source": [
    "# 3.10 List Methods: Getting Information on Contents"
   ]
  },
  {
   "cell_type": "markdown",
   "id": "20e43aea-7bf9-445e-acb7-371efcbc909f",
   "metadata": {},
   "source": [
    "```\n",
    "list.count(value) #get no. of instances\n",
    "list.index(value[, beg [, end]]) # Get index of value\n",
    "list.pop([index]) # Return and remove indexed item: last by default\n",
    "```\n"
   ]
  },
  {
   "cell_type": "code",
   "execution_count": 16,
   "id": "ffc90dcb-ce0e-4a80-aedc-c1dce4280fca",
   "metadata": {},
   "outputs": [
    {
     "data": {
      "text/plain": [
       "['b', 'a']"
      ]
     },
     "execution_count": 16,
     "metadata": {},
     "output_type": "execute_result"
    }
   ],
   "source": [
    "lis1 = ['b', 'a', 'c']\n",
    "\n",
    "lis1.count('a') # -> 1\n",
    "lis1.index('a') # -> 1\n",
    "lis1.pop() # -> 'c'\n",
    "lis1 # -> ['b', 'a']"
   ]
  },
  {
   "cell_type": "markdown",
   "id": "fb108a06-ab9b-4ba0-bee1-01d2b71523aa",
   "metadata": {},
   "source": [
    "# 3.11 List Methods: Reorganizing\n",
    "\n",
    "The last two list methods in this chapter modify a list by changing the order of the elements in place\n",
    "\n",
    "```\n",
    "list.sort([ket=None][,reverse=False])\n",
    "list.reverse() # Reverse existing order.\n",
    "```\n",
    "\n",
    "Each of these methods changes the ordering of all the elements in place. in Python 3.0, all the elements of the list - in the case of either method must have compatible types, such as all string or all numbers. The sort method pplaces all the elements in lowest-to-highest order by default- by highest to lowest if reverse is specified to be True. If the list consists of strings, the string are placed in alphabetical order (code point)."
   ]
  },
  {
   "cell_type": "code",
   "execution_count": null,
   "id": "f31934a6-618f-41ea-bd2f-905a83fb5346",
   "metadata": {},
   "outputs": [],
   "source": []
  }
 ],
 "metadata": {
  "kernelspec": {
   "display_name": "Python 3 (ipykernel)",
   "language": "python",
   "name": "python3"
  },
  "language_info": {
   "codemirror_mode": {
    "name": "ipython",
    "version": 3
   },
   "file_extension": ".py",
   "mimetype": "text/x-python",
   "name": "python",
   "nbconvert_exporter": "python",
   "pygments_lexer": "ipython3",
   "version": "3.9.1"
  }
 },
 "nbformat": 4,
 "nbformat_minor": 5
}
