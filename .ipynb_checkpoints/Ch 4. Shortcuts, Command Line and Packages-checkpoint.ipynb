{
 "cells": [
  {
   "cell_type": "markdown",
   "id": "23253084-466b-41ae-af0d-29fe8609a9cd",
   "metadata": {},
   "source": [
    "# Chapter 4: Shortcuts, Command Line, and Packages\n",
    "\n",
    "# 4.1 Overview\n",
    "\n",
    "Python is unusually gifted with shortcuts nd time-saving programming techniques. This chapter begins with a discussion of twenty-two of these techniques.\n",
    "\n",
    "# 4.2 Twenty-Two\n",
    "\n",
    "This section lists the most common techniques for shortening and tightening your Python code:\n",
    "\n",
    "- Use Python line continuation as needed\n",
    "- Use for loops intelligently\n",
    "- Understand combined operator assignment\n",
    "- Use multiple assignment\n",
    "- Use tuple assignment\n",
    "- Use advanced tuple assignment\n",
    "- Use list and string \"multiplication\"\n",
    "- Return multiple values\n",
    "- Use loops and the **else** keyword\n",
    "- Take advantage of booleans and **not**\n",
    "- Treat strings as list of characters\n",
    "- Eliminate characters by using **replace**\n",
    "- Don't write unnecessary loops\n",
    "- Use chained comparisons\n",
    "- Simulate \"Switch\" with a table of functions\n",
    "- Use the **is** operator correctly\n",
    "- Use the one-line for loops\n",
    "- Squeeze multiple statements onto a line\n",
    "- Write one-line if/then/else statements\n",
    "- Create Enum values with range\n",
    "- Reduce the inefficiency of the print function\n",
    "- Place underscores inside large numbers"
   ]
  },
  {
   "cell_type": "markdown",
   "id": "dce1e2c9-2a94-46d6-b0b2-3c60a1cc046b",
   "metadata": {},
   "source": [
    "# 4.2.1 Use python line coninuation as needed\n",
    "\n",
    "In python, the normal statement terminator is just the end of a physical line. This makes programming easier, because you can naturally assume that statements are one per line. \n",
    "\n",
    "But what if you need to write a statement longer than one physical line? You might have. astirng ro print that you can't fit on one line. You could use literal quotations, but line wraps in that case, are translated as newlines-something you might not want. \n",
    "\n",
    "The solution, first of all, is to recognize that literal strings positioned next to other literal strings are automatically concatenated."
   ]
  },
  {
   "cell_type": "code",
   "execution_count": 2,
   "id": "639ff21a-b621-40e0-b39b-a9293fc55a21",
   "metadata": {},
   "outputs": [
    {
     "name": "stdout",
     "output_type": "stream",
     "text": [
      "I am Hen-er-y the Eigth, I am!\n"
     ]
    }
   ],
   "source": [
    "my_str = 'I am Hen-er-y the Eigth,' ' I am!'\n",
    "print(my_str)"
   ]
  },
  {
   "cell_type": "markdown",
   "id": "96f7e46c-55d8-4d3e-93c8-124850dd0f34",
   "metadata": {},
   "source": [
    "If these substrings are too long to put on a single physical line, you have a couple of choices. the first is to use the line-continuation char \\"
   ]
  },
  {
   "cell_type": "code",
   "execution_count": 10,
   "id": "b33865c7-0e9b-4844-b5c7-4f7b5eeaef0d",
   "metadata": {},
   "outputs": [
    {
     "name": "stdout",
     "output_type": "stream",
     "text": [
      "I am Hen-er-y the Eigth, I am!\n"
     ]
    }
   ],
   "source": [
    "my_str = 'I am Hen-er-y the Eigth,' \\\n",
    "' I am!'\n",
    "\n",
    "print(my_str)"
   ]
  },
  {
   "cell_type": "markdown",
   "id": "dd717f5d-5a99-484d-85eb-20dc130d292b",
   "metadata": {},
   "source": [
    "Another technique is to observe that any open-and so far unmatched-parenthesis, square bracket, or brace automatically causes continuation onto the next physical line. Consequently, you can enter as long a statement as you want and you can enter a string of any length you wnt without necessarily inserting newlines."
   ]
  },
  {
   "cell_type": "code",
   "execution_count": 11,
   "id": "570c52aa-8c6f-4164-8ac0-1c56a6cc1132",
   "metadata": {},
   "outputs": [],
   "source": [
    "my_str=('I am henry the eigth, ' \n",
    "        'I am! I am not jus tany henry VIII, ' \n",
    "        'I reall am!')"
   ]
  },
  {
   "cell_type": "markdown",
   "id": "da5d3729-37e6-45d5-a03a-377b7a145515",
   "metadata": {},
   "source": [
    "# 4.2.2 Use 'for' loops intelligently\n",
    "\n",
    "If yuo come from the C/C++ world, you may tend to overuse the range function to print members of a list.\n",
    "\n",
    "\n",
    "It's better to print the contents of a list or iterator directly.\n",
    "```\n",
    "for guy in beat_list:\n",
    "    print(guy)\n",
    "```\n",
    "\n",
    "Even if you need access to a loop variable, it's better to use the enumerate function to generate such numbers."
   ]
  },
  {
   "cell_type": "code",
   "execution_count": 22,
   "id": "72571fa2-86f6-4026-bb4e-410095a9fd41",
   "metadata": {},
   "outputs": [
    {
     "name": "stdout",
     "output_type": "stream",
     "text": [
      "1. John\n",
      "2. Paul\n",
      "3. George\n",
      "4. Ringo\n"
     ]
    }
   ],
   "source": [
    "beat_list = ['John', 'Paul', 'George', 'Ringo']\n",
    "\n",
    "for i, name in enumerate(beat_list, 1):\n",
    "    print(i, '. ', name, sep='')"
   ]
  },
  {
   "cell_type": "markdown",
   "id": "7507a977-ea42-4e81-b0b7-dd0a34d352fe",
   "metadata": {},
   "source": [
    "# 4.2.3 Understand Combined Operator Assignment (+= etc.)\n",
    "\n",
    "The combined operator-assignemnt operators are introduced in Chapter 1 and so are reviewed only briefly here.\n",
    "\n",
    "The assignment = can be combined with any of the following:\n",
    "+, -, /, //, %, **, &, ^, |, <<,>>.\n",
    "\n",
    "The operators &, |, and * are bitwise \"and\", \"or\", and \"exclusive or.\"\n",
    "\n",
    "The operators << and >> perform bit shifts to the left and to the right."
   ]
  },
  {
   "cell_type": "markdown",
   "id": "2dc8a4a3-40d9-4d25-8838-f53865c08325",
   "metadata": {},
   "source": [
    "# 4.2.4 Use Multiple Assignment\n",
    "\n",
    "Multiple assignment is one of the most commonly used coding shortcuts in Python. You can, for example, create five different variables at once, assigning them all the same value-in thise case, 0:\n",
    "\n",
    "```\n",
    "a = b = c = d = e = 0\n",
    "```\n",
    "\n",
    "Consequently, the following returns True:\n",
    "\n",
    "```\n",
    "a is b\n",
    "```"
   ]
  },
  {
   "cell_type": "markdown",
   "id": "02a6b7ef-ef92-4b0c-a1b2-ead590443361",
   "metadata": {},
   "source": [
    "# 4.2.5 Use tuple assignment\n",
    "\n",
    "Multiple assignment is useful when you want to assign a group of variblaes to the same initial value. But what if you want to assign different values to different variables? The obvious way to do that is to use the following statements. \n",
    "```\n",
    "a = 1\n",
    "b = 0\n",
    "```\n",
    "But through tuple assignment, you can combine these into a single statement\n",
    "\n",
    "```\n",
    "a, b = 1, 0\n",
    "```"
   ]
  },
  {
   "cell_type": "markdown",
   "id": "ce35ac79-3659-4e2d-bd71-764806c89255",
   "metadata": {},
   "source": [
    "# 4.2.6 Use Advanced Tuple Assignment\n",
    "\n",
    "Tuple assignment has some refined features. For example, you can unpack a tuple to assign to multiple variables, as in the following example.\n",
    "\n",
    "```\n",
    "tup = 10, 20, 30\n",
    "a, b, c = tup\n",
    "print(a, b, c) # Produces 10, 20, 30\n",
    "```\n",
    "\n",
    "It's important that the number of input variables on the left matches the size of the tuple on the right. The following statement would produce a runtime error.\n",
    "\n",
    "```\n",
    "tup = 10, 20, 30\n",
    "a, b = tup # Error: too many values to unpack\n",
    "```\n",
    "\n",
    "The use of an asterisk * provides additional flexibility with tuple assignment. You can use it to split off parts of a tuple and have one (and only one) variable that becomes the default target for the remaining elements which are then put into a list.\n",
    "\n",
    "```\n",
    "a, *b = 2, 3, 6, 7, 8\n",
    "print(a) # -> 2\n",
    "print(b) # -> [3, 6, 7, 8]\n",
    "```\n",
    "\n",
    "You can place the asterisk next to any variable on the left, but in no case more than one.\n",
    "The variable modified with the asterisk is assigned a list of whatever elements are left over.\n",
    "\n",
    "```\n",
    "a, *b, c = 10, 20, 30, 40, 50\n",
    "\n",
    "print(a) # -> 10\n",
    "print(b) # -> [20,30,40]\n",
    "print(c) # -> 50\n",
    "```\n",
    "\n"
   ]
  },
  {
   "cell_type": "markdown",
   "id": "6923d1bb-49c2-4a87-860c-d4a148422136",
   "metadata": {},
   "source": [
    "# 4.2.7 Use list and string \"multiplication\"\n",
    "\n",
    "Because there are no data declarations in Python, the only way to create a large list is to contruct it on the right side of an assignment. But constructing a super-long list by hand is impractical.\n",
    "\n",
    "Applying the multiplication operator provies a more practical solution:\n",
    "`my_list = [0] * 1000`\n",
    "\n",
    "*Note: The integer may be either the left or the right operand in such an expression*"
   ]
  },
  {
   "cell_type": "markdown",
   "id": "521a9e6b-7921-4f84-bfb1-ae9028144f98",
   "metadata": {},
   "source": [
    "# 4.2.8 Return Multiple Values\n",
    "\n",
    "You can't pass a simple variable to a Python function, change the value inside the function, and expect the original variable to reflect the change. \n",
    "\n",
    "In python, you can return as many values as you want.\n",
    "\n",
    "```\n",
    "def nice(a):\n",
    "    return a*2, a*3, a*4\n",
    "    \n",
    "a, b, c = nice(1)\n",
    "\n",
    "print(a) # -> 2\n",
    "print(b) # -> 3\n",
    "print(c) # -> 4\n",
    "```"
   ]
  },
  {
   "cell_type": "markdown",
   "id": "1b7ab45d-1a8b-4a6a-a730-0a7d4a76c6da",
   "metadata": {},
   "source": [
    "# 4.2.9 Use Loops and the \"else\" keyword\n",
    "\n",
    "The **else** keyword is most frequently used in combination with the if keyword. But in Python it can also be used with the **try-except** syntax with loops.\n",
    "\n",
    "# 4.2.10 Take advantage of boolean values and \"not\"\n",
    "\n",
    "Every object in Python evaluates to True or False. \n",
    "For example, every empty collection Python evaluates to False if tested as a Boolean value; so does the special value **None**. Here's one way of testing a string for being length zero:\n",
    "\n",
    "```\n",
    "if len(my_str) == 0:\n",
    "    break\n",
    "```\n",
    "\n",
    "However you can instead test for input string this way:\n",
    "````\n",
    "if not my_str:\n",
    "    break\n",
    "```\n",
    "\n",
    "# 4.2.11 Treat Strings as Lists of Characters\n",
    "\n",
    "When you're doing complicated operations on individual characters and building a string, it's sometimes more efficient to build a list of characters and use list comprehension plus **join** to put it all together. \n",
    "\n",
    "For example, to test whether a string is a plaindrome (reads the same forwards and backwards), it's useful to omit all punctuation and space characters and convert the rest of the string to either all-uppercase or all-lowercase. List comprehension does this efficiently."
   ]
  },
  {
   "cell_type": "code",
   "execution_count": 1,
   "id": "7cd5e611-47f3-4652-a330-8eceba82ba5c",
   "metadata": {},
   "outputs": [
    {
     "name": "stdin",
     "output_type": "stream",
     "text": [
      "Enter test string:  poop\n"
     ]
    },
    {
     "name": "stdout",
     "output_type": "stream",
     "text": [
      "True\n"
     ]
    }
   ],
   "source": [
    "test_str = input('Enter test string: ')\n",
    "a_list = [c.upper() for c in test_str if c.isalnum()]\n",
    "print(a_list == a_list[::-1])"
   ]
  },
  {
   "cell_type": "markdown",
   "id": "04e37ea2-ff0c-422b-9e55-70589f97f2fc",
   "metadata": {},
   "source": [
    "# 4.2.12 Eliminate Characters by using \"replace\"\n",
    "\n",
    "Personally, I most frequently use this for removing spaces, but it can come in handy in many other use cases. "
   ]
  },
  {
   "cell_type": "code",
   "execution_count": 3,
   "id": "34143446-adbc-40c9-ac7b-f33a1b389049",
   "metadata": {},
   "outputs": [
    {
     "name": "stdout",
     "output_type": "stream",
     "text": [
      "Unfortunately\n"
     ]
    }
   ],
   "source": [
    "str1 = 'Un fortunately'\n",
    "str1 = str1.replace(' ', '')\n",
    "print(str1)"
   ]
  },
  {
   "cell_type": "markdown",
   "id": "5dfc8c96-c417-4476-a8a6-46a69a9fb4fe",
   "metadata": {},
   "source": [
    "# 4.2.13 Don't write unnecessary loops\n",
    "\n",
    "Make sure you don't overlook all of Python's built-in abilities, especially when you're working with lists and strings. With most computer languages, you'd probably have to write a loop to get the sum of all the number in a list. But Python performs summation directly. For example, the following function calculates 1 + 2 + 3 .. + N:\n",
    "\n",
    "```\n",
    "def calc_triangle_num(n):\n",
    "    return sum(range(n+1))\n",
    "```\n",
    "\n",
    "Another way to use the **sum** function is to quickly get the average of any list of numbers\n",
    "\n",
    "```\n",
    "def get_avg(a_list):\n",
    "    return sum(a_list) / len(a_list)\n",
    "```\n",
    "\n",
    "# 4.2.14 Use chained comparisons (n < x < m)\n",
    "\n",
    "This is a slick little shortcut that can save you a bit of work now and then.\n",
    "\n",
    "It's common to write if conditions such as the following:\n",
    "\n",
    "```\n",
    "if 0 < x and x < 100:\n",
    "    print('x is in range.')\n",
    "```\n",
    "\n",
    "But in this case, you can save a few keystrokes:\n",
    "\n",
    "```\n",
    "if 0 < x < 100:\n",
    "print('x is in the range')\n",
    "```\n",
    "\n",
    "You can chain together any number of comparisons using this method."
   ]
  },
  {
   "cell_type": "code",
   "execution_count": null,
   "id": "ca8f9a41-e37a-4c98-aa64-dabf5254b0e5",
   "metadata": {},
   "outputs": [],
   "source": []
  }
 ],
 "metadata": {
  "kernelspec": {
   "display_name": "Python 3 (ipykernel)",
   "language": "python",
   "name": "python3"
  },
  "language_info": {
   "codemirror_mode": {
    "name": "ipython",
    "version": 3
   },
   "file_extension": ".py",
   "mimetype": "text/x-python",
   "name": "python",
   "nbconvert_exporter": "python",
   "pygments_lexer": "ipython3",
   "version": "3.9.1"
  }
 },
 "nbformat": 4,
 "nbformat_minor": 5
}
