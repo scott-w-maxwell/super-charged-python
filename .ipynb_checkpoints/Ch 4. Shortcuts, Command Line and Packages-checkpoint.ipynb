{
 "cells": [
  {
   "cell_type": "markdown",
   "id": "23253084-466b-41ae-af0d-29fe8609a9cd",
   "metadata": {},
   "source": [
    "# Chapter 4: Shortcuts, Command Line, and Packages\n",
    "\n",
    "# 4.1 Overview\n",
    "\n",
    "Python is unusually gifted with shortcuts nd time-saving programming techniques. This chapter begins with a discussion of twenty-two of these techniques.\n",
    "\n",
    "# 4.2 Twenty-Two\n",
    "\n",
    "This section lists the most common techniques for shortening and tightening your Python code:\n",
    "\n",
    "- Use Python line continuation as needed\n",
    "- Use for loops intelligently\n",
    "- Understand combined operator assignment\n",
    "- Use multiple assignment\n",
    "- Use tuple assignment\n",
    "- Use advanced tuple assignment\n",
    "- Use list and string \"multiplication\"\n",
    "- Return multiple values\n",
    "- Use loops and the **else** keyword\n",
    "- Take advantage of booleans and **not**\n",
    "- Treat strings as list of characters\n",
    "- Eliminate characters by using **replace**\n",
    "- Don't write unnecessary loops\n",
    "- Use chained comparisons\n",
    "- Simulate \"Switch\" with a table of functions\n",
    "- Use the **is** operator correctly\n",
    "- Use the one-line for loops\n",
    "- Squeeze multiple statements onto a line\n",
    "- Write one-line if/then/else statements\n",
    "- Create Enum values with range\n",
    "- Reduce the inefficiency of the print function\n",
    "- Place underscores inside large numbers"
   ]
  },
  {
   "cell_type": "markdown",
   "id": "dce1e2c9-2a94-46d6-b0b2-3c60a1cc046b",
   "metadata": {},
   "source": [
    "# 4.2.1 Use python line coninuation as needed\n",
    "\n",
    "In python, the normal statement terminator is just the end of a physical line. This makes programming easier, because you can naturally assume that statements are one per line. \n",
    "\n",
    "But what if you need to write a statement longer than one physical line? You might have. astirng ro print that you can't fit on one line. You could use literal quotations, but line wraps in that case, are translated as newlines-something you might not want. \n",
    "\n",
    "The solution, first of all, is to recognize that literal strings positioned next to other literal strings are automatically concatenated."
   ]
  },
  {
   "cell_type": "code",
   "execution_count": 2,
   "id": "639ff21a-b621-40e0-b39b-a9293fc55a21",
   "metadata": {},
   "outputs": [
    {
     "name": "stdout",
     "output_type": "stream",
     "text": [
      "I am Hen-er-y the Eigth, I am!\n"
     ]
    }
   ],
   "source": [
    "my_str = 'I am Hen-er-y the Eigth,' ' I am!'\n",
    "print(my_str)"
   ]
  },
  {
   "cell_type": "markdown",
   "id": "96f7e46c-55d8-4d3e-93c8-124850dd0f34",
   "metadata": {},
   "source": [
    "If these substrings are too long to put on a single physical line, you have a couple of choices. the first is to use the line-continuation char \\"
   ]
  },
  {
   "cell_type": "code",
   "execution_count": 10,
   "id": "b33865c7-0e9b-4844-b5c7-4f7b5eeaef0d",
   "metadata": {},
   "outputs": [
    {
     "name": "stdout",
     "output_type": "stream",
     "text": [
      "I am Hen-er-y the Eigth, I am!\n"
     ]
    }
   ],
   "source": [
    "my_str = 'I am Hen-er-y the Eigth,' \\\n",
    "' I am!'\n",
    "\n",
    "print(my_str)"
   ]
  },
  {
   "cell_type": "markdown",
   "id": "dd717f5d-5a99-484d-85eb-20dc130d292b",
   "metadata": {},
   "source": [
    "Another technique is to observe that any open-and so far unmatched-parenthesis, square bracket, or brace automatically causes continuation onto the next physical line. Consequently, you can enter as long a statement as you want and you can enter a string of any length you wnt without necessarily inserting newlines."
   ]
  },
  {
   "cell_type": "code",
   "execution_count": 11,
   "id": "570c52aa-8c6f-4164-8ac0-1c56a6cc1132",
   "metadata": {},
   "outputs": [],
   "source": [
    "my_str=('I am henry the eigth, ' \n",
    "        'I am! I am not jus tany henry VIII, ' \n",
    "        'I reall am!')"
   ]
  },
  {
   "cell_type": "markdown",
   "id": "da5d3729-37e6-45d5-a03a-377b7a145515",
   "metadata": {},
   "source": [
    "# 4.2.2 Use 'for' loops intelligently\n",
    "\n",
    "If yuo come from the C/C++ world, you may tend to overuse the range function to print members of a list.\n",
    "\n",
    "\n",
    "It's better to print the contents of a list or iterator directly.\n",
    "```\n",
    "for guy in beat_list:\n",
    "    print(guy)\n",
    "```\n",
    "\n",
    "Even if you need access to a loop variable, it's better to use the enumerate function to generate such numbers."
   ]
  },
  {
   "cell_type": "code",
   "execution_count": 22,
   "id": "72571fa2-86f6-4026-bb4e-410095a9fd41",
   "metadata": {},
   "outputs": [
    {
     "name": "stdout",
     "output_type": "stream",
     "text": [
      "1. John\n",
      "2. Paul\n",
      "3. George\n",
      "4. Ringo\n"
     ]
    }
   ],
   "source": [
    "beat_list = ['John', 'Paul', 'George', 'Ringo']\n",
    "\n",
    "for i, name in enumerate(beat_list, 1):\n",
    "    print(i, '. ', name, sep='')"
   ]
  },
  {
   "cell_type": "markdown",
   "id": "7507a977-ea42-4e81-b0b7-dd0a34d352fe",
   "metadata": {},
   "source": [
    "# 4.2.3 Understand Combined Operator Assignment (+= etc.)\n",
    "\n",
    "The combined operator-assignemnt operators are introduced in Chapter 1 and so are reviewed only briefly here.\n",
    "\n",
    "The assignment = can be combined with any of the following:\n",
    "+, -, /, //, %, **, &, ^, |, <<,>>.\n",
    "\n",
    "The operators &, |, and * are bitwise \"and\", \"or\", and \"exclusive or.\"\n",
    "\n",
    "The operators << and >> perform bit shifts to the left and to the right."
   ]
  },
  {
   "cell_type": "markdown",
   "id": "2dc8a4a3-40d9-4d25-8838-f53865c08325",
   "metadata": {},
   "source": [
    "# 4.2.4 Use Multiple Assignment\n",
    "\n",
    "Multiple assignment is one of the most commonly used coding shortcuts in Python. You can, for example, create five different variables at once, assigning them all the same value-in thise case, 0:\n",
    "\n",
    "```\n",
    "a = b = c = d = e = 0\n",
    "```\n",
    "\n",
    "Consequently, the following returns True:\n",
    "\n",
    "```\n",
    "a is b\n",
    "```"
   ]
  },
  {
   "cell_type": "code",
   "execution_count": null,
   "id": "b992303e-4460-4911-90e3-7e9db7391191",
   "metadata": {},
   "outputs": [],
   "source": []
  }
 ],
 "metadata": {
  "kernelspec": {
   "display_name": "Python 3 (ipykernel)",
   "language": "python",
   "name": "python3"
  },
  "language_info": {
   "codemirror_mode": {
    "name": "ipython",
    "version": 3
   },
   "file_extension": ".py",
   "mimetype": "text/x-python",
   "name": "python",
   "nbconvert_exporter": "python",
   "pygments_lexer": "ipython3",
   "version": "3.9.1"
  }
 },
 "nbformat": 4,
 "nbformat_minor": 5
}
