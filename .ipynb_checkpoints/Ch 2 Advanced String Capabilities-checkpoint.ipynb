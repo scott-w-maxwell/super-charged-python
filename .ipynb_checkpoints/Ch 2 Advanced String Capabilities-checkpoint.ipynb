{
 "cells": [
  {
   "cell_type": "markdown",
   "id": "c5467bba-fdd2-49f5-bcde-98995ea5a4b4",
   "metadata": {},
   "source": [
    "# 2.1 Strings Are Immutable"
   ]
  },
  {
   "cell_type": "markdown",
   "id": "5106dba2-c5e9-4f85-be9f-fc677402a234",
   "metadata": {},
   "source": [
    "Strings are immutable...\n",
    "\n",
    "One advantage of immutable types:\n",
    "\n",
    "- Strings can be used as a key for a dictionary\n",
    "- Their usage is optimized internally. ex. Tuples are somewhat more efficient than using lists.\n",
    "\n",
    "A limitation is that data cannot be changed in place"
   ]
  },
  {
   "cell_type": "code",
   "execution_count": 2,
   "id": "f2993027-4699-4cb0-a689-ce03c2124cab",
   "metadata": {},
   "outputs": [
    {
     "ename": "TypeError",
     "evalue": "'str' object does not support item assignment",
     "output_type": "error",
     "traceback": [
      "\u001b[0;31m---------------------------------------------------------------------------\u001b[0m",
      "\u001b[0;31mTypeError\u001b[0m                                 Traceback (most recent call last)",
      "\u001b[0;32m/tmp/ipykernel_25643/3165380980.py\u001b[0m in \u001b[0;36m<module>\u001b[0;34m\u001b[0m\n\u001b[1;32m      1\u001b[0m \u001b[0mmy_str\u001b[0m \u001b[0;34m=\u001b[0m \u001b[0;34m'hello, Dave, this is Hal.'\u001b[0m\u001b[0;34m\u001b[0m\u001b[0;34m\u001b[0m\u001b[0m\n\u001b[0;32m----> 2\u001b[0;31m \u001b[0mmy_str\u001b[0m\u001b[0;34m[\u001b[0m\u001b[0;36m0\u001b[0m\u001b[0;34m]\u001b[0m \u001b[0;34m=\u001b[0m \u001b[0;34m'H'\u001b[0m  \u001b[0;31m#This causes an error since strings are immutable\u001b[0m\u001b[0;34m\u001b[0m\u001b[0;34m\u001b[0m\u001b[0m\n\u001b[0m",
      "\u001b[0;31mTypeError\u001b[0m: 'str' object does not support item assignment"
     ]
    }
   ],
   "source": [
    "my_str = 'hello, Dave, this is Hal.'\n",
    "my_str[0] = 'H'  #This causes an error since strings are immutable"
   ]
  },
  {
   "cell_type": "code",
   "execution_count": 4,
   "id": "c7fd0fa7-c2ff-48d9-94f5-690a9f142a94",
   "metadata": {},
   "outputs": [],
   "source": [
    "my_str = 'hello'\n",
    "my_str = 'Hello' # This is valid as an entire new string is created"
   ]
  },
  {
   "cell_type": "markdown",
   "id": "453a9cc0-cf10-41a4-a97c-3b1cecda954a",
   "metadata": {},
   "source": [
    "# 2.2 Numeric Conversions, Including Binary"
   ]
  },
  {
   "cell_type": "markdown",
   "id": "c70b4f4b-ca28-48c3-a294-3a507d549b41",
   "metadata": {},
   "source": [
    "Type names in Python implicitly invoke type conversions wherever such conversions are supported.\n",
    "\n",
    "```\n",
    "type(data_object)\n",
    "```\n"
   ]
  },
  {
   "cell_type": "markdown",
   "id": "8a1bac77-068f-409a-8715-16bc0ee93e0a",
   "metadata": {},
   "source": [
    "s = '45'\n",
    "n = int(s)\n",
    "x = float(s)\n",
    "\n",
    "print('n = ', n, type(n))\n",
    "print('x = ', x, type(x))\n"
   ]
  },
  {
   "cell_type": "markdown",
   "id": "fbe80152-3a9e-4863-a6b4-cff7452fc7f3",
   "metadata": {},
   "source": [
    "If the appropriate conversion does not exist, Python raises a `ValueError` exception"
   ]
  },
  {
   "cell_type": "markdown",
   "id": "d1011b50-6b46-4542-b49b-a4ab6ce6dd33",
   "metadata": {},
   "source": [
    "The **int** conversion, unlike most conversions, takes an optional second argument. This argument enables you to convert a string to anumber while interpreting it in a different radix, such as binary."
   ]
  },
  {
   "cell_type": "code",
   "execution_count": 12,
   "id": "1226ec39-ac93-42e2-863e-95659de3efd5",
   "metadata": {},
   "outputs": [
    {
     "name": "stdout",
     "output_type": "stream",
     "text": [
      "17\n"
     ]
    }
   ],
   "source": [
    "n = int('10001', 2) # 10001 = 17 in decimal\n",
    "print(n)"
   ]
  },
  {
   "cell_type": "markdown",
   "id": "b40dd946-2eb0-4a84-a35c-e9f5ac90253a",
   "metadata": {},
   "source": [
    "Converting a number to a string enables you to do operations such as counting the number of printable digits or counting the number of times a specific digit occurs. For example, the following statements print the length of the number 10007."
   ]
  },
  {
   "cell_type": "code",
   "execution_count": 13,
   "id": "b87292d7-677f-456f-a97a-bd3bf2de2999",
   "metadata": {},
   "outputs": [
    {
     "name": "stdout",
     "output_type": "stream",
     "text": [
      "The length of 1007 is 4 digits.\n"
     ]
    }
   ],
   "source": [
    "n = 1007\n",
    "s = str(n) # convert to '1007'\n",
    "print('The length of', n, 'is', len(s), 'digits.')"
   ]
  },
  {
   "cell_type": "markdown",
   "id": "4d74066c-1c42-42ae-8a43-3b8135a63610",
   "metadata": {},
   "source": [
    "# 2.3 - String Operators (+, =, *, >, etc.)"
   ]
  },
  {
   "cell_type": "markdown",
   "id": "3cd5f42c-bfb9-4ab0-a76f-4b4afd798171",
   "metadata": {},
   "source": [
    "dog1_str = 'Rover'\n",
    "dog2_str = dog1_str\n",
    "\n",
    "dog1_str == dog2_str #True\n",
    "dog1_str == 'Rover' #True"
   ]
  },
  {
   "cell_type": "markdown",
   "id": "f75166b9-3450-4e67-a8c1-1d57edd02d2b",
   "metadata": {},
   "source": [
    "You can use **lower()** and **upper()** methods to convert to lower or upper case.\n",
    "\n",
    "However, if you are working with strings that user wider Unicode character set, the safest way to do case-insensitive comparisons is to use the **casefold()** method..."
   ]
  },
  {
   "cell_type": "code",
   "execution_count": 9,
   "id": "b3483ad3-faf7-4a01-b2b5-a31f775d7877",
   "metadata": {},
   "outputs": [
    {
     "data": {
      "text/plain": [
       "'dog'"
      ]
     },
     "execution_count": 9,
     "metadata": {},
     "output_type": "execute_result"
    }
   ],
   "source": [
    "'DOG'.casefold()"
   ]
  },
  {
   "cell_type": "code",
   "execution_count": 12,
   "id": "ab2ba599-3ef5-4a99-b683-eea5063bb08d",
   "metadata": {},
   "outputs": [
    {
     "data": {
      "text/plain": [
       "True"
      ]
     },
     "execution_count": 12,
     "metadata": {},
     "output_type": "execute_result"
    }
   ],
   "source": [
    "'DOG'.lower() == 'DOG'.casefold()"
   ]
  },
  {
   "cell_type": "code",
   "execution_count": 13,
   "id": "3509824e-3e1c-482c-b6c7-99364f9bc8f3",
   "metadata": {},
   "outputs": [],
   "source": [
    "str1 = 'dog'\n",
    "str2 = 'elephant'"
   ]
  },
  {
   "cell_type": "code",
   "execution_count": 16,
   "id": "c9baf3e3-a17d-4745-8134-185f035109c8",
   "metadata": {},
   "outputs": [
    {
     "data": {
      "text/plain": [
       "False"
      ]
     },
     "execution_count": 16,
     "metadata": {},
     "output_type": "execute_result"
    }
   ],
   "source": [
    "str1 > str2 # returns false since str1 does not have more characters than str2"
   ]
  },
  {
   "cell_type": "code",
   "execution_count": 15,
   "id": "aff2170b-687f-4227-a648-16e4b74368a6",
   "metadata": {},
   "outputs": [
    {
     "data": {
      "text/plain": [
       "True"
      ]
     },
     "execution_count": 15,
     "metadata": {},
     "output_type": "execute_result"
    }
   ],
   "source": [
    "str1 < str2 # returns true since str1 has less characters than str2"
   ]
  },
  {
   "cell_type": "code",
   "execution_count": 19,
   "id": "47d47ce0-160c-4a0e-ac87-a4c0d2801bfb",
   "metadata": {},
   "outputs": [
    {
     "data": {
      "text/plain": [
       "'dogdogdogdogdog'"
      ]
     },
     "execution_count": 19,
     "metadata": {},
     "output_type": "execute_result"
    }
   ],
   "source": [
    "str1 * 5 # Multiplication..."
   ]
  },
  {
   "cell_type": "markdown",
   "id": "b6b90709-f47d-43eb-84d3-c4ef9e6996f9",
   "metadata": {},
   "source": [
    "Careful when using **is** and **is not** operators. These operators test for whether or not two values are *the same object in memory*."
   ]
  },
  {
   "cell_type": "code",
   "execution_count": 28,
   "id": "685e92a6-63d2-47ef-af45-bb9ce39e30a4",
   "metadata": {},
   "outputs": [
    {
     "name": "stdout",
     "output_type": "stream",
     "text": [
      "str1 is str2: True\n"
     ]
    }
   ],
   "source": [
    "str1 = 'dog'\n",
    "str2 = 'dog'\n",
    "\n",
    "print('str1 is str2:', str1 is str2) # this is only true due since python pointing both var names to the same object in memory"
   ]
  },
  {
   "cell_type": "markdown",
   "id": "be9efb0f-1865-4139-b573-dee17d4362fa",
   "metadata": {},
   "source": [
    "# 2.4 Indexing and Slicing"
   ]
  },
  {
   "cell_type": "markdown",
   "id": "4e242ec2-b3c6-427f-b2a8-bfa1fb5597d0",
   "metadata": {},
   "source": [
    "Indexing: Users a number to refer to an individual character, according to its place within the string\n",
    "\n",
    "Slicing: Is an ability more unique to Python. It enables you to refer to an entire substring of characters by using a compact syntax"
   ]
  },
  {
   "cell_type": "code",
   "execution_count": 63,
   "id": "f1d20f89-17fd-4143-a54c-a9324f2339bd",
   "metadata": {},
   "outputs": [
    {
     "data": {
      "text/plain": [
       "'K'"
      ]
     },
     "execution_count": 63,
     "metadata": {},
     "output_type": "execute_result"
    }
   ],
   "source": [
    "'King Me!'[0] # Indexing the first character"
   ]
  },
  {
   "cell_type": "code",
   "execution_count": 41,
   "id": "804a2df8-9f12-4455-9c92-661ac94121ed",
   "metadata": {},
   "outputs": [
    {
     "data": {
      "text/plain": [
       "'King'"
      ]
     },
     "execution_count": 41,
     "metadata": {},
     "output_type": "execute_result"
    }
   ],
   "source": [
    "'King Me!'[0:4] #Slicing 'King'"
   ]
  },
  {
   "cell_type": "code",
   "execution_count": 96,
   "id": "7d988128-35ee-474a-91bf-2d31eef0fa32",
   "metadata": {},
   "outputs": [
    {
     "data": {
      "text/plain": [
       "'Me!'"
      ]
     },
     "execution_count": 96,
     "metadata": {},
     "output_type": "execute_result"
    }
   ],
   "source": [
    "'King Me!'[5:8] #Slicing 'Me!' | Notice that there is not an 8th index but python permits this anyhow. This is because python does not raise an exception for out of range indexes for strings."
   ]
  },
  {
   "cell_type": "code",
   "execution_count": 60,
   "id": "369bb9a3-6244-4708-a844-c279e8844fdd",
   "metadata": {},
   "outputs": [
    {
     "data": {
      "text/plain": [
       "'King'"
      ]
     },
     "execution_count": 60,
     "metadata": {},
     "output_type": "execute_result"
    }
   ],
   "source": [
    "'King Me!'[:4] # Slicing everything before index 4"
   ]
  },
  {
   "cell_type": "code",
   "execution_count": 62,
   "id": "c48953d8-9223-42ec-ac31-b9830bad3fca",
   "metadata": {},
   "outputs": [
    {
     "data": {
      "text/plain": [
       "' Me!'"
      ]
     },
     "execution_count": 62,
     "metadata": {},
     "output_type": "execute_result"
    }
   ],
   "source": [
    "'King Me!'[4:] # Slicing everything after index 3"
   ]
  },
  {
   "cell_type": "markdown",
   "id": "4da99741-b3f4-4fd4-b321-c009574d40e7",
   "metadata": {},
   "source": [
    "The best way to think of it is this:\n",
    "[Everything after this index, including this index:Up to this index but bot included]"
   ]
  },
  {
   "cell_type": "code",
   "execution_count": 81,
   "id": "58f6035d-06cc-4bcb-aa75-0090cbd50471",
   "metadata": {},
   "outputs": [
    {
     "data": {
      "text/plain": [
       "'13579'"
      ]
     },
     "execution_count": 81,
     "metadata": {},
     "output_type": "execute_result"
    }
   ],
   "source": [
    "'0123456789'[1::2] # Get every other character"
   ]
  },
  {
   "cell_type": "code",
   "execution_count": 85,
   "id": "f84bed88-6a74-4091-bf6f-1641651596aa",
   "metadata": {},
   "outputs": [
    {
     "data": {
      "text/plain": [
       "'13579'"
      ]
     },
     "execution_count": 85,
     "metadata": {},
     "output_type": "execute_result"
    }
   ],
   "source": [
    "'0123456789'[1:10:2] # Get every other character"
   ]
  },
  {
   "cell_type": "code",
   "execution_count": 93,
   "id": "b59f1aec-7400-440d-856b-4377efe9c180",
   "metadata": {},
   "outputs": [
    {
     "data": {
      "text/plain": [
       "'0369'"
      ]
     },
     "execution_count": 93,
     "metadata": {},
     "output_type": "execute_result"
    }
   ],
   "source": [
    "'0123456789'[::3] # Get every third character"
   ]
  },
  {
   "cell_type": "code",
   "execution_count": 92,
   "id": "ebcd3210-5c33-4dbb-8092-452f87aaff0d",
   "metadata": {},
   "outputs": [
    {
     "data": {
      "text/plain": [
       "'!wow boB woW'"
      ]
     },
     "execution_count": 92,
     "metadata": {},
     "output_type": "execute_result"
    }
   ],
   "source": [
    " 'Wow Bob wow!'[::-1] #reverses string"
   ]
  },
  {
   "cell_type": "markdown",
   "id": "96115360-0864-4414-a4c4-d2a50b65a76b",
   "metadata": {},
   "source": [
    "# 2.5 Single-Character Functions (Character Codes)"
   ]
  },
  {
   "cell_type": "markdown",
   "id": "03ce1042-96ba-425f-86ca-820f530d3edb",
   "metadata": {},
   "source": [
    "**ord(str)** - Returns a numeric code\n",
    "\n",
    "**chr(n)** - Converts ASCII/Unicode rto a one-char str"
   ]
  },
  {
   "cell_type": "code",
   "execution_count": 8,
   "id": "0c97501c-dcc3-44d0-84a8-c1c07b7359b8",
   "metadata": {},
   "outputs": [
    {
     "data": {
      "text/plain": [
       "97"
      ]
     },
     "execution_count": 8,
     "metadata": {},
     "output_type": "execute_result"
    }
   ],
   "source": [
    "ord('a')"
   ]
  },
  {
   "cell_type": "code",
   "execution_count": 9,
   "id": "3e6f0502-787f-42f2-962b-988b2eacf318",
   "metadata": {},
   "outputs": [
    {
     "data": {
      "text/plain": [
       "'a'"
      ]
     },
     "execution_count": 9,
     "metadata": {},
     "output_type": "execute_result"
    }
   ],
   "source": [
    "chr(97)"
   ]
  },
  {
   "cell_type": "markdown",
   "id": "42ae41ad-76d3-43d9-babe-623dfe7d6a19",
   "metadata": {},
   "source": [
    "# 2.6 Building Strings Using \"join\""
   ]
  },
  {
   "cell_type": "markdown",
   "id": "1b6b0f5a-cc37-4c38-82d3-ff8b85ea734e",
   "metadata": {},
   "source": [
    "The folowing creates entirely new strings in memoryu, over and over again\n",
    "\n",
    "\n",
    "```\n",
    "a_str = 'Big'\n",
    "a_str += ' Bad'\n",
    "a_str += ' John'\n",
    "print(a_str) # prints 'Big Bad John'\n",
    "```"
   ]
  },
  {
   "cell_type": "markdown",
   "id": "acc9ae93-8388-4c4b-b629-a8d2f6b8debc",
   "metadata": {},
   "source": [
    "An alternative, which is slightly better, is to use the **join** method."
   ]
  },
  {
   "cell_type": "markdown",
   "id": "55f051f9-8fd8-43b5-acd8-7453f97e4294",
   "metadata": {},
   "source": [
    "```\n",
    "separator_string.join(list)\n",
    "```"
   ]
  },
  {
   "cell_type": "markdown",
   "id": "0d2c2ea1-79e0-4cf4-beb3-1c5115ea8bff",
   "metadata": {},
   "source": [
    "This method joins together all the strings in list to form one large string. If this list has more than one element, the text of separator_string is placed between  each consecutive pair of strings. An empty list is a valid separator string; in that case, all the string in the list are simply joined together.\n",
    "\n",
    "The use of **join** is usually more efficient at run time than concatenation, although you probably won't see the difference in execution time unless there are a great many elements."
   ]
  },
  {
   "cell_type": "code",
   "execution_count": 18,
   "id": "0b584656-46e5-4cc8-80dd-6f91010dde2c",
   "metadata": {},
   "outputs": [
    {
     "name": "stdout",
     "output_type": "stream",
     "text": [
      "a_lst before join:  ['A', 'B', 'C', 'D', 'E', 'F', 'G', 'H', 'I', 'J', 'K', 'L', 'M', 'N', 'O', 'P', 'Q', 'R', 'S', 'T', 'U', 'V', 'W', 'X', 'Y', 'Z']\n",
      "a_lst after join:  ABCDEFGHIJKLMNOPQRSTUVWXYZ\n"
     ]
    }
   ],
   "source": [
    "n = ord('A')\n",
    "a_lst = []\n",
    "for i in range(n, n + 26):\n",
    "    a_lst.append(chr(i))\n",
    "    \n",
    "\n",
    "print(\"a_lst before join: \", a_lst)\n",
    "\n",
    "s = ''.join(a_lst)\n",
    "print(\"a_lst after join: \", s)"
   ]
  },
  {
   "cell_type": "markdown",
   "id": "f80e9781-e441-4bd9-b9aa-8afee449b81e",
   "metadata": {},
   "source": [
    "Using .join can also mean less code depending on the task..."
   ]
  },
  {
   "cell_type": "code",
   "execution_count": 21,
   "id": "3c584fcb-4f7a-4928-bf63-3765b468a749",
   "metadata": {},
   "outputs": [
    {
     "name": "stdout",
     "output_type": "stream",
     "text": [
      "john, paul, george, ringo\n"
     ]
    }
   ],
   "source": [
    "def print_nice(a_lst):\n",
    "    s = ''\n",
    "    for item in a_lst:\n",
    "        s += item + ', '\n",
    "    if len(s) > 0:\n",
    "        s = s[:-2]\n",
    "    print(s)\n",
    "\n",
    "print_nice(['john', 'paul', 'george', 'ringo'])"
   ]
  },
  {
   "cell_type": "code",
   "execution_count": 22,
   "id": "18151f8c-3938-48dd-b809-5510307dccb8",
   "metadata": {},
   "outputs": [
    {
     "name": "stdout",
     "output_type": "stream",
     "text": [
      "john, paul, george, ringo\n"
     ]
    }
   ],
   "source": [
    "print(', '.join(['john', 'paul', 'george', 'ringo']))"
   ]
  },
  {
   "cell_type": "markdown",
   "id": "2cf368b6",
   "metadata": {},
   "source": [
    "# 2.7 Important String Functions"
   ]
  },
  {
   "cell_type": "markdown",
   "id": "49f1e4b4",
   "metadata": {},
   "source": [
    "Many of the functions described in this chapter are actually **methods**: members functions of the class that are called with the dot syntax.\n",
    "\n",
    "Python has some important built-in functions that are implemented for use with the fundemental types of the language. \n",
    "\n",
    "The ones listed here apply especially to strings.\n",
    "\n",
    "```\n",
    "input(prompt_str) # Prompt user for input string and return string from user\n",
    "len(str)          # Return num. of chars in str.\n",
    "max(str)          # Return char with highest code val\n",
    "min(str)          # Return char with lowest code val\n",
    "reversed(str)     # return iter with reversed str.\n",
    "sorted(str)       # return list with sorted str\n",
    "```"
   ]
  },
  {
   "cell_type": "code",
   "execution_count": 3,
   "id": "bcd79b2d",
   "metadata": {},
   "outputs": [],
   "source": [
    "str = 'This is a string'"
   ]
  },
  {
   "cell_type": "code",
   "execution_count": 4,
   "id": "a782d7a9",
   "metadata": {},
   "outputs": [
    {
     "name": "stdout",
     "output_type": "stream",
     "text": [
      "This is a stringtest\n"
     ]
    },
    {
     "data": {
      "text/plain": [
       "'test'"
      ]
     },
     "execution_count": 4,
     "metadata": {},
     "output_type": "execute_result"
    }
   ],
   "source": [
    "input(str)"
   ]
  },
  {
   "cell_type": "code",
   "execution_count": 5,
   "id": "e12588b5",
   "metadata": {},
   "outputs": [
    {
     "data": {
      "text/plain": [
       "16"
      ]
     },
     "execution_count": 5,
     "metadata": {},
     "output_type": "execute_result"
    }
   ],
   "source": [
    "len(str)"
   ]
  },
  {
   "cell_type": "code",
   "execution_count": 6,
   "id": "8ce0eba1",
   "metadata": {},
   "outputs": [
    {
     "data": {
      "text/plain": [
       "'t'"
      ]
     },
     "execution_count": 6,
     "metadata": {},
     "output_type": "execute_result"
    }
   ],
   "source": [
    "max(str)"
   ]
  },
  {
   "cell_type": "code",
   "execution_count": 7,
   "id": "6b8287d3",
   "metadata": {},
   "outputs": [
    {
     "data": {
      "text/plain": [
       "' '"
      ]
     },
     "execution_count": 7,
     "metadata": {},
     "output_type": "execute_result"
    }
   ],
   "source": [
    "min(str)"
   ]
  },
  {
   "cell_type": "code",
   "execution_count": 15,
   "id": "2f1d7cf9",
   "metadata": {},
   "outputs": [
    {
     "data": {
      "text/plain": [
       "'gnirts a si sihT'"
      ]
     },
     "execution_count": 15,
     "metadata": {},
     "output_type": "execute_result"
    }
   ],
   "source": [
    "''.join(reversed(str))"
   ]
  },
  {
   "cell_type": "code",
   "execution_count": 17,
   "id": "9430962f",
   "metadata": {},
   "outputs": [
    {
     "name": "stdout",
     "output_type": "stream",
     "text": [
      "[' ', ' ', ' ', 'T', 'a', 'g', 'h', 'i', 'i', 'i', 'n', 'r', 's', 's', 's', 't']\n"
     ]
    }
   ],
   "source": [
    "sorted_str = sorted(str)\n",
    "print(sorted_str)"
   ]
  },
  {
   "cell_type": "code",
   "execution_count": 19,
   "id": "f2ade8d0",
   "metadata": {},
   "outputs": [
    {
     "name": "stdout",
     "output_type": "stream",
     "text": [
      "32\n",
      "32\n",
      "32\n",
      "84\n",
      "97\n",
      "103\n",
      "104\n",
      "105\n",
      "105\n",
      "105\n",
      "110\n",
      "114\n",
      "115\n",
      "115\n",
      "115\n",
      "116\n"
     ]
    }
   ],
   "source": [
    "# In this case, the string  is sorted by the char value.\n",
    "\n",
    "for char in sorted_str:\n",
    "    print(ord(char))"
   ]
  },
  {
   "cell_type": "markdown",
   "id": "3c91e760",
   "metadata": {},
   "source": [
    "# 2.8 Binary, Hex, and Octal Conversion Functions"
   ]
  },
  {
   "cell_type": "code",
   "execution_count": 20,
   "id": "0bc773f8",
   "metadata": {},
   "outputs": [
    {
     "data": {
      "text/plain": [
       "'0b1111'"
      ]
     },
     "execution_count": 20,
     "metadata": {},
     "output_type": "execute_result"
    }
   ],
   "source": [
    "bin(15) # Decimal -> Binary"
   ]
  },
  {
   "cell_type": "code",
   "execution_count": 24,
   "id": "97ac1faf",
   "metadata": {},
   "outputs": [
    {
     "data": {
      "text/plain": [
       "'0xf'"
      ]
     },
     "execution_count": 24,
     "metadata": {},
     "output_type": "execute_result"
    }
   ],
   "source": [
    "hex(15) # Decimal -> Hexadecimal"
   ]
  },
  {
   "cell_type": "code",
   "execution_count": 25,
   "id": "055797c0",
   "metadata": {},
   "outputs": [
    {
     "data": {
      "text/plain": [
       "'0o17'"
      ]
     },
     "execution_count": 25,
     "metadata": {},
     "output_type": "execute_result"
    }
   ],
   "source": [
    "oct(15) # Decimal -> Octal"
   ]
  },
  {
   "cell_type": "markdown",
   "id": "df5adc61",
   "metadata": {},
   "source": [
    "These three functions automatically use the prefixes \"0b\", \"0o\", and \"0x\""
   ]
  },
  {
   "cell_type": "markdown",
   "id": "8bd2a8fa",
   "metadata": {},
   "source": [
    "# 2.9 Simple Boolean (\"is\") Methods"
   ]
  },
  {
   "cell_type": "markdown",
   "id": "c9558076",
   "metadata": {},
   "source": [
    "All of these methods begin with the word \"is\" in their name. Return either True or False. They are often used with single-character strings.\n",
    "\n",
    "| Method Name/Syntax             | Returns True if |\n",
    "| :---               |    :----:   |\n",
    "| str.isalnum()      | All Characters are alphanumeric (a letter or digit) and there is at least one char|\n",
    "| str.isalpha()      | All characters are letters of the alphabet and there is at least one char     |\n",
    "| str.isdecimal()    |  All characters are decimal digits and there is at least one char |\n",
    "| str.isdigit()      | All characters are decimal digits and there is at least one character |\n",
    "| str.isidentifier()      | The string contains a valid python identifier (symbolic) name. The first character must be a letter or underscore |\n",
    "| str.islower()      | All the letters in the string are lowercase, and there is at least one letter|\n",
    "| str.isprintable()  | All characters in the string, if any, are printable characters. This excludes special characters such as \\n and \\t |\n",
    "| str.isspace()      | All characters in the string are whitespace characters, and there is at least one |\n",
    "| str.istitle()      | Everyword in the string is a valid title, and there is at least one character. (Each word must be capitilized)|\n",
    "| str.issuper()      | All letters in the string uppercase, and  there is at least one letter. |"
   ]
  },
  {
   "cell_type": "code",
   "execution_count": 27,
   "id": "512d0d46",
   "metadata": {},
   "outputs": [
    {
     "data": {
      "text/plain": [
       "True"
      ]
     },
     "execution_count": 27,
     "metadata": {},
     "output_type": "execute_result"
    }
   ],
   "source": [
    "'asdf'.isalpha()"
   ]
  },
  {
   "cell_type": "code",
   "execution_count": 29,
   "id": "4b3c6a8b",
   "metadata": {},
   "outputs": [
    {
     "data": {
      "text/plain": [
       "True"
      ]
     },
     "execution_count": 29,
     "metadata": {},
     "output_type": "execute_result"
    }
   ],
   "source": [
    "'2'.isdecimal()"
   ]
  },
  {
   "cell_type": "code",
   "execution_count": 31,
   "id": "3aa26dc4",
   "metadata": {},
   "outputs": [
    {
     "data": {
      "text/plain": [
       "True"
      ]
     },
     "execution_count": 31,
     "metadata": {},
     "output_type": "execute_result"
    }
   ],
   "source": [
    "'1'.isdigit()"
   ]
  },
  {
   "cell_type": "code",
   "execution_count": 32,
   "id": "3daefc5c",
   "metadata": {},
   "outputs": [
    {
     "data": {
      "text/plain": [
       "True"
      ]
     },
     "execution_count": 32,
     "metadata": {},
     "output_type": "execute_result"
    }
   ],
   "source": [
    "'asdf'.islower()"
   ]
  },
  {
   "cell_type": "code",
   "execution_count": 33,
   "id": "e83b9591",
   "metadata": {},
   "outputs": [
    {
     "data": {
      "text/plain": [
       "True"
      ]
     },
     "execution_count": 33,
     "metadata": {},
     "output_type": "execute_result"
    }
   ],
   "source": [
    "'This Is True'.istitle()"
   ]
  },
  {
   "cell_type": "markdown",
   "id": "b396836b",
   "metadata": {},
   "source": [
    "# 2.10 Case Conversion Methods"
   ]
  },
  {
   "cell_type": "markdown",
   "id": "8e37f5bc",
   "metadata": {},
   "source": [
    "The methods in this section perform conversion to produce a new string.\n",
    "\n",
    "```\n",
    "str.lower()    # Produce all-lowercase string\n",
    "str.upper()    # Produce all-uppercase string\n",
    "str.title()    # 'foo foo'.title() => 'Foo Foo'\n",
    "str.swapcase() # Upper to lower, and vice versa\n",
    "```"
   ]
  },
  {
   "cell_type": "code",
   "execution_count": 2,
   "id": "99d108df",
   "metadata": {},
   "outputs": [
    {
     "name": "stdout",
     "output_type": "stream",
     "text": [
      "I'M HENRY VIII, I AM!\n"
     ]
    }
   ],
   "source": [
    "my_str = \"I'm Henry VIII, I am!\"\n",
    "my_str = my_str.upper()\n",
    "print(my_str) # => I'M HENRY VIII, I AM!"
   ]
  },
  {
   "cell_type": "code",
   "execution_count": 6,
   "id": "2a08b164",
   "metadata": {},
   "outputs": [
    {
     "name": "stdout",
     "output_type": "stream",
     "text": [
      "i'm henry viii, i am!\n"
     ]
    }
   ],
   "source": [
    "my_str = my_str.lower() #=> \"i'm henry viii, i am!\"\n",
    "print(my_str)"
   ]
  },
  {
   "cell_type": "code",
   "execution_count": 7,
   "id": "7618291d",
   "metadata": {},
   "outputs": [
    {
     "name": "stdout",
     "output_type": "stream",
     "text": [
      "I'M Henry Viii, I Am!\n"
     ]
    }
   ],
   "source": [
    "my_str = my_str.title()\n",
    "print(my_str) # => I'M Henry Viii, I Am!"
   ]
  },
  {
   "cell_type": "code",
   "execution_count": 8,
   "id": "67f7ad7c",
   "metadata": {},
   "outputs": [
    {
     "name": "stdout",
     "output_type": "stream",
     "text": [
      "i'm hENRY vIII, i aM!\n"
     ]
    }
   ],
   "source": [
    "my_str = my_str.swapcase()\n",
    "print(my_str) # => i'm hENRY vIII, i aM!"
   ]
  },
  {
   "cell_type": "markdown",
   "id": "620ca8b1",
   "metadata": {},
   "source": [
    "# 2.11 Search-And Replace Methods"
   ]
  },
  {
   "cell_type": "markdown",
   "id": "690c37c4",
   "metadata": {},
   "source": [
    "The Search-and-replace methods are among the most useful of the str class methods. In this section, we first look at startswith and endswith, and then present the other search-and-replace functions\n",
    "\n",
    "```\n",
    "str.startswith(substr) # Returns True if prefix is found\n",
    "str.endswith(substr)   # Returns True is suffix is found\n",
    "```"
   ]
  },
  {
   "cell_type": "code",
   "execution_count": 11,
   "id": "0e7a27f4",
   "metadata": {},
   "outputs": [],
   "source": [
    "rnd_str = 'This is a regular old sentance.'"
   ]
  },
  {
   "cell_type": "code",
   "execution_count": 12,
   "id": "eb2f2f83",
   "metadata": {},
   "outputs": [
    {
     "data": {
      "text/plain": [
       "True"
      ]
     },
     "execution_count": 12,
     "metadata": {},
     "output_type": "execute_result"
    }
   ],
   "source": [
    "rnd_str.startswith('This') # => True"
   ]
  },
  {
   "cell_type": "code",
   "execution_count": 14,
   "id": "7936968e",
   "metadata": {},
   "outputs": [
    {
     "data": {
      "text/plain": [
       "True"
      ]
     },
     "execution_count": 14,
     "metadata": {},
     "output_type": "execute_result"
    }
   ],
   "source": [
    "rnd_str.endswith('sentance.') # => True"
   ]
  },
  {
   "cell_type": "code",
   "execution_count": 15,
   "id": "19e65075",
   "metadata": {},
   "outputs": [
    {
     "data": {
      "text/plain": [
       "False"
      ]
     },
     "execution_count": 15,
     "metadata": {},
     "output_type": "execute_result"
    }
   ],
   "source": [
    "rnd_str.endswith('sentance') # => False (Since the period was removed)"
   ]
  },
  {
   "cell_type": "markdown",
   "id": "2bfcf5f5",
   "metadata": {},
   "source": [
    "```\n",
    "str.count(substr [, beg [, end]])\n",
    "str.find(substr [, beg [, end]])\n",
    "str.index() # Like find, but raises exception\n",
    "str.rfind() # Like find, but starts from end\n",
    "str.replace(old, new [, count]) # count is optional; limits # no. of replacements\n",
    "```\n",
    "\n",
    "In this syntax the brackets are not intended literally but represent optional items."
   ]
  },
  {
   "cell_type": "markdown",
   "id": "a23211d9",
   "metadata": {},
   "source": [
    "The **count** method reports the number of occurrences of a target substring."
   ]
  },
  {
   "cell_type": "code",
   "execution_count": 2,
   "id": "79bd142d",
   "metadata": {},
   "outputs": [
    {
     "data": {
      "text/plain": [
       "3"
      ]
     },
     "execution_count": 2,
     "metadata": {},
     "output_type": "execute_result"
    }
   ],
   "source": [
    "string = 'this is a string with many many many different words'\n",
    "\n",
    "string.count('many') # => 3"
   ]
  },
  {
   "cell_type": "markdown",
   "id": "be489b17",
   "metadata": {},
   "source": [
    "You can optionally use the **start** and **end** arguments with this same method call"
   ]
  },
  {
   "cell_type": "code",
   "execution_count": 3,
   "id": "432356d3",
   "metadata": {},
   "outputs": [
    {
     "data": {
      "text/plain": [
       "2"
      ]
     },
     "execution_count": 3,
     "metadata": {},
     "output_type": "execute_result"
    }
   ],
   "source": [
    "string.count('many', 23) # The start index begins after the first 'many' so only 2 are found"
   ]
  },
  {
   "cell_type": "code",
   "execution_count": 4,
   "id": "2202c174",
   "metadata": {},
   "outputs": [
    {
     "data": {
      "text/plain": [
       "2"
      ]
     },
     "execution_count": 4,
     "metadata": {},
     "output_type": "execute_result"
    }
   ],
   "source": [
    "string.count('many', 0, 32) # The end index is before the last 'many' so only 2 are found"
   ]
  },
  {
   "cell_type": "code",
   "execution_count": 9,
   "id": "e715aaf7",
   "metadata": {},
   "outputs": [
    {
     "data": {
      "text/plain": [
       "22"
      ]
     },
     "execution_count": 9,
     "metadata": {},
     "output_type": "execute_result"
    }
   ],
   "source": [
    "string.find('many') # => 22"
   ]
  },
  {
   "cell_type": "code",
   "execution_count": 10,
   "id": "8bb1d555-7c68-4b44-a453-d927866e8d89",
   "metadata": {},
   "outputs": [
    {
     "data": {
      "text/plain": [
       "'many'"
      ]
     },
     "execution_count": 10,
     "metadata": {},
     "output_type": "execute_result"
    }
   ],
   "source": [
    "string[22:26] # -> many"
   ]
  },
  {
   "cell_type": "code",
   "execution_count": 11,
   "id": "3ef69432-4556-4c69-a179-424e2d3cc7a5",
   "metadata": {},
   "outputs": [
    {
     "data": {
      "text/plain": [
       "32"
      ]
     },
     "execution_count": 11,
     "metadata": {},
     "output_type": "execute_result"
    }
   ],
   "source": [
    "string.rfind('many') # => 32"
   ]
  },
  {
   "cell_type": "code",
   "execution_count": 12,
   "id": "d65d2ecd-cad6-4ca6-a430-71fbd1c014b2",
   "metadata": {},
   "outputs": [
    {
     "data": {
      "text/plain": [
       "'this is a string with much much much different words'"
      ]
     },
     "execution_count": 12,
     "metadata": {},
     "output_type": "execute_result"
    }
   ],
   "source": [
    "string.replace('many', 'much') #=> 'this is a string with much much much different words'"
   ]
  },
  {
   "cell_type": "markdown",
   "id": "966a579f-e442-457f-8feb-e49f3183c58f",
   "metadata": {},
   "source": [
    "# 2.12 Breaking up input using \"SPLIT\""
   ]
  },
  {
   "cell_type": "markdown",
   "id": "0dc63a77-4abe-4f67-8f29-a7d22bb157d4",
   "metadata": {},
   "source": [
    "One of the most common programming tasks when dealing with character input is tokenizing - breaking down a line of input into individual words, phrases, and numbers.\n",
    "\n",
    "Python's **split** method provides an easy and convenient way to perform this task.\n",
    "\n",
    "`input_str.split(delim_string=None)`"
   ]
  },
  {
   "cell_type": "code",
   "execution_count": 19,
   "id": "ac10cdf7-0303-4a99-a124-38c617cf49c0",
   "metadata": {},
   "outputs": [
    {
     "data": {
      "text/plain": [
       "['I', 'would', 'like', 'to', 'be', '6', 'foot']"
      ]
     },
     "execution_count": 19,
     "metadata": {},
     "output_type": "execute_result"
    }
   ],
   "source": [
    "string = 'I would like to be 6 foot'\n",
    "\n",
    "string.split(' ') # => ['I', 'would', 'like', 'to', 'be', '6', 'foot']\n",
    "string.split() # => ['I', 'would', 'like', 'to', 'be', '6', 'foot']"
   ]
  },
  {
   "cell_type": "markdown",
   "id": "dec51671-6630-457f-bf5d-0e30e0589396",
   "metadata": {},
   "source": [
    "If delim_string is omitted or is None, then the behavior of\n",
    "split is to, in effect, use any sequence of one or more\n",
    "whitespace characters (spaces, tabs, and newlines) to\n",
    "distinguish one token from the next."
   ]
  },
  {
   "cell_type": "markdown",
   "id": "551a1ee8-259f-45ba-b7a8-daea639e04ff",
   "metadata": {},
   "source": [
    "# 2.13 Stripping\n",
    "\n",
    "```\n",
    "str.strip(extra_chars=' ')  # Strip leading & trailing\n",
    "str.lstrip(extra_chars=' ') # Strip leading chars.\n",
    "str.rstrip(extra_chars=' ') # Strip trailing chars.\n",
    "```"
   ]
  },
  {
   "cell_type": "code",
   "execution_count": 21,
   "id": "e9186e83-02e7-4b65-bf71-36c6f27546ca",
   "metadata": {},
   "outputs": [
    {
     "data": {
      "text/plain": [
       "'This is a very nice house..'"
      ]
     },
     "execution_count": 21,
     "metadata": {},
     "output_type": "execute_result"
    }
   ],
   "source": [
    "string = ' This is a very nice house.. '\n",
    "\n",
    "string.strip(' ') # => 'This is a very nice house..'"
   ]
  },
  {
   "cell_type": "code",
   "execution_count": 23,
   "id": "891351e6-1d7e-4f83-adb7-ece792f3d829",
   "metadata": {},
   "outputs": [
    {
     "data": {
      "text/plain": [
       "'This is a very nice house.. '"
      ]
     },
     "execution_count": 23,
     "metadata": {},
     "output_type": "execute_result"
    }
   ],
   "source": [
    "string.lstrip(' ') # => 'This is a very nice house.. '"
   ]
  },
  {
   "cell_type": "code",
   "execution_count": 24,
   "id": "6fb8b5a3-6091-4de5-a912-ac69ca39073f",
   "metadata": {},
   "outputs": [
    {
     "data": {
      "text/plain": [
       "' This is a very nice house..'"
      ]
     },
     "execution_count": 24,
     "metadata": {},
     "output_type": "execute_result"
    }
   ],
   "source": [
    "string.rstrip(' ') # => ' This is a very nice house..'"
   ]
  },
  {
   "cell_type": "markdown",
   "id": "f14cd120-f7c5-44b5-b6af-3bb6637b75f2",
   "metadata": {},
   "source": [
    "# 2.14 Justification Methods"
   ]
  },
  {
   "cell_type": "markdown",
   "id": "d1de5518-d2a7-4609-850d-24d78484078a",
   "metadata": {},
   "source": [
    "When you need to do sophisticated text formatting, you genearlly should use the techniques described in Chapter 5.\n",
    "\n",
    "However, the str class itself comes with rudimentary techniques for justyfing text: either left justifying, right, or centering text within a print field\n",
    "\n",
    "```\n",
    "str.ljust(width [, fillchar])  # Left justify\n",
    "str.rjust(width [, fillchar])  # Right justify\n",
    "str.center(width [, fillchar]) # Center the text\n",
    "digit_str.zfill(width)         # Pad with 0's\n",
    "```"
   ]
  },
  {
   "cell_type": "code",
   "execution_count": 29,
   "id": "984279d8-9981-4ba3-94e1-310d01d75e28",
   "metadata": {},
   "outputs": [],
   "source": [
    "string = 'Help!'.center(11, '*')"
   ]
  },
  {
   "cell_type": "code",
   "execution_count": 31,
   "id": "01b539ab-b7b3-4806-8f7d-8bd1e2499764",
   "metadata": {},
   "outputs": [
    {
     "name": "stdout",
     "output_type": "stream",
     "text": [
      "***Help!***\n"
     ]
    }
   ],
   "source": [
    "print(string) # => ***Help!***"
   ]
  },
  {
   "cell_type": "code",
   "execution_count": 35,
   "id": "d93954ec-1150-4694-922a-20779fafa486",
   "metadata": {},
   "outputs": [
    {
     "name": "stdout",
     "output_type": "stream",
     "text": [
      "00000Help!\n"
     ]
    }
   ],
   "source": [
    "string = 'Help!'.rjust(10, '0')\n",
    "print(string) #=> 00000Help!"
   ]
  },
  {
   "cell_type": "code",
   "execution_count": 36,
   "id": "f20fae22-542a-47f9-9558-4e017b516a96",
   "metadata": {},
   "outputs": [
    {
     "name": "stdout",
     "output_type": "stream",
     "text": [
      "Help!00000\n"
     ]
    }
   ],
   "source": [
    "string = 'Help!'.ljust(10, '0')\n",
    "print(string) #=> Help!00000"
   ]
  },
  {
   "cell_type": "markdown",
   "id": "1ca65bb7-e1ba-4360-aa1d-e4ea5aec6993",
   "metadata": {},
   "source": [
    "'123412341234a'.zfill(20) # => '0000000123412341234a'"
   ]
  },
  {
   "cell_type": "markdown",
   "id": "10602ddd-124f-42cd-b150-caff37e07554",
   "metadata": {},
   "source": [
    "# Chapter 2 Review Questions\n",
    "\n",
    "1. Does assignment to an indexed character of a string violate Python's Immutability for strings?\n",
    "\n",
    "Answer: Yes"
   ]
  },
  {
   "cell_type": "code",
   "execution_count": 41,
   "id": "35a30bb1-8906-49d6-9517-39743098b2fe",
   "metadata": {},
   "outputs": [
    {
     "ename": "TypeError",
     "evalue": "'str' object does not support item assignment",
     "output_type": "error",
     "traceback": [
      "\u001b[0;31m---------------------------------------------------------------------------\u001b[0m",
      "\u001b[0;31mTypeError\u001b[0m                                 Traceback (most recent call last)",
      "Input \u001b[0;32mIn [41]\u001b[0m, in \u001b[0;36m<cell line: 2>\u001b[0;34m()\u001b[0m\n\u001b[1;32m      1\u001b[0m string \u001b[38;5;241m=\u001b[39m \u001b[38;5;124m'\u001b[39m\u001b[38;5;124masdf\u001b[39m\u001b[38;5;124m'\u001b[39m\n\u001b[0;32m----> 2\u001b[0m string[\u001b[38;5;241m0\u001b[39m] \u001b[38;5;241m=\u001b[39m \u001b[38;5;124m'\u001b[39m\u001b[38;5;124mA\u001b[39m\u001b[38;5;124m'\u001b[39m\n",
      "\u001b[0;31mTypeError\u001b[0m: 'str' object does not support item assignment"
     ]
    }
   ],
   "source": [
    "string = 'asdf'\n",
    "string[0] = 'A'"
   ]
  },
  {
   "cell_type": "markdown",
   "id": "d604e271-0c7b-4180-830a-95bfcdbb1ea9",
   "metadata": {},
   "source": [
    "2. Does string concatenation, using the += operator, violate Python's immutability for strings?\n",
    "\n",
    "Answer: No, because an entirely new string is created in memory (if the string differs from the original)"
   ]
  },
  {
   "cell_type": "markdown",
   "id": "a58e9607-b766-49e4-8727-696eee2abc21",
   "metadata": {},
   "source": [
    "3. How many ways are the in Python to index a given character?\n",
    "\n",
    "Answer: 2 ways\n",
    "\n",
    "Specifically indexing... Given you know the index of the char.. let's say it's 3\n",
    "\n",
    "`'asdf'[3]` or `'asdf'[-1]'`\n"
   ]
  },
  {
   "cell_type": "markdown",
   "id": "8289ae7a-1c6b-45ca-bf93-b66c4c58d7d6",
   "metadata": {},
   "source": [
    "4. How, percisely, are indexing and slicing related?\n",
    "\n",
    "Answer: They are both ways to extract data from strings"
   ]
  },
  {
   "cell_type": "markdown",
   "id": "09dc777c-1d91-4198-9046-d42c135fdb36",
   "metadata": {},
   "source": [
    "5. What is the exact dta type of an indexed character? What is the data type for a substring produced from slicing?\n",
    "\n",
    "Answer to both questions: string type"
   ]
  },
  {
   "cell_type": "code",
   "execution_count": 43,
   "id": "a04f6c26-17f8-4658-8e5a-422e1c9ba689",
   "metadata": {},
   "outputs": [
    {
     "data": {
      "text/plain": [
       "str"
      ]
     },
     "execution_count": 43,
     "metadata": {},
     "output_type": "execute_result"
    }
   ],
   "source": [
    "type('asdf'[0]) #indexing = str type"
   ]
  },
  {
   "cell_type": "code",
   "execution_count": 44,
   "id": "0bfdec8f-602c-4755-9b9d-217a95ed157f",
   "metadata": {},
   "outputs": [
    {
     "data": {
      "text/plain": [
       "str"
      ]
     },
     "execution_count": 44,
     "metadata": {},
     "output_type": "execute_result"
    }
   ],
   "source": [
    "type('asdf'[0:2]) #slicing = str type"
   ]
  },
  {
   "cell_type": "markdown",
   "id": "d3af4044-f299-4d77-b476-16971ac2c05a",
   "metadata": {},
   "source": [
    "6. In python, what is the relationship between the string and character types?\n",
    "\n",
    "Answer: Both use alphabetic characters as the value"
   ]
  },
  {
   "cell_type": "markdown",
   "id": "0d0e1d9b-51e7-428a-9a4a-c4db4db04ed7",
   "metadata": {},
   "source": [
    "7. Name at least two operators and one method that enable you to build a larger string out of one or more smaller strings.\n",
    "\n",
    "Answer:\n",
    "\n",
    "`+=`, `+`, `*`, and `.join()`"
   ]
  },
  {
   "cell_type": "markdown",
   "id": "138d053f-e6dc-4efd-8ae1-399d7981636c",
   "metadata": {},
   "source": [
    "8. If you are going to use the index method to locate a substring, what is the advantage of first testing the target string by using in or not in?\n",
    "\n",
    "Answer: You can avoid an error by first checking if the substring is within the target string."
   ]
  },
  {
   "cell_type": "markdown",
   "id": "10e6fc43-5ba0-4cb4-83b8-99b79c8f72b0",
   "metadata": {},
   "source": [
    "9. Which built-in string methods, and which operators produce a simple Boolean(true/false) results?"
   ]
  },
  {
   "cell_type": "markdown",
   "id": "cc287d65-58ea-4ef0-94da-c259f9b5d7c5",
   "metadata": {},
   "source": [
    "Answer:\n",
    "\n",
    "```\n",
    ">\n",
    "<\n",
    "=>\n",
    "=<\n",
    "str.isalnum()\t\n",
    "str.isalpha()\t\n",
    "str.isdecimal()\t\n",
    "str.isdigit()\t\n",
    "str.isidentifier()\t\n",
    "str.islower()\t\n",
    "str.isprintable()\t\n",
    "str.isspace()\t\n",
    "str.istitle()\t\n",
    "str.issuper()\n",
    "```"
   ]
  },
  {
   "cell_type": "markdown",
   "id": "3e375127-d9f4-4b82-b3c8-ee7ad3301845",
   "metadata": {},
   "source": [
    "# Chapter 2 suggested problems\n",
    "\n",
    "1. Write a program that prompts for a string and counts the number of vowels and consonants, printing the results. (Hint: use the in and not in operators to reduce the amount of code you might otherwise have to write.)"
   ]
  },
  {
   "cell_type": "code",
   "execution_count": 55,
   "id": "a6fe6500-5a6d-4266-9981-ee9e1c1b7b22",
   "metadata": {},
   "outputs": [
    {
     "name": "stdin",
     "output_type": "stream",
     "text": [
      "Enter a string:  a2b\n"
     ]
    },
    {
     "name": "stdout",
     "output_type": "stream",
     "text": [
      "vowels:  1\n",
      "consonants:  1\n"
     ]
    }
   ],
   "source": [
    "user_str = input('Enter a string: ')\n",
    "\n",
    "vowels = 0\n",
    "consonants = 0\n",
    "\n",
    "for char in user_str:\n",
    "    if char.isalpha():\n",
    "        if  char in 'aeiouy':\n",
    "            vowels += 1\n",
    "        else:\n",
    "            consonants += 1\n",
    "            \n",
    "print('vowels: ', vowels)\n",
    "print('consonants: ', consonants)\n",
    "\n",
    "# Output:\n",
    "# Enter a string:  a2b\n",
    "# vowels:  1\n",
    "# consonants:  1"
   ]
  },
  {
   "cell_type": "markdown",
   "id": "a3e0c710-c219-4dfc-98ac-c691936edcae",
   "metadata": {},
   "source": [
    "2. Write a function that efficiently strips the first two characters of a string and the last two characters of a string. Returning an empty string should be an acceptable return value. Test this function with a series of different inputs."
   ]
  },
  {
   "cell_type": "code",
   "execution_count": 67,
   "id": "b4682374-835a-4308-9cd2-2ae92f757267",
   "metadata": {},
   "outputs": [
    {
     "name": "stdout",
     "output_type": "stream",
     "text": [
      "am very sorry for your lo\n",
      "Help Me\n"
     ]
    }
   ],
   "source": [
    "def two_strip(string):\n",
    "    \n",
    "    string = string[2:(len(string)-2)]\n",
    "    \n",
    "    if string == '':\n",
    "        string = 'This string is too small to strip!'\n",
    "        \n",
    "    return string\n",
    "\n",
    "print(two_strip('I am very sorry for your loss'))\n",
    "print(two_strip('00Help Me00'))"
   ]
  },
  {
   "cell_type": "code",
   "execution_count": null,
   "id": "cbb79274-007b-412d-b82a-e7b2445bcdf6",
   "metadata": {},
   "outputs": [],
   "source": []
  }
 ],
 "metadata": {
  "kernelspec": {
   "display_name": "Python 3 (ipykernel)",
   "language": "python",
   "name": "python3"
  },
  "language_info": {
   "codemirror_mode": {
    "name": "ipython",
    "version": 3
   },
   "file_extension": ".py",
   "mimetype": "text/x-python",
   "name": "python",
   "nbconvert_exporter": "python",
   "pygments_lexer": "ipython3",
   "version": "3.9.7"
  }
 },
 "nbformat": 4,
 "nbformat_minor": 5
}
