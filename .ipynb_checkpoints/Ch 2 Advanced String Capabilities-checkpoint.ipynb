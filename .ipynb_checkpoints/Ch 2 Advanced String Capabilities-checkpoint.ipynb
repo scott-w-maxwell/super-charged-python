{
 "cells": [
  {
   "cell_type": "markdown",
   "id": "c5467bba-fdd2-49f5-bcde-98995ea5a4b4",
   "metadata": {},
   "source": [
    "# 2.1 Strings Are Immutable"
   ]
  },
  {
   "cell_type": "markdown",
   "id": "5106dba2-c5e9-4f85-be9f-fc677402a234",
   "metadata": {},
   "source": [
    "Strings are immutable...\n",
    "\n",
    "One advantage of immutable types:\n",
    "\n",
    "- Strings can be used as a key for a dictionary\n",
    "- Their usage is optimized internally. ex. Tuples are somewhat more efficient than using lists.\n",
    "\n",
    "A limitation is that data cannot be changed in place"
   ]
  },
  {
   "cell_type": "code",
   "execution_count": 2,
   "id": "f2993027-4699-4cb0-a689-ce03c2124cab",
   "metadata": {},
   "outputs": [
    {
     "ename": "TypeError",
     "evalue": "'str' object does not support item assignment",
     "output_type": "error",
     "traceback": [
      "\u001b[0;31m---------------------------------------------------------------------------\u001b[0m",
      "\u001b[0;31mTypeError\u001b[0m                                 Traceback (most recent call last)",
      "\u001b[0;32m/tmp/ipykernel_25643/3165380980.py\u001b[0m in \u001b[0;36m<module>\u001b[0;34m\u001b[0m\n\u001b[1;32m      1\u001b[0m \u001b[0mmy_str\u001b[0m \u001b[0;34m=\u001b[0m \u001b[0;34m'hello, Dave, this is Hal.'\u001b[0m\u001b[0;34m\u001b[0m\u001b[0;34m\u001b[0m\u001b[0m\n\u001b[0;32m----> 2\u001b[0;31m \u001b[0mmy_str\u001b[0m\u001b[0;34m[\u001b[0m\u001b[0;36m0\u001b[0m\u001b[0;34m]\u001b[0m \u001b[0;34m=\u001b[0m \u001b[0;34m'H'\u001b[0m  \u001b[0;31m#This causes an error since strings are immutable\u001b[0m\u001b[0;34m\u001b[0m\u001b[0;34m\u001b[0m\u001b[0m\n\u001b[0m",
      "\u001b[0;31mTypeError\u001b[0m: 'str' object does not support item assignment"
     ]
    }
   ],
   "source": [
    "my_str = 'hello, Dave, this is Hal.'\n",
    "my_str[0] = 'H'  #This causes an error since strings are immutable"
   ]
  },
  {
   "cell_type": "code",
   "execution_count": 4,
   "id": "c7fd0fa7-c2ff-48d9-94f5-690a9f142a94",
   "metadata": {},
   "outputs": [],
   "source": [
    "my_str = 'hello'\n",
    "my_str = 'Hello' # This is valid as an entire new string is created"
   ]
  },
  {
   "cell_type": "markdown",
   "id": "453a9cc0-cf10-41a4-a97c-3b1cecda954a",
   "metadata": {},
   "source": [
    "# 2.2 Numeric Conversions, Including Binary"
   ]
  },
  {
   "cell_type": "code",
   "execution_count": null,
   "id": "65258aae-53f9-45c1-87b8-6377828dc0cd",
   "metadata": {},
   "outputs": [],
   "source": []
  }
 ],
 "metadata": {
  "kernelspec": {
   "display_name": "Python 3 (ipykernel)",
   "language": "python",
   "name": "python3"
  },
  "language_info": {
   "codemirror_mode": {
    "name": "ipython",
    "version": 3
   },
   "file_extension": ".py",
   "mimetype": "text/x-python",
   "name": "python",
   "nbconvert_exporter": "python",
   "pygments_lexer": "ipython3",
   "version": "3.9.7"
  }
 },
 "nbformat": 4,
 "nbformat_minor": 5
}
