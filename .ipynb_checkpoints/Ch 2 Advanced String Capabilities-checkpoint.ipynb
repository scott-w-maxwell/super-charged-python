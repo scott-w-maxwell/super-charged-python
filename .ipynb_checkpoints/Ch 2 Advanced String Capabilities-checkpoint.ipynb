{
 "cells": [
  {
   "cell_type": "markdown",
   "id": "c5467bba-fdd2-49f5-bcde-98995ea5a4b4",
   "metadata": {},
   "source": [
    "# 2.1 Strings Are Immutable"
   ]
  },
  {
   "cell_type": "markdown",
   "id": "5106dba2-c5e9-4f85-be9f-fc677402a234",
   "metadata": {},
   "source": [
    "Strings are immutable...\n",
    "\n",
    "One advantage of immutable types:\n",
    "\n",
    "- Strings can be used as a key for a dictionary\n",
    "- Their usage is optimized internally. ex. Tuples are somewhat more efficient than using lists.\n",
    "\n",
    "A limitation is that data cannot be changed in place"
   ]
  },
  {
   "cell_type": "code",
   "execution_count": 2,
   "id": "f2993027-4699-4cb0-a689-ce03c2124cab",
   "metadata": {},
   "outputs": [
    {
     "ename": "TypeError",
     "evalue": "'str' object does not support item assignment",
     "output_type": "error",
     "traceback": [
      "\u001b[0;31m---------------------------------------------------------------------------\u001b[0m",
      "\u001b[0;31mTypeError\u001b[0m                                 Traceback (most recent call last)",
      "\u001b[0;32m/tmp/ipykernel_25643/3165380980.py\u001b[0m in \u001b[0;36m<module>\u001b[0;34m\u001b[0m\n\u001b[1;32m      1\u001b[0m \u001b[0mmy_str\u001b[0m \u001b[0;34m=\u001b[0m \u001b[0;34m'hello, Dave, this is Hal.'\u001b[0m\u001b[0;34m\u001b[0m\u001b[0;34m\u001b[0m\u001b[0m\n\u001b[0;32m----> 2\u001b[0;31m \u001b[0mmy_str\u001b[0m\u001b[0;34m[\u001b[0m\u001b[0;36m0\u001b[0m\u001b[0;34m]\u001b[0m \u001b[0;34m=\u001b[0m \u001b[0;34m'H'\u001b[0m  \u001b[0;31m#This causes an error since strings are immutable\u001b[0m\u001b[0;34m\u001b[0m\u001b[0;34m\u001b[0m\u001b[0m\n\u001b[0m",
      "\u001b[0;31mTypeError\u001b[0m: 'str' object does not support item assignment"
     ]
    }
   ],
   "source": [
    "my_str = 'hello, Dave, this is Hal.'\n",
    "my_str[0] = 'H'  #This causes an error since strings are immutable"
   ]
  },
  {
   "cell_type": "code",
   "execution_count": 4,
   "id": "c7fd0fa7-c2ff-48d9-94f5-690a9f142a94",
   "metadata": {},
   "outputs": [],
   "source": [
    "my_str = 'hello'\n",
    "my_str = 'Hello' # This is valid as an entire new string is created"
   ]
  },
  {
   "cell_type": "markdown",
   "id": "453a9cc0-cf10-41a4-a97c-3b1cecda954a",
   "metadata": {},
   "source": [
    "# 2.2 Numeric Conversions, Including Binary"
   ]
  },
  {
   "cell_type": "markdown",
   "id": "c70b4f4b-ca28-48c3-a294-3a507d549b41",
   "metadata": {},
   "source": [
    "Type names in Python implicitly invoke type conversions wherever such conversions are supported.\n",
    "\n",
    "```\n",
    "type(data_object)\n",
    "```\n"
   ]
  },
  {
   "cell_type": "markdown",
   "id": "8a1bac77-068f-409a-8715-16bc0ee93e0a",
   "metadata": {},
   "source": [
    "s = '45'\n",
    "n = int(s)\n",
    "x = float(s)\n",
    "\n",
    "print('n = ', n, type(n))\n",
    "print('x = ', x, type(x))\n"
   ]
  },
  {
   "cell_type": "markdown",
   "id": "fbe80152-3a9e-4863-a6b4-cff7452fc7f3",
   "metadata": {},
   "source": [
    "If the appropriate conversion does not exist, Python raises a `ValueError` exception"
   ]
  },
  {
   "cell_type": "markdown",
   "id": "d1011b50-6b46-4542-b49b-a4ab6ce6dd33",
   "metadata": {},
   "source": [
    "The **int** conversion, unlike most conversions, takes an optional second argument. This argument enables you to convert a string to anumber while interpreting it in a different radix, such as binary."
   ]
  },
  {
   "cell_type": "code",
   "execution_count": 12,
   "id": "1226ec39-ac93-42e2-863e-95659de3efd5",
   "metadata": {},
   "outputs": [
    {
     "name": "stdout",
     "output_type": "stream",
     "text": [
      "17\n"
     ]
    }
   ],
   "source": [
    "n = int('10001', 2) # 10001 = 17 in decimal\n",
    "print(n)"
   ]
  },
  {
   "cell_type": "markdown",
   "id": "b40dd946-2eb0-4a84-a35c-e9f5ac90253a",
   "metadata": {},
   "source": [
    "Converting a number to a string enables you to do operations such as counting the number of printable digits or counting the number of times a specific digit occurs. For example, the following statements print the length of the number 10007."
   ]
  },
  {
   "cell_type": "code",
   "execution_count": 13,
   "id": "b87292d7-677f-456f-a97a-bd3bf2de2999",
   "metadata": {},
   "outputs": [
    {
     "name": "stdout",
     "output_type": "stream",
     "text": [
      "The length of 1007 is 4 digits.\n"
     ]
    }
   ],
   "source": [
    "n = 1007\n",
    "s = str(n) # convert to '1007'\n",
    "print('The length of', n, 'is', len(s), 'digits.')"
   ]
  },
  {
   "cell_type": "markdown",
   "id": "4d74066c-1c42-42ae-8a43-3b8135a63610",
   "metadata": {},
   "source": [
    "# 2.3 - String Operators (+, =, *, >, etc.)"
   ]
  },
  {
   "cell_type": "markdown",
   "id": "3cd5f42c-bfb9-4ab0-a76f-4b4afd798171",
   "metadata": {},
   "source": [
    "dog1_str = 'Rover'\n",
    "dog2_str = dog1_str\n",
    "\n",
    "dog1_str == dog2_str #True\n",
    "dog1_str == 'Rover' #True"
   ]
  },
  {
   "cell_type": "markdown",
   "id": "f75166b9-3450-4e67-a8c1-1d57edd02d2b",
   "metadata": {},
   "source": [
    "You can use **lower()** and **upper()** methods to convert to lower or upper case.\n",
    "\n",
    "However, if you are working with strings that user wider Unicode character set, the safest way to do case-insensitive comparisons is to use the **casefold()** method..."
   ]
  },
  {
   "cell_type": "code",
   "execution_count": 9,
   "id": "b3483ad3-faf7-4a01-b2b5-a31f775d7877",
   "metadata": {},
   "outputs": [
    {
     "data": {
      "text/plain": [
       "'dog'"
      ]
     },
     "execution_count": 9,
     "metadata": {},
     "output_type": "execute_result"
    }
   ],
   "source": [
    "'DOG'.casefold()"
   ]
  },
  {
   "cell_type": "code",
   "execution_count": 12,
   "id": "ab2ba599-3ef5-4a99-b683-eea5063bb08d",
   "metadata": {},
   "outputs": [
    {
     "data": {
      "text/plain": [
       "True"
      ]
     },
     "execution_count": 12,
     "metadata": {},
     "output_type": "execute_result"
    }
   ],
   "source": [
    "'DOG'.lower() == 'DOG'.casefold()"
   ]
  },
  {
   "cell_type": "code",
   "execution_count": 13,
   "id": "3509824e-3e1c-482c-b6c7-99364f9bc8f3",
   "metadata": {},
   "outputs": [],
   "source": [
    "str1 = 'dog'\n",
    "str2 = 'elephant'"
   ]
  },
  {
   "cell_type": "code",
   "execution_count": 16,
   "id": "c9baf3e3-a17d-4745-8134-185f035109c8",
   "metadata": {},
   "outputs": [
    {
     "data": {
      "text/plain": [
       "False"
      ]
     },
     "execution_count": 16,
     "metadata": {},
     "output_type": "execute_result"
    }
   ],
   "source": [
    "str1 > str2 # returns false since str1 does not have more characters than str2"
   ]
  },
  {
   "cell_type": "code",
   "execution_count": 15,
   "id": "aff2170b-687f-4227-a648-16e4b74368a6",
   "metadata": {},
   "outputs": [
    {
     "data": {
      "text/plain": [
       "True"
      ]
     },
     "execution_count": 15,
     "metadata": {},
     "output_type": "execute_result"
    }
   ],
   "source": [
    "str1 < str2 # returns true since str1 has less characters than str2"
   ]
  },
  {
   "cell_type": "code",
   "execution_count": 19,
   "id": "47d47ce0-160c-4a0e-ac87-a4c0d2801bfb",
   "metadata": {},
   "outputs": [
    {
     "data": {
      "text/plain": [
       "'dogdogdogdogdog'"
      ]
     },
     "execution_count": 19,
     "metadata": {},
     "output_type": "execute_result"
    }
   ],
   "source": [
    "str1 * 5 # Multiplication..."
   ]
  },
  {
   "cell_type": "markdown",
   "id": "b6b90709-f47d-43eb-84d3-c4ef9e6996f9",
   "metadata": {},
   "source": [
    "Careful when using **is** and **is not** operators. These operators test for whether or not two values are *the same object in memory*."
   ]
  },
  {
   "cell_type": "code",
   "execution_count": 28,
   "id": "685e92a6-63d2-47ef-af45-bb9ce39e30a4",
   "metadata": {},
   "outputs": [
    {
     "name": "stdout",
     "output_type": "stream",
     "text": [
      "str1 is str2: True\n"
     ]
    }
   ],
   "source": [
    "str1 = 'dog'\n",
    "str2 = 'dog'\n",
    "\n",
    "print('str1 is str2:', str1 is str2) # this is only true due since python pointing both var names to the same object in memory"
   ]
  },
  {
   "cell_type": "markdown",
   "id": "be9efb0f-1865-4139-b573-dee17d4362fa",
   "metadata": {},
   "source": [
    "# 2.4 Indexing and Slicing"
   ]
  },
  {
   "cell_type": "markdown",
   "id": "4e242ec2-b3c6-427f-b2a8-bfa1fb5597d0",
   "metadata": {},
   "source": [
    "Indexing: Users a number to refer to an individual character, according to its place within the string\n",
    "\n",
    "Slicing: Is an ability more unique to Python. It enables you to refer to an entire substring of characters by using a compact syntax"
   ]
  },
  {
   "cell_type": "code",
   "execution_count": 41,
   "id": "804a2df8-9f12-4455-9c92-661ac94121ed",
   "metadata": {},
   "outputs": [
    {
     "data": {
      "text/plain": [
       "'King'"
      ]
     },
     "execution_count": 41,
     "metadata": {},
     "output_type": "execute_result"
    }
   ],
   "source": [
    "'King Me!'[0:4] #Slicing 'King'"
   ]
  },
  {
   "cell_type": "code",
   "execution_count": 44,
   "id": "7d988128-35ee-474a-91bf-2d31eef0fa32",
   "metadata": {},
   "outputs": [
    {
     "data": {
      "text/plain": [
       "'Me!'"
      ]
     },
     "execution_count": 44,
     "metadata": {},
     "output_type": "execute_result"
    }
   ],
   "source": [
    "'King Me!'[5:8] #Slicing 'Me!' | Notice that there is not an 8th index but python permits this anyhow"
   ]
  },
  {
   "cell_type": "code",
   "execution_count": null,
   "id": "58f6035d-06cc-4bcb-aa75-0090cbd50471",
   "metadata": {},
   "outputs": [],
   "source": []
  }
 ],
 "metadata": {
  "kernelspec": {
   "display_name": "Python 3 (ipykernel)",
   "language": "python",
   "name": "python3"
  },
  "language_info": {
   "codemirror_mode": {
    "name": "ipython",
    "version": 3
   },
   "file_extension": ".py",
   "mimetype": "text/x-python",
   "name": "python",
   "nbconvert_exporter": "python",
   "pygments_lexer": "ipython3",
   "version": "3.9.7"
  }
 },
 "nbformat": 4,
 "nbformat_minor": 5
}
